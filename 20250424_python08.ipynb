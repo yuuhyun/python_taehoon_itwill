{
  "nbformat": 4,
  "nbformat_minor": 0,
  "metadata": {
    "colab": {
      "provenance": [],
      "authorship_tag": "ABX9TyNYlqJJjJcwvSiRXNzQiIpA",
      "include_colab_link": true
    },
    "kernelspec": {
      "name": "python3",
      "display_name": "Python 3"
    },
    "language_info": {
      "name": "python"
    }
  },
  "cells": [
    {
      "cell_type": "markdown",
      "metadata": {
        "id": "view-in-github",
        "colab_type": "text"
      },
      "source": [
        "<a href=\"https://colab.research.google.com/github/yuuhyun/python_taehoon_itwill/blob/main/20250424_python08.ipynb\" target=\"_parent\"><img src=\"https://colab.research.google.com/assets/colab-badge.svg\" alt=\"Open In Colab\"/></a>"
      ]
    },
    {
      "cell_type": "code",
      "execution_count": null,
      "metadata": {
        "id": "G0EFH2wnml8G"
      },
      "outputs": [],
      "source": [
        "import random # 난수 생성 함수(들)을 사용하기 위해서(random.randrange, ...)\n",
        "import math # 수학 함수(들)을 사용하기 위해서(math.sqrt, ...)"
      ]
    },
    {
      "cell_type": "markdown",
      "source": [
        "# Ex 1."
      ],
      "metadata": {
        "id": "jo1u0tIdmpme"
      }
    },
    {
      "cell_type": "markdown",
      "source": [
        "아래의 리스트 fruits에 저장된 문자열들의 길이를 저장하는 리스트를 만들고 출력하세요."
      ],
      "metadata": {
        "id": "7P2ppNi5nJgm"
      }
    },
    {
      "cell_type": "code",
      "source": [
        "fruits = ['apple', 'banana', 'cherry', 'durian', 'watermelon']\n",
        "len_fruits = []\n",
        "\n",
        "for x in (range(len(fruits))):\n",
        "    len_fruits.append(len(fruits[x]))\n",
        "\n",
        "print(len_fruits)"
      ],
      "metadata": {
        "colab": {
          "base_uri": "https://localhost:8080/"
        },
        "id": "v_bOGj-vnM_-",
        "outputId": "f097819a-46c3-44f2-8d0f-a4de8d4e3be9"
      },
      "execution_count": null,
      "outputs": [
        {
          "output_type": "stream",
          "name": "stdout",
          "text": [
            "[5, 6, 6, 6, 10]\n"
          ]
        }
      ]
    },
    {
      "cell_type": "markdown",
      "source": [
        "# Ex 2."
      ],
      "metadata": {
        "id": "e-QKieT8nNLm"
      }
    },
    {
      "cell_type": "markdown",
      "source": [
        "* 1 이상 4 이하 범위의 난수 10개를 저장하는 리스트 gender_codes를 만들고 출력하세요.\n",
        "* gender_codes의 값이 1 또는 3이면 'Male', 2 또는 4이면 'Female'을 저장하는 리스트 genders를 만들고 출력하세요."
      ],
      "metadata": {
        "id": "nzKb4lz4nQH2"
      }
    },
    {
      "cell_type": "code",
      "source": [
        "gender_codes = []\n",
        "\n",
        "gender_codes = [random.randrange(4) for _ in range(10)]\n",
        "print(gender_codes)\n",
        "\n",
        "genders = []\n",
        "\n",
        "for x in gender_codes:\n",
        "    if x == 1 or x == 3:\n",
        "        genders.append('Male')\n",
        "    elif x == 2 or x == 4:\n",
        "        genders.append('Female')\n",
        "\n",
        "# genders = ['Male' if x==1 or x==3 else 'Female' for x in gender_codes]\n",
        "\n",
        "print(genders)"
      ],
      "metadata": {
        "colab": {
          "base_uri": "https://localhost:8080/",
          "height": 349
        },
        "id": "mvEauurHnOv1",
        "outputId": "35326891-37d8-426f-d8ae-584a0c31007a"
      },
      "execution_count": null,
      "outputs": [
        {
          "output_type": "error",
          "ename": "NameError",
          "evalue": "name 'random' is not defined",
          "traceback": [
            "\u001b[0;31m---------------------------------------------------------------------------\u001b[0m",
            "\u001b[0;31mNameError\u001b[0m                                 Traceback (most recent call last)",
            "\u001b[0;32m<ipython-input-11-124c66fb94d3>\u001b[0m in \u001b[0;36m<cell line: 0>\u001b[0;34m()\u001b[0m\n\u001b[1;32m      1\u001b[0m \u001b[0mgender_codes\u001b[0m \u001b[0;34m=\u001b[0m \u001b[0;34m[\u001b[0m\u001b[0;34m]\u001b[0m\u001b[0;34m\u001b[0m\u001b[0;34m\u001b[0m\u001b[0m\n\u001b[1;32m      2\u001b[0m \u001b[0;34m\u001b[0m\u001b[0m\n\u001b[0;32m----> 3\u001b[0;31m \u001b[0mgender_codes\u001b[0m \u001b[0;34m=\u001b[0m \u001b[0;34m[\u001b[0m\u001b[0mrandom\u001b[0m\u001b[0;34m.\u001b[0m\u001b[0mrandrange\u001b[0m\u001b[0;34m(\u001b[0m\u001b[0;36m4\u001b[0m\u001b[0;34m)\u001b[0m \u001b[0;32mfor\u001b[0m \u001b[0m_\u001b[0m \u001b[0;32min\u001b[0m \u001b[0mrange\u001b[0m\u001b[0;34m(\u001b[0m\u001b[0;36m10\u001b[0m\u001b[0;34m)\u001b[0m\u001b[0;34m]\u001b[0m\u001b[0;34m\u001b[0m\u001b[0;34m\u001b[0m\u001b[0m\n\u001b[0m\u001b[1;32m      4\u001b[0m \u001b[0mprint\u001b[0m\u001b[0;34m(\u001b[0m\u001b[0mgender_codes\u001b[0m\u001b[0;34m)\u001b[0m\u001b[0;34m\u001b[0m\u001b[0;34m\u001b[0m\u001b[0m\n\u001b[1;32m      5\u001b[0m \u001b[0;34m\u001b[0m\u001b[0m\n",
            "\u001b[0;32m<ipython-input-11-124c66fb94d3>\u001b[0m in \u001b[0;36m<listcomp>\u001b[0;34m(.0)\u001b[0m\n\u001b[1;32m      1\u001b[0m \u001b[0mgender_codes\u001b[0m \u001b[0;34m=\u001b[0m \u001b[0;34m[\u001b[0m\u001b[0;34m]\u001b[0m\u001b[0;34m\u001b[0m\u001b[0;34m\u001b[0m\u001b[0m\n\u001b[1;32m      2\u001b[0m \u001b[0;34m\u001b[0m\u001b[0m\n\u001b[0;32m----> 3\u001b[0;31m \u001b[0mgender_codes\u001b[0m \u001b[0;34m=\u001b[0m \u001b[0;34m[\u001b[0m\u001b[0mrandom\u001b[0m\u001b[0;34m.\u001b[0m\u001b[0mrandrange\u001b[0m\u001b[0;34m(\u001b[0m\u001b[0;36m4\u001b[0m\u001b[0;34m)\u001b[0m \u001b[0;32mfor\u001b[0m \u001b[0m_\u001b[0m \u001b[0;32min\u001b[0m \u001b[0mrange\u001b[0m\u001b[0;34m(\u001b[0m\u001b[0;36m10\u001b[0m\u001b[0;34m)\u001b[0m\u001b[0;34m]\u001b[0m\u001b[0;34m\u001b[0m\u001b[0;34m\u001b[0m\u001b[0m\n\u001b[0m\u001b[1;32m      4\u001b[0m \u001b[0mprint\u001b[0m\u001b[0;34m(\u001b[0m\u001b[0mgender_codes\u001b[0m\u001b[0;34m)\u001b[0m\u001b[0;34m\u001b[0m\u001b[0;34m\u001b[0m\u001b[0m\n\u001b[1;32m      5\u001b[0m \u001b[0;34m\u001b[0m\u001b[0m\n",
            "\u001b[0;31mNameError\u001b[0m: name 'random' is not defined"
          ]
        }
      ]
    },
    {
      "cell_type": "markdown",
      "source": [
        "# Ex 3."
      ],
      "metadata": {
        "id": "wMO_3k4VoP0W"
      }
    },
    {
      "cell_type": "markdown",
      "source": [
        "아래의 두 차원 리스트 m1, m2에서 같은 인덱스에 있는 원소들끼리의 덧셈 결과를 저장하는 리스트를 만들고 출력하세요."
      ],
      "metadata": {
        "id": "9F8ou3yToRVm"
      }
    },
    {
      "cell_type": "code",
      "source": [
        "m1 = [\n",
        "    [1, 2, 3],\n",
        "    [4, 5, 6]\n",
        "]\n",
        "\n",
        "m2 = [\n",
        "    [1, 1, 1],\n",
        "    [2, 2, 2]\n",
        "]\n",
        "\n",
        "m3 =[\n",
        "    [0 ,0, 0],\n",
        "    [0, 0, 0]\n",
        "]\n",
        "\n",
        "for i in range(0, len(m1)):\n",
        "    for j in range(0, len(m1[i])):\n",
        "        m3[i][j]= m1[i][j] + m2[i][j]\n",
        "\n",
        "print(m3)"
      ],
      "metadata": {
        "colab": {
          "base_uri": "https://localhost:8080/"
        },
        "id": "tEgir6WboXbn",
        "outputId": "4b453c86-3270-4de7-852c-1f9b24f52607"
      },
      "execution_count": null,
      "outputs": [
        {
          "output_type": "stream",
          "name": "stdout",
          "text": [
            "[[2, 3, 4], [6, 7, 8]]\n"
          ]
        }
      ]
    },
    {
      "cell_type": "code",
      "source": [
        "# 강사님 code\n",
        "\n",
        "m1 = [\n",
        "    [1, 2, 3],\n",
        "    [4, 5, 6]\n",
        "]\n",
        "\n",
        "m2 = [\n",
        "    [1, 1, 1],\n",
        "    [2, 2, 2]\n",
        "]\n",
        "\n",
        "result = []\n",
        "\n",
        "for row1, row2 in zip(m1, m2):\n",
        "    row_plus = []\n",
        "    for x, y in zip(row1, row2):\n",
        "        row_plus.append(x + y)\n",
        "    result.append(row_plus)\n",
        "\n",
        "print(result)"
      ],
      "metadata": {
        "colab": {
          "base_uri": "https://localhost:8080/"
        },
        "id": "ws-q2ZmcvtPy",
        "outputId": "c8456ab9-1a74-4175-cd53-0e2694dd9c33"
      },
      "execution_count": null,
      "outputs": [
        {
          "output_type": "stream",
          "name": "stdout",
          "text": [
            "[[2, 3, 4], [6, 7, 8]]\n"
          ]
        }
      ]
    },
    {
      "cell_type": "code",
      "source": [
        "result = []\n",
        "for row1, row2 in zip(m1, m2):\n",
        "    row_plus = [x+y for x, y in zip(row1, row2)]\n",
        "    result.append(row_plus)\n",
        "\n",
        "print(result)"
      ],
      "metadata": {
        "colab": {
          "base_uri": "https://localhost:8080/"
        },
        "id": "UsVcV-scUA6q",
        "outputId": "8302be50-eeea-4aa2-cbad-6399191056bf"
      },
      "execution_count": null,
      "outputs": [
        {
          "output_type": "stream",
          "name": "stdout",
          "text": [
            "[[2, 3, 4], [6, 7, 8]]\n"
          ]
        }
      ]
    },
    {
      "cell_type": "code",
      "source": [
        "result = [[x + y for x, y in zip(row1, row2)] for row1, row2 in zip(m1, m2)]\n",
        "print(result)"
      ],
      "metadata": {
        "colab": {
          "base_uri": "https://localhost:8080/"
        },
        "id": "-9ctUA_aViY6",
        "outputId": "9f6d810c-b2c5-43e9-f70e-dd58bd8ba028"
      },
      "execution_count": null,
      "outputs": [
        {
          "output_type": "stream",
          "name": "stdout",
          "text": [
            "[[2, 3, 4], [6, 7, 8]]\n"
          ]
        }
      ]
    },
    {
      "cell_type": "markdown",
      "source": [
        "#Ex 4.\n",
        "1 이상 10 이하의 정수 5개를 저장하는 리스트 scores를 만들고 출력하세요."
      ],
      "metadata": {
        "id": "uh6_h2YqyhIa"
      }
    },
    {
      "cell_type": "code",
      "source": [
        "num_of_items = 5 # 정수를 몇개 저장할 것인지에 대한 변수\n",
        "scores = [] # 리스트 선언\n",
        "\n",
        "for i in range(num_of_items): # 저장할 정수의 갯수 만큼 for문을 반복\n",
        "    scores.append(random.randrange(10)) # scores에 1 이상 10 이하의 난수 정수를 추가한다.\n",
        "\n",
        "print(scores)"
      ],
      "metadata": {
        "colab": {
          "base_uri": "https://localhost:8080/"
        },
        "id": "RQwdnkbxyflj",
        "outputId": "b9d91413-835f-45e7-8f79-af7349e0d24d"
      },
      "execution_count": null,
      "outputs": [
        {
          "output_type": "stream",
          "name": "stdout",
          "text": [
            "[7, 1, 6, 9, 3]\n"
          ]
        }
      ]
    },
    {
      "cell_type": "markdown",
      "source": [
        "# Ex 5.\n",
        "문제 4에서 만든 리스트 scores의 원소들의 합계를 계산하고 출력하세요."
      ],
      "metadata": {
        "id": "VSClrYMvyg0i"
      }
    },
    {
      "cell_type": "code",
      "source": [
        "sum = 0 # 합계를 계산할 변수 선언\n",
        "\n",
        "for i in range(len(scores)): # scores 리스트의 변수 수(길이)만큼 for문을 반복\n",
        "    sum += scores[i] # scores[i]의 값을 모두 더한다.\n",
        "\n",
        "print(sum)"
      ],
      "metadata": {
        "colab": {
          "base_uri": "https://localhost:8080/"
        },
        "id": "YBK-y2Emyf2K",
        "outputId": "873fe639-7621-4535-a61d-dfb990669822"
      },
      "execution_count": null,
      "outputs": [
        {
          "output_type": "stream",
          "name": "stdout",
          "text": [
            "26\n"
          ]
        }
      ]
    },
    {
      "cell_type": "code",
      "source": [
        "total = sum(scores)\n",
        "print(total)"
      ],
      "metadata": {
        "colab": {
          "base_uri": "https://localhost:8080/"
        },
        "id": "Zwb0CtcXZDNM",
        "outputId": "0f03b499-53e7-4d15-fe70-3e7b822dbd39"
      },
      "execution_count": null,
      "outputs": [
        {
          "output_type": "stream",
          "name": "stdout",
          "text": [
            "26\n"
          ]
        }
      ]
    },
    {
      "cell_type": "markdown",
      "source": [
        "# Ex 6.\n",
        "문제 4에서 만든 리스트 scores의 원소들의 평균을 계산하고 출력하세요."
      ],
      "metadata": {
        "id": "8hCp9DlUyywD"
      }
    },
    {
      "cell_type": "code",
      "source": [
        "avg = 0 # 평균을 계산할 변수 선언\n",
        "\n",
        "for i in range(len(scores)): # scores 리스트의 변수 수(길이)만큼 for문을 반복\n",
        "    avg += scores[i] # scores[i]의 값을 모두 더한다. 여기까지 Ex 5.와 과정이 동일\n",
        "\n",
        "avg /= len(scores) # 그 값을 변수 수(길이) 만큼 나눈다. 평균은 모든 수를 더한 뒤 그 가짓수만큼 나눈 값이기 때문.\n",
        "\n",
        "print(avg)"
      ],
      "metadata": {
        "colab": {
          "base_uri": "https://localhost:8080/"
        },
        "id": "DrZTzaPsy0VD",
        "outputId": "231f22ca-b952-4cda-c08b-561aa49a73f5"
      },
      "execution_count": null,
      "outputs": [
        {
          "output_type": "stream",
          "name": "stdout",
          "text": [
            "5.2\n"
          ]
        }
      ]
    },
    {
      "cell_type": "markdown",
      "source": [
        "# Ex 7.\n",
        "문제 4에서 만든 리스트 scores의 원소들의 분산을 계산하고 출력하세요."
      ],
      "metadata": {
        "id": "JqRY6q-yy0oa"
      }
    },
    {
      "cell_type": "code",
      "source": [
        "# 분산 = (원소의 값 - 평균)^2 를 모두 더한 뒤 n-1로 나눈다.\n",
        "# 평균은 Ex 6.에서 구했으므로 그 값(avg)을 이용.\n",
        "\n",
        "var = 0 # 분산을 계산할 변수 선언\n",
        "\n",
        "for i in range(len(scores)):  # scores 리스트의 변수 수(길이)만큼 for문을 반복\n",
        "    var += (scores[i] - avg) ** 2 # scores[i]의 값에 평균을 뺀 값의 제곱을 모두 더한다 (과정 1)\n",
        "\n",
        "var /= (len(scores) - 1) # {과정 1에서 구한 값 / [변수 수(길이) - 1]} = 분산이 된다. (과정 2)\n",
        "\n",
        "print(var)"
      ],
      "metadata": {
        "colab": {
          "base_uri": "https://localhost:8080/"
        },
        "id": "TdEV-qAxy2wT",
        "outputId": "370b11ac-6a26-464f-cc09-382a48899794"
      },
      "execution_count": null,
      "outputs": [
        {
          "output_type": "stream",
          "name": "stdout",
          "text": [
            "10.200000000000001\n"
          ]
        }
      ]
    },
    {
      "cell_type": "code",
      "source": [
        "#variations = []\n",
        "#for x in scores:\n",
        "#    variations.append((x-avg)**2)\n",
        "#print(variations)\n",
        "\n",
        "variations = [(x-avg) ** 2 for x in scores]\n",
        "print(variations)\n",
        "\n",
        "var = sum(variations) / (num_of_items-1)\n",
        "print(var)"
      ],
      "metadata": {
        "colab": {
          "base_uri": "https://localhost:8080/"
        },
        "id": "Rmp7DWV4gDIP",
        "outputId": "b952860d-ce90-4d3d-d5bb-6bbbe862e77b"
      },
      "execution_count": null,
      "outputs": [
        {
          "output_type": "stream",
          "name": "stdout",
          "text": [
            "[3.2399999999999993, 17.64, 0.6399999999999997, 14.44, 4.840000000000001]\n",
            "10.200000000000001\n"
          ]
        }
      ]
    },
    {
      "cell_type": "markdown",
      "source": [
        "# Ex 8.\n",
        "문제 4에서 만든 리스트 scores의 원소들의 표준편차를 계산하고 출력하세요."
      ],
      "metadata": {
        "id": "5MRPS_scy2-z"
      }
    },
    {
      "cell_type": "code",
      "source": [
        "# 표준편차 = 분산의 제곱근\n",
        "# 분산은 Ex.7에서 구했으므로 그 값(var)을 이용.\n",
        "\n",
        "std = 0\n",
        "\n",
        "std = var ** (1/2) # 어떤 수에 1/2를 제곱하면 그 수의 제곱근이 구해진다.\n",
        "\n",
        "print(std)"
      ],
      "metadata": {
        "colab": {
          "base_uri": "https://localhost:8080/"
        },
        "id": "sVVTtMW_y55j",
        "outputId": "4c0ac2b8-9747-40f9-8338-e1b50dfc39ef"
      },
      "execution_count": null,
      "outputs": [
        {
          "output_type": "stream",
          "name": "stdout",
          "text": [
            "3.1937438845342627\n"
          ]
        }
      ]
    },
    {
      "cell_type": "code",
      "source": [
        "std = math.sqrt(var)\n",
        "print(std)"
      ],
      "metadata": {
        "colab": {
          "base_uri": "https://localhost:8080/"
        },
        "id": "DAi7cWQqhpw4",
        "outputId": "3ec2b9cd-a731-4d34-f29e-bf358bc0dd4d"
      },
      "execution_count": null,
      "outputs": [
        {
          "output_type": "stream",
          "name": "stdout",
          "text": [
            "3.1937438845342627\n"
          ]
        }
      ]
    },
    {
      "cell_type": "markdown",
      "source": [
        "# Ex 9.\n",
        "문제 4에서 만든 리스트 scores에서 최댓값을 찾고 출력하세요."
      ],
      "metadata": {
        "id": "AMu5RrcFy7oL"
      }
    },
    {
      "cell_type": "code",
      "source": [
        "max = 0 # 최댓값 변수 max 선언\n",
        "\n",
        "for i in range(len(scores)): # scores의 원소 갯수만큼까지 for문을 반복\n",
        "    if max < scores[i]: # 만약 max의 값이 scores[i]보다 작다면\n",
        "        max = scores[i] # max의 값은 scores[i]가 된다.\n",
        "\n",
        "print(max)"
      ],
      "metadata": {
        "colab": {
          "base_uri": "https://localhost:8080/"
        },
        "id": "1Ut3bONay9Yc",
        "outputId": "b70dff17-982c-4e8b-b687-256c23aea77b"
      },
      "execution_count": null,
      "outputs": [
        {
          "output_type": "stream",
          "name": "stdout",
          "text": [
            "9\n"
          ]
        }
      ]
    },
    {
      "cell_type": "code",
      "source": [
        "del max\n",
        "max(scores)"
      ],
      "metadata": {
        "colab": {
          "base_uri": "https://localhost:8080/"
        },
        "id": "EZabRVwgia8A",
        "outputId": "e9058589-de9c-4878-ec50-830a944b6420"
      },
      "execution_count": null,
      "outputs": [
        {
          "output_type": "execute_result",
          "data": {
            "text/plain": [
              "9"
            ]
          },
          "metadata": {},
          "execution_count": 46
        }
      ]
    },
    {
      "cell_type": "code",
      "source": [
        "max_scores=scores[0]\n",
        "for x in scores:\n",
        "    if x > max_scores:\n",
        "        max_scores = x\n",
        "\n",
        "print(max_scores)"
      ],
      "metadata": {
        "colab": {
          "base_uri": "https://localhost:8080/"
        },
        "id": "aEOlTijbktYp",
        "outputId": "f9ad4553-6c68-40ed-c3ba-2b6395230904"
      },
      "execution_count": null,
      "outputs": [
        {
          "output_type": "stream",
          "name": "stdout",
          "text": [
            "9\n"
          ]
        }
      ]
    },
    {
      "cell_type": "markdown",
      "source": [
        "# EX 10.\n",
        "문제 4에서 만든 리스트 scores에서 최솟값을 찾고 출력하세요."
      ],
      "metadata": {
        "id": "ac7myKoAy9pj"
      }
    },
    {
      "cell_type": "code",
      "source": [
        "min = 0 # 최솟값 변수 min 선언\n",
        "\n",
        "for i in range(len(scores)): # scores의 원소 갯수만큼까지 for문을 반복\n",
        "        if i == 0: # 최초로 값을 비교한 시점에서\n",
        "            min = scores[i] # min의 값은 scores[0]이 된다. scores에서 최솟값을 구하지만, scores는 1 이상의 정수 이기 때문에 0보다 무조건 크기 때문.\n",
        "        elif min > scores[i]: # min이 scores[i]보다 크다면\n",
        "            min = scores[i] # min의 값은 scores[i]로 최솟값이 갱신된다.\n",
        "\n",
        "print(min)"
      ],
      "metadata": {
        "colab": {
          "base_uri": "https://localhost:8080/"
        },
        "id": "Pw7ICqDGy_wz",
        "outputId": "97c461ba-42a8-4b9c-b344-fe208d897552"
      },
      "execution_count": null,
      "outputs": [
        {
          "output_type": "stream",
          "name": "stdout",
          "text": [
            "1\n"
          ]
        }
      ]
    },
    {
      "cell_type": "code",
      "source": [
        "del min\n",
        "min(scores)"
      ],
      "metadata": {
        "colab": {
          "base_uri": "https://localhost:8080/"
        },
        "id": "4VnfFSsKi2sJ",
        "outputId": "5757140a-cc23-48fb-e2d9-b90acadffaf8"
      },
      "execution_count": null,
      "outputs": [
        {
          "output_type": "execute_result",
          "data": {
            "text/plain": [
              "1"
            ]
          },
          "metadata": {},
          "execution_count": 48
        }
      ]
    },
    {
      "cell_type": "code",
      "source": [
        "min_scores=scores[0]\n",
        "for x in scores:\n",
        "    if x < min_scores:\n",
        "        min_scores = x\n",
        "\n",
        "print(min_scores)"
      ],
      "metadata": {
        "colab": {
          "base_uri": "https://localhost:8080/"
        },
        "id": "BgjwYvDYkh5J",
        "outputId": "28be6338-575e-428a-a366-2073a0723dd8"
      },
      "execution_count": null,
      "outputs": [
        {
          "output_type": "stream",
          "name": "stdout",
          "text": [
            "1\n"
          ]
        }
      ]
    }
  ]
}