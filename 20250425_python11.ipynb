{
  "nbformat": 4,
  "nbformat_minor": 0,
  "metadata": {
    "colab": {
      "provenance": [],
      "toc_visible": true,
      "include_colab_link": true
    },
    "kernelspec": {
      "name": "python3",
      "display_name": "Python 3"
    },
    "language_info": {
      "name": "python"
    }
  },
  "cells": [
    {
      "cell_type": "markdown",
      "metadata": {
        "id": "view-in-github",
        "colab_type": "text"
      },
      "source": [
        "<a href=\"https://colab.research.google.com/github/yuuhyun/python_taehoon_itwill/blob/main/20250425_python11.ipynb\" target=\"_parent\"><img src=\"https://colab.research.google.com/assets/colab-badge.svg\" alt=\"Open In Colab\"/></a>"
      ]
    },
    {
      "cell_type": "markdown",
      "source": [
        "# 함수(Function)"
      ],
      "metadata": {
        "id": "QGmhgJ9TzKiV"
      }
    },
    {
      "cell_type": "markdown",
      "source": [
        "*   **함수(function)**: 기능을 수행하는 코드 블록.\n",
        "*   **인수(argument)**: 함수가 기능을 수행하기 위해서 값이 필요한 경우, 함수를 호출할 때 함수에게 전달해 주는 값.\n",
        "*   **매개변수(parameter)**: 아규먼트를 저장하기 위해서, 함수를 정의할 때 선언하는 변수.\n",
        "*   **반환값(return value)**: 함수가 기능을 수행한 후에 그 결과로 함수를 호출한 곳에 되돌려 주는 값.\n",
        "    *   함수에 따라서 반환값이 있는 함수도 있고, 반환값이 없는 함수도 있음.\n",
        "        * 예: print() 함수는 반환값이 없음."
      ],
      "metadata": {
        "id": "yCpzaPpKzTQr"
      }
    },
    {
      "cell_type": "code",
      "execution_count": null,
      "metadata": {
        "colab": {
          "base_uri": "https://localhost:8080/"
        },
        "id": "ii81DueAzIuC",
        "outputId": "1e0cdb70-38c8-4a92-c3fc-bcbab94ccaa1"
      },
      "outputs": [
        {
          "output_type": "stream",
          "name": "stdout",
          "text": [
            "6\n"
          ]
        }
      ],
      "source": [
        "result = len('안녕하세요.')\n",
        "print(result)\n",
        "\n",
        "# 함수 이름: len\n",
        "# argument: '안녕하세요.'\n",
        "# 함수 호출: len('안녕하세요.')\n",
        "# 반환값: 6"
      ]
    },
    {
      "cell_type": "markdown",
      "source": [
        "# 함수 선언(정의)"
      ],
      "metadata": {
        "id": "5qfwklYo3K1F"
      }
    },
    {
      "cell_type": "markdown",
      "source": [
        "```\n",
        "def function_name([parameter1, parameter2, ...]):\n",
        "    [\"\"\"문서화 주석(documentation comments): 함수에 대한 설명\"\"\"]\n",
        "    함수가 수행할 기능을 코드 블록으로 작성\n",
        "    [return 반환값]\n",
        "```"
      ],
      "metadata": {
        "id": "8lxGMEWo3P0k"
      }
    },
    {
      "cell_type": "code",
      "source": [
        "def subtract(x, y):\n",
        "    \"\"\"x - y를 리턴하는 함수\"\"\"\n",
        "    return x - y"
      ],
      "metadata": {
        "id": "Zwe3sLt64Oo8"
      },
      "execution_count": null,
      "outputs": []
    },
    {
      "cell_type": "code",
      "source": [
        "# subtract() 함수를 호출.\n",
        "result = subtract(1, 2)\n",
        "print(result)"
      ],
      "metadata": {
        "colab": {
          "base_uri": "https://localhost:8080/"
        },
        "id": "8uukN_rl4uGD",
        "outputId": "90c429f4-7fce-4910-b620-f548bf918dd3"
      },
      "execution_count": null,
      "outputs": [
        {
          "output_type": "stream",
          "name": "stdout",
          "text": [
            "-1\n"
          ]
        }
      ]
    },
    {
      "cell_type": "code",
      "source": [
        "print(subtract(2, 1))"
      ],
      "metadata": {
        "colab": {
          "base_uri": "https://localhost:8080/"
        },
        "id": "bKtADtOh5o00",
        "outputId": "270a2bb8-e57a-4119-851b-d291d9166fb2"
      },
      "execution_count": null,
      "outputs": [
        {
          "output_type": "stream",
          "name": "stdout",
          "text": [
            "1\n"
          ]
        }
      ]
    },
    {
      "cell_type": "markdown",
      "source": [
        "## 값을 반환하지 않는 함수 선언"
      ],
      "metadata": {
        "id": "JiEkJOiK-KvD"
      }
    },
    {
      "cell_type": "code",
      "source": [
        "def repeat_message(msg, n):\n",
        "    \"\"\"\n",
        "    msg를 n번 반복해서 출력하는 함수.\n",
        "\n",
        "    @param msg - 출력할 메시지. 문자열 타입.\n",
        "    @param n - 출력할 횟수. 0 또는 양의 정수.\n",
        "    @return None\n",
        "    \"\"\"\n",
        "    for _ in range(n):\n",
        "        print(msg)\n",
        "\n",
        "    # return None  # return None 문장은 생략 가능."
      ],
      "metadata": {
        "id": "6i_CVy-t-Wmt"
      },
      "execution_count": null,
      "outputs": []
    },
    {
      "cell_type": "code",
      "source": [
        "repeat_message('안녕하세요', 3)"
      ],
      "metadata": {
        "colab": {
          "base_uri": "https://localhost:8080/"
        },
        "id": "AgvacWVOAaC2",
        "outputId": "200bf1f8-1199-4641-9d05-53f9f7dbb5cb"
      },
      "execution_count": null,
      "outputs": [
        {
          "output_type": "stream",
          "name": "stdout",
          "text": [
            "안녕하세요\n",
            "안녕하세요\n",
            "안녕하세요\n"
          ]
        }
      ]
    },
    {
      "cell_type": "code",
      "source": [
        "repeat_message('Hello, Python!', 5)"
      ],
      "metadata": {
        "colab": {
          "base_uri": "https://localhost:8080/"
        },
        "id": "aWbC8IvXA1Rk",
        "outputId": "20c40030-ec79-4ba8-cea9-d2c8fa6efa7d"
      },
      "execution_count": null,
      "outputs": [
        {
          "output_type": "stream",
          "name": "stdout",
          "text": [
            "Hello, Python!\n",
            "Hello, Python!\n",
            "Hello, Python!\n",
            "Hello, Python!\n",
            "Hello, Python!\n"
          ]
        }
      ]
    },
    {
      "cell_type": "markdown",
      "source": [
        "## 2개 이상의 값을 반환하는 함수 선언"
      ],
      "metadata": {
        "id": "Mty0QS38Bif7"
      }
    },
    {
      "cell_type": "code",
      "source": [
        "def plus_and_minus(x, y):\n",
        "    \"\"\"\n",
        "    두 숫자들의 덧셈과 뺄셈 결과를 반환하는 함수.\n",
        "\n",
        "    @param x: 숫자 타입(int 또는 float).\n",
        "    @param y: 숫자 타입(int 또는 float).\n",
        "    @return x + y, x - y\n",
        "    \"\"\"\n",
        "    return x + y, x - y"
      ],
      "metadata": {
        "id": "IElPC8h2BnYl"
      },
      "execution_count": null,
      "outputs": []
    },
    {
      "cell_type": "code",
      "source": [
        "a, b = plus_and_minus(1, 2)\n",
        "print(a, b)"
      ],
      "metadata": {
        "colab": {
          "base_uri": "https://localhost:8080/"
        },
        "id": "VwGB3ezJC3fM",
        "outputId": "4e4dcfeb-5266-432c-9720-50161284f296"
      },
      "execution_count": null,
      "outputs": [
        {
          "output_type": "stream",
          "name": "stdout",
          "text": [
            "3 -1\n"
          ]
        }
      ]
    },
    {
      "cell_type": "code",
      "source": [
        "result = plus_and_minus(1, 2)  # 리턴값들을 아이템으로 갖는 tuple이 저장됨.\n",
        "print(result)"
      ],
      "metadata": {
        "colab": {
          "base_uri": "https://localhost:8080/"
        },
        "id": "3jzfKO2VDi08",
        "outputId": "35478a02-948a-4a9f-d18d-102712a1f3f8"
      },
      "execution_count": null,
      "outputs": [
        {
          "output_type": "stream",
          "name": "stdout",
          "text": [
            "(3, -1)\n"
          ]
        }
      ]
    },
    {
      "cell_type": "code",
      "source": [
        "import random"
      ],
      "metadata": {
        "id": "apYZN8pXdYH2"
      },
      "execution_count": null,
      "outputs": []
    },
    {
      "cell_type": "markdown",
      "source": [
        "## 연습문제 1.\n"
      ],
      "metadata": {
        "id": "eXs8AnSlbTxN"
      }
    },
    {
      "cell_type": "markdown",
      "source": [
        "* 함수 이름. make_list\n",
        "* 기능: [start,end) 범위의 정수 난수 n개를 갖는 리스트를 리턴.\n",
        "* 파라미터 : start(정수), end(정수), n(0 또는 양의 정수)"
      ],
      "metadata": {
        "id": "9pvBvlj0bcWN"
      }
    },
    {
      "cell_type": "code",
      "source": [
        "def make_list(start, end, n):\n",
        "\n",
        "    \"\"\"\n",
        "    [start, end) 범위의 난수 n개로 이루어진 리스트를 리턴.\n",
        "\n",
        "    @param start : int. 난수의 시작\n",
        "    @param end: int. 난수의 끝 범위.\n",
        "    @param n : 0 또는 양의 정수. 난수 개수. 리스트의 크기.\n",
        "    @return: [start, end) 범위의 난수 n개로 이루어진 리스트를 리턴.\n",
        "    \"\"\"\n",
        "\n",
        "    array =[random.randrange(start,end) for _ in range(n)] #randrange 사용해서 리스트로 저장\n",
        "    return array # 리스트값 반환\n",
        "\n",
        "    # array = []\n",
        "    # for _ in range(n):\n",
        "    #    array.append(random.randrange(start,end))\n",
        "\n",
        "    # return array\n",
        "\n",
        "my_list = make_list(0, 10, 10)\n",
        "\n",
        "print(my_list)"
      ],
      "metadata": {
        "colab": {
          "base_uri": "https://localhost:8080/"
        },
        "id": "hQs7dAX-bl2d",
        "outputId": "7ce17bf5-f48f-49c6-ea96-d326e9de0fb5"
      },
      "execution_count": null,
      "outputs": [
        {
          "output_type": "stream",
          "name": "stdout",
          "text": [
            "[7, 4, 7, 8, 8, 7, 9, 4, 3, 3]\n"
          ]
        }
      ]
    },
    {
      "cell_type": "markdown",
      "source": [
        "## 연습문제 2."
      ],
      "metadata": {
        "id": "8QujDkQIcs0e"
      }
    },
    {
      "cell_type": "markdown",
      "source": [
        "* 함수 이름 : calculate_sum\n",
        "* 기능 : 숫자(정수, 실수)들을 원소로 갖는 리스트를 전달받아서, 그 리스트의 모든 원소들의 합계를 리턴\n",
        "* 파라미터 : array(리스트)"
      ],
      "metadata": {
        "id": "4hJk5mKHcvCO"
      }
    },
    {
      "cell_type": "code",
      "source": [
        "def calculate_sum(x):\n",
        "\n",
        "    \"\"\"\n",
        "    숫자를 원소로 갖는 리스트의 모든 원소들의 합계를 리턴\n",
        "\n",
        "    :arg array: 숫자들을 원소로 갖는 리스트.\n",
        "    :returns: 리스트의 모든 원소들의 합계\n",
        "    \"\"\"\n",
        "\n",
        "\n",
        "    array = 0 # array 변수 선언\n",
        "    for i in range(0, len(x)): # 함수의 길이만큼 for문 반복\n",
        "        array += x[i] # array의 값에 리스트의 원소를 더한다\n",
        "\n",
        "    return array\n",
        "\n",
        "result = calculate_sum([1, 2, 3])\n",
        "print(result)"
      ],
      "metadata": {
        "colab": {
          "base_uri": "https://localhost:8080/"
        },
        "id": "c827hltfdLRG",
        "outputId": "bfe6e2da-1c2d-44e6-9862-4f0413a4bc7b"
      },
      "execution_count": null,
      "outputs": [
        {
          "output_type": "stream",
          "name": "stdout",
          "text": [
            "6\n"
          ]
        }
      ]
    },
    {
      "cell_type": "code",
      "source": [
        "my_list = make_list(0, 10, 5)\n",
        "print(my_list)\n",
        "total = calculate_sum(my_list)\n",
        "print(total)"
      ],
      "metadata": {
        "colab": {
          "base_uri": "https://localhost:8080/"
        },
        "id": "afPVWt8gqHnb",
        "outputId": "f7b84bf2-1c2c-4d5b-ed14-634dc5b78b25"
      },
      "execution_count": null,
      "outputs": [
        {
          "output_type": "stream",
          "name": "stdout",
          "text": [
            "[8, 6, 4, 1, 3]\n",
            "22\n"
          ]
        }
      ]
    },
    {
      "cell_type": "markdown",
      "source": [
        "## 연습문제 3."
      ],
      "metadata": {
        "id": "o8PmJaNQdEun"
      }
    },
    {
      "cell_type": "markdown",
      "source": [
        "* 함수 이름 : calculate_mean\n",
        "* 기능 : 숫자들을 원소로 갖는 리스트의 원소들의 평균을 리턴.\n",
        "* 파라미터 : array(리스트)"
      ],
      "metadata": {
        "id": "FopW5AA4dGeO"
      }
    },
    {
      "cell_type": "code",
      "source": [
        "def calculate_mean(x):\n",
        "\n",
        "    \"\"\"\n",
        "    숫자들의 리스트 array의 모든 원소들의 평균을 리턴.\n",
        "\n",
        "    :arg array: 숫자들을 원소로 갖는 리스트.\n",
        "    :returns: 리스트의 모든 원소들의 평균\n",
        "    \"\"\"\n",
        "\n",
        "    array = 0 # array 변수 선언\n",
        "    for i in range(0, len(x)): # 함수의 길이만큼 for문 반복\n",
        "        array += x[i] # array의 값에 리스트의 원소를 더한다\n",
        "\n",
        "    return array / len(x) # array를 리스트의 길이(원소의 수)만큼 나눈다 => 평균\n",
        "\n",
        "result = calculate_mean([1, 2, 3])\n",
        "print(result)"
      ],
      "metadata": {
        "colab": {
          "base_uri": "https://localhost:8080/"
        },
        "id": "qZhH3tBidKoO",
        "outputId": "e76dd10a-285f-41a5-95b4-9c7f398dcfa1"
      },
      "execution_count": null,
      "outputs": [
        {
          "output_type": "stream",
          "name": "stdout",
          "text": [
            "2.0\n"
          ]
        }
      ]
    },
    {
      "cell_type": "code",
      "source": [
        "my_list = make_list(0, 10, 5)\n",
        "print(my_list)\n",
        "total = calculate_sum(my_list)\n",
        "print('total =', total)\n",
        "mean = calculate_mean(my_list)\n",
        "print('mean =', mean)"
      ],
      "metadata": {
        "colab": {
          "base_uri": "https://localhost:8080/"
        },
        "id": "tEmVDEHOr-1m",
        "outputId": "5c70668c-b8ef-45ff-db5b-a4c04333ebb5"
      },
      "execution_count": null,
      "outputs": [
        {
          "output_type": "stream",
          "name": "stdout",
          "text": [
            "[8, 3, 8, 7, 8]\n",
            "total = 34\n",
            "mean = 6.8\n"
          ]
        }
      ]
    },
    {
      "cell_type": "markdown",
      "source": [
        "## 연습문제 4."
      ],
      "metadata": {
        "id": "6pXCvWn2shKN"
      }
    },
    {
      "cell_type": "markdown",
      "source": [
        "* 함수 이름 : find_min_and_max\n",
        "* 기능 : 숫자들을 원소로 갖는 리스트를 아규먼트로 전달받아서, 리스트의 최솟값과 최댓값을 리턴."
      ],
      "metadata": {
        "id": "4anvGKT2si7N"
      }
    },
    {
      "cell_type": "code",
      "source": [
        "def find_min_and_max(array):\n",
        "\n",
        "    list_max = array[0]\n",
        "    list_min = array[0]\n",
        "    for i in range(0,len(array)):\n",
        "        if list_max < array[i]:\n",
        "            list_max = array[i]\n",
        "        if list_min > array[i]:\n",
        "            list_min = array[i]\n",
        "    return list_max, list_min\n",
        "\n",
        "my_list = make_list(0, 10, 5)\n",
        "\n",
        "min, max = find_min_and_max(my_list)\n",
        "print(my_list)\n",
        "print(min, max)"
      ],
      "metadata": {
        "colab": {
          "base_uri": "https://localhost:8080/"
        },
        "id": "MUneVmyJsjXN",
        "outputId": "c5ccb925-60f1-47a6-be05-f81e59aa64a5"
      },
      "execution_count": null,
      "outputs": [
        {
          "output_type": "stream",
          "name": "stdout",
          "text": [
            "[7, 2, 1, 3, 8]\n",
            "8 1\n"
          ]
        }
      ]
    },
    {
      "cell_type": "code",
      "source": [
        "# 강사님 code\n",
        "\n",
        "def find_min_and_max(array):\n",
        "\n",
        "    min_array = array[0]\n",
        "    max_array = array[0]\n",
        "    for x in array:\n",
        "        if x < min_array:\n",
        "            min_array = x\n",
        "        if x > max_array:\n",
        "            max_array = x\n",
        "    return min_array, max_array\n",
        "\n",
        "my_list = make_list(-100, 100, 10)\n",
        "print(my_list)\n",
        "min_my_list, max_my_list = find_min_and_max(my_list)\n",
        "print(min_my_list, max_my_list)"
      ],
      "metadata": {
        "colab": {
          "base_uri": "https://localhost:8080/"
        },
        "id": "TB0AvGS2vPjm",
        "outputId": "c55dc684-4aff-4086-e4b4-6a7fe853c71a"
      },
      "execution_count": null,
      "outputs": [
        {
          "output_type": "stream",
          "name": "stdout",
          "text": [
            "[-30, -45, -26, -4, 24, 89, -19, -17, -10, 26]\n",
            "-45 89\n"
          ]
        }
      ]
    },
    {
      "cell_type": "code",
      "source": [
        "# sorted(list): list를 (오름차순) 정렬된 새로운 리스트를 리턴.\n",
        "# sorted(iterable, reverse=False): 오름차순 정렬\n",
        "# sorted(iterable, reverse=True): 내림차순 정렬\n",
        "\n",
        "sorted(my_list)"
      ],
      "metadata": {
        "colab": {
          "base_uri": "https://localhost:8080/"
        },
        "id": "7d-Ey_j1w2mX",
        "outputId": "51a50535-e86c-4c11-befa-f2d2dc920f7e"
      },
      "execution_count": null,
      "outputs": [
        {
          "output_type": "execute_result",
          "data": {
            "text/plain": [
              "[-45, -30, -26, -19, -17, -10, -4, 24, 26, 89]"
            ]
          },
          "metadata": {},
          "execution_count": 92
        }
      ]
    },
    {
      "cell_type": "code",
      "source": [
        "def find_min_and_max2(array):\n",
        "    sorted_array = sorted(array)\n",
        "    return sorted_array[0], sorted_array[-1]\n",
        "\n",
        "find_min_and_max2(my_list)"
      ],
      "metadata": {
        "colab": {
          "base_uri": "https://localhost:8080/"
        },
        "id": "dsY2qZAvxazn",
        "outputId": "dad5e87e-9b18-4d26-8496-61d7c64a9063"
      },
      "execution_count": null,
      "outputs": [
        {
          "output_type": "execute_result",
          "data": {
            "text/plain": [
              "(-45, 89)"
            ]
          },
          "metadata": {},
          "execution_count": 93
        }
      ]
    },
    {
      "cell_type": "markdown",
      "source": [
        "# Default Argument(기본 인수)"
      ],
      "metadata": {
        "id": "lVtdX1_Y3O1a"
      }
    },
    {
      "cell_type": "markdown",
      "source": [
        "기본 인수(default argument):\n",
        "\n",
        "* 함수를 선언할 때 파라미터에 설정하는 기본값.\n",
        "    * default parameter : 기본값이 설정된 파라미터(매개변수).\n",
        "* 함수를 호출할 때 deafult parameter에 값을 전달하지 않으면, default argument가 기본값으로 사용됨.\n",
        "* 함수를 호출할 때 default parameter에 값을 전달하면, 기본값은 무시되고 전달한 아규먼트가 사용됨."
      ],
      "metadata": {
        "id": "HoElPsAj3SQ6"
      }
    },
    {
      "cell_type": "code",
      "source": [
        "def repeat_message2(msg,n=1):\n",
        "    for _ in range(n):\n",
        "        print(msg)\n"
      ],
      "metadata": {
        "id": "sz0Qi05T3ORy"
      },
      "execution_count": null,
      "outputs": []
    },
    {
      "cell_type": "code",
      "source": [
        "# default parameter에 값을 전달하지 않는 경우:\n",
        "repeat_message2('안녕하세요!')"
      ],
      "metadata": {
        "colab": {
          "base_uri": "https://localhost:8080/"
        },
        "id": "i5lMEFHh5GWz",
        "outputId": "fe7ac8ff-7fac-4308-e85e-59fc985acfaa"
      },
      "execution_count": null,
      "outputs": [
        {
          "output_type": "stream",
          "name": "stdout",
          "text": [
            "안녕하세요!\n"
          ]
        }
      ]
    },
    {
      "cell_type": "code",
      "source": [
        "# default parameter에 값을 전달하지 않는 경우:\n",
        "repeat_message2('Hello!', 5)"
      ],
      "metadata": {
        "colab": {
          "base_uri": "https://localhost:8080/"
        },
        "id": "nSO2Wb8r5iIz",
        "outputId": "b196dcfd-8789-4621-c0ad-0f3c40c2e78e"
      },
      "execution_count": null,
      "outputs": [
        {
          "output_type": "stream",
          "name": "stdout",
          "text": [
            "Hello!\n",
            "Hello!\n",
            "Hello!\n",
            "Hello!\n",
            "Hello!\n"
          ]
        }
      ]
    },
    {
      "cell_type": "markdown",
      "source": [
        "**(주의)** default parameter들은 반드시 기본값을 갖지 않는 파라미터들 뒤에 선언해야 함.\n",
        "\n",
        "기본값을 갖는 파라미터가 기본값을 갖지 않는 파라미터보다 먼저 선언되면 문법 오류가 발생함."
      ],
      "metadata": {
        "id": "j3aN4EwH5F1r"
      }
    },
    {
      "cell_type": "code",
      "source": [
        "def test(x, y=0):\n",
        "    pass"
      ],
      "metadata": {
        "id": "thpTynAC62aD"
      },
      "execution_count": null,
      "outputs": []
    },
    {
      "cell_type": "code",
      "source": [
        "def test_error(x=0, y):\n",
        "    pass"
      ],
      "metadata": {
        "colab": {
          "base_uri": "https://localhost:8080/",
          "height": 110
        },
        "id": "eo-K-n6g7ATd",
        "outputId": "633b0a26-b813-43f5-90ed-504af368014b"
      },
      "execution_count": null,
      "outputs": [
        {
          "output_type": "error",
          "ename": "SyntaxError",
          "evalue": "non-default argument follows default argument (<ipython-input-102-f895b8312743>, line 1)",
          "traceback": [
            "\u001b[0;36m  File \u001b[0;32m\"<ipython-input-102-f895b8312743>\"\u001b[0;36m, line \u001b[0;32m1\u001b[0m\n\u001b[0;31m    def test_error(x=0, y):\u001b[0m\n\u001b[0m                        ^\u001b[0m\n\u001b[0;31mSyntaxError\u001b[0m\u001b[0;31m:\u001b[0m non-default argument follows default argument\n"
          ]
        }
      ]
    },
    {
      "cell_type": "code",
      "source": [
        "def test2(x=0, y=0):\n",
        "    pass"
      ],
      "metadata": {
        "id": "ADZY7VfO7jzb"
      },
      "execution_count": null,
      "outputs": []
    },
    {
      "cell_type": "code",
      "source": [
        "def test2(x=0, y=0):\n",
        "    print(f'x = {x}, y = {y}')\n",
        "\n",
        "test2()\n",
        "test2(1)\n",
        "test2(0,1)\n",
        "test2(y=1)"
      ],
      "metadata": {
        "colab": {
          "base_uri": "https://localhost:8080/"
        },
        "id": "IvhW8H4i8Oxs",
        "outputId": "e97f3e78-8d89-44fa-ccb1-a6af9a181044"
      },
      "execution_count": null,
      "outputs": [
        {
          "output_type": "stream",
          "name": "stdout",
          "text": [
            "x = 0, y = 0\n",
            "x = 1, y = 0\n",
            "x = 0, y = 1\n",
            "x = 0, y = 1\n"
          ]
        }
      ]
    },
    {
      "cell_type": "markdown",
      "source": [
        "아규먼트 전달 방법 : 함수를 호출할 때 아규먼트(들)을 넘겨주는 방법\n",
        "\n",
        "* **positional argument**: 선언된 파라미터 순서대로 아규먼트들을 전달하는 방식.\n",
        "* **keyword argument**: param_name=value 형식으로 아규먼트를 전달하는 방식.\n",
        "    * keyword argument 방식을 사용할 때는 파라미터 순서를 지키지 않아도 됨.\n",
        "* **(주의)**: 함수를 호출할 때 positional 방식과 keyword 방식을 함께 사용하는 경우에는, 반드시 positional argument를 먼저 전달하고 keyword argument들은 positional 방식이 모두 끝난 후에 사용해야 함."
      ],
      "metadata": {
        "id": "NC3LZoRF88tM"
      }
    },
    {
      "cell_type": "code",
      "source": [
        "test2(y=1, x=1)"
      ],
      "metadata": {
        "colab": {
          "base_uri": "https://localhost:8080/"
        },
        "id": "czMOo6q599bl",
        "outputId": "8422916c-f6c6-4a96-8d3b-98b2f48df3c9"
      },
      "execution_count": null,
      "outputs": [
        {
          "output_type": "stream",
          "name": "stdout",
          "text": [
            "x = 1, y = 1\n"
          ]
        }
      ]
    },
    {
      "cell_type": "code",
      "source": [
        "test2(1, y = 100)\n",
        "test2(x=1, 100)"
      ],
      "metadata": {
        "colab": {
          "base_uri": "https://localhost:8080/",
          "height": 110
        },
        "id": "eCb9_I-f-wOl",
        "outputId": "23d5b017-ca7c-458c-b7c9-39026f24249f"
      },
      "execution_count": null,
      "outputs": [
        {
          "output_type": "error",
          "ename": "SyntaxError",
          "evalue": "positional argument follows keyword argument (<ipython-input-109-94271e970a58>, line 2)",
          "traceback": [
            "\u001b[0;36m  File \u001b[0;32m\"<ipython-input-109-94271e970a58>\"\u001b[0;36m, line \u001b[0;32m2\u001b[0m\n\u001b[0;31m    test2(x=1, 100)\u001b[0m\n\u001b[0m                  ^\u001b[0m\n\u001b[0;31mSyntaxError\u001b[0m\u001b[0;31m:\u001b[0m positional argument follows keyword argument\n"
          ]
        }
      ]
    },
    {
      "cell_type": "markdown",
      "source": [
        "# Variable-Length Arguments(가변길이 인수)"
      ],
      "metadata": {
        "id": "lud8YDkzWl3Z"
      }
    },
    {
      "cell_type": "markdown",
      "source": [
        "* 함수 아규먼트 개수가 임의로 변할 수 있는 것. 함수를 호출할 때 아규먼트를 몇 개를 전달해도 됨.\n",
        "    * 아규먼트를 한 개도 전달하지 않아도 됨.\n",
        "* 함수를 선언할 때 파라미터 이름 앞에 `*`를 사용하면 가변길이 인수를 의미.\n",
        "    * 가변길이 인수는 인덱스를 가짐.\n",
        "    * 가변길이 인수는 for-in 구문에서 사용할 수 있음.\n",
        "* 가변길이 인수는 keyword argument 방식으로 값을 전달할 수 없음!\n",
        "* 함수를 선언할 때 가변길이 인수를 저장하는 파라미터는 오직 1개만 선언할 수 있음.\n",
        "* 가변길이 인수를 갖는 파라미터 뒤에 선언된 파라미터들에는"
      ],
      "metadata": {
        "id": "ZUasKj8AWlkw"
      }
    },
    {
      "cell_type": "code",
      "source": [
        "print('안녕!') # 아규먼트 1개를 전달."
      ],
      "metadata": {
        "colab": {
          "base_uri": "https://localhost:8080/"
        },
        "id": "s8GVye9tWdTY",
        "outputId": "91db3909-f01c-45d5-b419-9e49d6501aaa"
      },
      "execution_count": null,
      "outputs": [
        {
          "output_type": "stream",
          "name": "stdout",
          "text": [
            "안녕!\n"
          ]
        }
      ]
    },
    {
      "cell_type": "code",
      "source": [
        "print() # 아규먼트를 전달하지 않음.\n",
        "print('안녕!', 'Hello', '파이썬') # 아규먼트 3개를 전달."
      ],
      "metadata": {
        "colab": {
          "base_uri": "https://localhost:8080/"
        },
        "id": "mPZ2tBq-YDqY",
        "outputId": "317a3c57-0d75-43ba-c450-01d379e5bbc9"
      },
      "execution_count": null,
      "outputs": [
        {
          "output_type": "stream",
          "name": "stdout",
          "text": [
            "\n",
            "안녕! Hello 파이썬\n"
          ]
        }
      ]
    },
    {
      "cell_type": "code",
      "source": [
        "def add_all(*args):\n",
        "    \"\"\"아규먼트로 전달된 모든 숫자들의 합계를 리턴.\"\"\"\n",
        "    result = 0\n",
        "    for x in args:\n",
        "        result += x\n",
        "\n",
        "    return result"
      ],
      "metadata": {
        "id": "KqERIoLZZilS"
      },
      "execution_count": null,
      "outputs": []
    },
    {
      "cell_type": "code",
      "source": [
        "add_all()"
      ],
      "metadata": {
        "colab": {
          "base_uri": "https://localhost:8080/"
        },
        "id": "w3CMcbI3aQSz",
        "outputId": "2c23b209-24c9-4e3d-bf74-a6e41d723aa8"
      },
      "execution_count": null,
      "outputs": [
        {
          "output_type": "execute_result",
          "data": {
            "text/plain": [
              "0"
            ]
          },
          "metadata": {},
          "execution_count": 114
        }
      ]
    },
    {
      "cell_type": "code",
      "source": [
        "add_all(1, 2, 3, 4, 5)"
      ],
      "metadata": {
        "colab": {
          "base_uri": "https://localhost:8080/"
        },
        "id": "3Vsnk2saax_a",
        "outputId": "2e0f70be-e549-4a71-93fb-008a0cdd9573"
      },
      "execution_count": null,
      "outputs": [
        {
          "output_type": "execute_result",
          "data": {
            "text/plain": [
              "15"
            ]
          },
          "metadata": {},
          "execution_count": 115
        }
      ]
    },
    {
      "cell_type": "code",
      "source": [
        "def fn_test(x, *y):\n",
        "    print('x =', x)\n",
        "    print('y =', y)"
      ],
      "metadata": {
        "id": "ESkqZUx6f289"
      },
      "execution_count": null,
      "outputs": []
    },
    {
      "cell_type": "code",
      "source": [
        "# fn_test() #> TypeError 발생 - 파라미터 x에는 반드시 값(아규먼트)를 전달해야 하기 때문에\n",
        "fn_test(1) #>  가변길이 인수 y에는 값을 전달하지 않아도 됨.\n",
        "# fn_test(x=1, 2) #> SyntaxError(문법 오류) 발생 - keyword argument는 positional argument보다 먼저 사용될 수 없음.\n",
        "# fn_test(x=1, y=(1, 2, 3)) #> TypeError - 가변길이 인수는 keyword 방식으로 전달할 수 없음!\n",
        "fn_test(1, 1, 2, 3, 4)"
      ],
      "metadata": {
        "colab": {
          "base_uri": "https://localhost:8080/"
        },
        "id": "4GKtez2Agon7",
        "outputId": "a4f85e2f-22d8-413e-e647-e0fe9c7b6a8a"
      },
      "execution_count": null,
      "outputs": [
        {
          "output_type": "stream",
          "name": "stdout",
          "text": [
            "x = 1\n",
            "y = ()\n",
            "x = 1\n",
            "y = (1, 2, 3, 4)\n"
          ]
        }
      ]
    },
    {
      "cell_type": "code",
      "source": [
        "def fn_error(*x, *y):\n",
        "    pass"
      ],
      "metadata": {
        "colab": {
          "base_uri": "https://localhost:8080/",
          "height": 110
        },
        "id": "IDGUyhcmi5C-",
        "outputId": "232cb648-eb6a-408f-c4a4-dc0a0b07c7e3"
      },
      "execution_count": null,
      "outputs": [
        {
          "output_type": "error",
          "ename": "SyntaxError",
          "evalue": "* argument may appear only once (<ipython-input-127-d8b4bee6ac6a>, line 1)",
          "traceback": [
            "\u001b[0;36m  File \u001b[0;32m\"<ipython-input-127-d8b4bee6ac6a>\"\u001b[0;36m, line \u001b[0;32m1\u001b[0m\n\u001b[0;31m    def fn_error(*x, *y):\u001b[0m\n\u001b[0m                     ^\u001b[0m\n\u001b[0;31mSyntaxError\u001b[0m\u001b[0;31m:\u001b[0m * argument may appear only once\n"
          ]
        }
      ]
    },
    {
      "cell_type": "code",
      "source": [
        "def fn_test2(*args, x):\n",
        "    print('args =', args)\n",
        "    print('x =', x)"
      ],
      "metadata": {
        "id": "ANI9dE7ejLpd"
      },
      "execution_count": null,
      "outputs": []
    },
    {
      "cell_type": "code",
      "source": [
        "fn_test2(1, 2, 3, 4, 5)"
      ],
      "metadata": {
        "colab": {
          "base_uri": "https://localhost:8080/",
          "height": 147
        },
        "id": "AcuGSAaBjT-m",
        "outputId": "5d16db28-52da-4176-e02d-14a8bcfcc63a"
      },
      "execution_count": null,
      "outputs": [
        {
          "output_type": "error",
          "ename": "TypeError",
          "evalue": "fn_test2() missing 1 required keyword-only argument: 'x'",
          "traceback": [
            "\u001b[0;31m---------------------------------------------------------------------------\u001b[0m",
            "\u001b[0;31mTypeError\u001b[0m                                 Traceback (most recent call last)",
            "\u001b[0;32m<ipython-input-128-415b2aff1557>\u001b[0m in \u001b[0;36m<cell line: 0>\u001b[0;34m()\u001b[0m\n\u001b[0;32m----> 1\u001b[0;31m \u001b[0mfn_test2\u001b[0m\u001b[0;34m(\u001b[0m\u001b[0;36m1\u001b[0m\u001b[0;34m,\u001b[0m \u001b[0;36m2\u001b[0m\u001b[0;34m,\u001b[0m \u001b[0;36m3\u001b[0m\u001b[0;34m,\u001b[0m \u001b[0;36m4\u001b[0m\u001b[0;34m,\u001b[0m \u001b[0;36m5\u001b[0m\u001b[0;34m)\u001b[0m\u001b[0;34m\u001b[0m\u001b[0;34m\u001b[0m\u001b[0m\n\u001b[0m",
            "\u001b[0;31mTypeError\u001b[0m: fn_test2() missing 1 required keyword-only argument: 'x'"
          ]
        }
      ]
    },
    {
      "cell_type": "code",
      "source": [
        "fn_test2(1, 2, 3, 4, x=5)"
      ],
      "metadata": {
        "colab": {
          "base_uri": "https://localhost:8080/"
        },
        "id": "6I045ycUjs1N",
        "outputId": "6a332e11-b058-4c0a-ae03-9e1960a9591b"
      },
      "execution_count": null,
      "outputs": [
        {
          "output_type": "stream",
          "name": "stdout",
          "text": [
            "args = (1, 2, 3, 4)\n",
            "x = 5\n"
          ]
        }
      ]
    },
    {
      "cell_type": "code",
      "source": [
        "print('a','b','c',sep = \":\")"
      ],
      "metadata": {
        "colab": {
          "base_uri": "https://localhost:8080/"
        },
        "id": "wPKN8x0SkDdV",
        "outputId": "a8dba51a-7d19-4494-ddee-77b79ccccf3d"
      },
      "execution_count": null,
      "outputs": [
        {
          "output_type": "stream",
          "name": "stdout",
          "text": [
            "::\n"
          ]
        }
      ]
    },
    {
      "cell_type": "markdown",
      "source": [
        "## 연습문제"
      ],
      "metadata": {
        "id": "YzUwfS4llY0A"
      }
    },
    {
      "cell_type": "code",
      "source": [
        "def calculate(*values, op):\n",
        "    \"\"\"\n",
        "    op가 '+'인 경우, values에 전달된 모든 숫자들의 합을 리턴. values가 없으면 0을 리턴.\n",
        "    (예) calculate(1, 2, 3, op='+') 호출하면 1+2+3을 리턴.\n",
        "    op가 '*'인 경우, values에 전달된 모든 숫자들의 곱을 리턴. values가 없으면 0을 리턴.\n",
        "    (예) calculate(1, 2, 3, op='*') 호출하면 1*2*3을 리턴.\n",
        "    op가 '+'도 아니고 '*'도 아닌 경우에는 ValueError를 발생(raise ValueError()).\n",
        "    (예) calculate(1, 2, 3, op='*') 호출하면 1*2*3을 리턴.\n",
        "    \"\"\"\n",
        "\n",
        "    adds = 0\n",
        "    mul = 1\n",
        "\n",
        "    if op == '+':\n",
        "        for x in values:\n",
        "                adds += x\n",
        "        return adds\n",
        "\n",
        "        return adds\n",
        "    elif op == '*':\n",
        "        for x in values:\n",
        "                mul *= x\n",
        "        return mul\n",
        "    else:\n",
        "        raise ValueError(\"op의 값은 '+' 또는 '*'만 가능합니다.\")\n",
        "\n",
        "print(calculate(1,2,10, op = '+'))\n",
        "print(calculate(1,2,10, op = '*'))\n",
        "print(calculate(1,2,3, op = '?'))"
      ],
      "metadata": {
        "colab": {
          "base_uri": "https://localhost:8080/",
          "height": 349
        },
        "id": "qpk0zw1GkmA9",
        "outputId": "ce9591f4-72ca-4eea-f70a-80041c20ec30"
      },
      "execution_count": null,
      "outputs": [
        {
          "output_type": "stream",
          "name": "stdout",
          "text": [
            "13\n",
            "20\n"
          ]
        },
        {
          "output_type": "error",
          "ename": "ValueError",
          "evalue": "op의 값은 '+' 또는 '*'만 가능합니다.",
          "traceback": [
            "\u001b[0;31m---------------------------------------------------------------------------\u001b[0m",
            "\u001b[0;31mValueError\u001b[0m                                Traceback (most recent call last)",
            "\u001b[0;32m<ipython-input-144-85090604f09b>\u001b[0m in \u001b[0;36m<cell line: 0>\u001b[0;34m()\u001b[0m\n\u001b[1;32m     27\u001b[0m \u001b[0mprint\u001b[0m\u001b[0;34m(\u001b[0m\u001b[0mcalculate\u001b[0m\u001b[0;34m(\u001b[0m\u001b[0;36m1\u001b[0m\u001b[0;34m,\u001b[0m\u001b[0;36m2\u001b[0m\u001b[0;34m,\u001b[0m\u001b[0;36m10\u001b[0m\u001b[0;34m,\u001b[0m \u001b[0mop\u001b[0m \u001b[0;34m=\u001b[0m \u001b[0;34m'+'\u001b[0m\u001b[0;34m)\u001b[0m\u001b[0;34m)\u001b[0m\u001b[0;34m\u001b[0m\u001b[0;34m\u001b[0m\u001b[0m\n\u001b[1;32m     28\u001b[0m \u001b[0mprint\u001b[0m\u001b[0;34m(\u001b[0m\u001b[0mcalculate\u001b[0m\u001b[0;34m(\u001b[0m\u001b[0;36m1\u001b[0m\u001b[0;34m,\u001b[0m\u001b[0;36m2\u001b[0m\u001b[0;34m,\u001b[0m\u001b[0;36m10\u001b[0m\u001b[0;34m,\u001b[0m \u001b[0mop\u001b[0m \u001b[0;34m=\u001b[0m \u001b[0;34m'*'\u001b[0m\u001b[0;34m)\u001b[0m\u001b[0;34m)\u001b[0m\u001b[0;34m\u001b[0m\u001b[0;34m\u001b[0m\u001b[0m\n\u001b[0;32m---> 29\u001b[0;31m \u001b[0mprint\u001b[0m\u001b[0;34m(\u001b[0m\u001b[0mcalculate\u001b[0m\u001b[0;34m(\u001b[0m\u001b[0;36m1\u001b[0m\u001b[0;34m,\u001b[0m\u001b[0;36m2\u001b[0m\u001b[0;34m,\u001b[0m\u001b[0;36m3\u001b[0m\u001b[0;34m,\u001b[0m \u001b[0mop\u001b[0m \u001b[0;34m=\u001b[0m \u001b[0;34m'?'\u001b[0m\u001b[0;34m)\u001b[0m\u001b[0;34m)\u001b[0m\u001b[0;34m\u001b[0m\u001b[0;34m\u001b[0m\u001b[0m\n\u001b[0m",
            "\u001b[0;32m<ipython-input-144-85090604f09b>\u001b[0m in \u001b[0;36mcalculate\u001b[0;34m(op, *values)\u001b[0m\n\u001b[1;32m     23\u001b[0m         \u001b[0;32mreturn\u001b[0m \u001b[0mmul\u001b[0m\u001b[0;34m\u001b[0m\u001b[0;34m\u001b[0m\u001b[0m\n\u001b[1;32m     24\u001b[0m     \u001b[0;32melse\u001b[0m\u001b[0;34m:\u001b[0m\u001b[0;34m\u001b[0m\u001b[0;34m\u001b[0m\u001b[0m\n\u001b[0;32m---> 25\u001b[0;31m         \u001b[0;32mraise\u001b[0m \u001b[0mValueError\u001b[0m\u001b[0;34m(\u001b[0m\u001b[0;34m\"op의 값은 '+' 또는 '*'만 가능합니다.\"\u001b[0m\u001b[0;34m)\u001b[0m\u001b[0;34m\u001b[0m\u001b[0;34m\u001b[0m\u001b[0m\n\u001b[0m\u001b[1;32m     26\u001b[0m \u001b[0;34m\u001b[0m\u001b[0m\n\u001b[1;32m     27\u001b[0m \u001b[0mprint\u001b[0m\u001b[0;34m(\u001b[0m\u001b[0mcalculate\u001b[0m\u001b[0;34m(\u001b[0m\u001b[0;36m1\u001b[0m\u001b[0;34m,\u001b[0m\u001b[0;36m2\u001b[0m\u001b[0;34m,\u001b[0m\u001b[0;36m10\u001b[0m\u001b[0;34m,\u001b[0m \u001b[0mop\u001b[0m \u001b[0;34m=\u001b[0m \u001b[0;34m'+'\u001b[0m\u001b[0;34m)\u001b[0m\u001b[0;34m)\u001b[0m\u001b[0;34m\u001b[0m\u001b[0;34m\u001b[0m\u001b[0m\n",
            "\u001b[0;31mValueError\u001b[0m: op의 값은 '+' 또는 '*'만 가능합니다."
          ]
        }
      ]
    },
    {
      "cell_type": "markdown",
      "source": [
        "# Variable-Length Keyword Arguments(가변길이 키워드 인수)"
      ],
      "metadata": {
        "id": "quHn6bnEuD17"
      }
    },
    {
      "cell_type": "markdown",
      "source": [
        "* 함수를 선언할 때 파라미터 이름 앞에 `**`를 사용함.\n",
        "* 함수를 호출할 때는 `param1=value1, param2=value2, ...`와 같은 형식으로 아규먼트들을 전달함.\n",
        "    * 가변길이 인수이기 때문에 전달하는 아규먼트 개수의 제한이 없음.\n",
        "    * 키워드 인수이기 때문에 반드시 키워드(파라미터 이름)과 함께 아규먼트를 전달해야 함.\n",
        "        * 키워드 이름은 자유롭게 만들 수 있음.\n",
        "* 함수 내부에서 가변길이 키워드 인수는 dict 타입 객체로 취급.\n",
        "    * 파라미터 이름이 dict의 키가 됨.\n",
        "    * 아규먼트가 dict의 값(value)이 됨.\n",
        "* 가변길이 키워드 인수는 함수에서 오직 1개만 선언할 수 있음."
      ],
      "metadata": {
        "id": "q7JOI76SuVpa"
      }
    },
    {
      "cell_type": "code",
      "source": [
        "def fn_test3(*args, **kwargs):\n",
        "    print('args =', args) # 가변길이 인수 -> tuple\n",
        "    print('kwargs =', kwargs) # 가변길이 키워드 인수 -> dict"
      ],
      "metadata": {
        "id": "wPH2TgpuuCZj"
      },
      "execution_count": null,
      "outputs": []
    },
    {
      "cell_type": "code",
      "source": [
        "fn_test3(1, 2, 'a', 'b', x=1, y=2, z='hello')"
      ],
      "metadata": {
        "colab": {
          "base_uri": "https://localhost:8080/"
        },
        "id": "ZYmi2_iQwKOE",
        "outputId": "487b0afc-e2c8-4177-e363-5fc4165a4e32"
      },
      "execution_count": null,
      "outputs": [
        {
          "output_type": "stream",
          "name": "stdout",
          "text": [
            "args = (1, 2, 'a', 'b')\n",
            "kwargs = {'x': 1, 'y': 2, 'z': 'hello'}\n"
          ]
        }
      ]
    },
    {
      "cell_type": "code",
      "source": [
        "def make_student_info(stu_no, stu_name, **kwargs):\n",
        "    student = {'no' : stu_no, 'name' : stu_name}\n",
        "    for k, v in kwargs.items():\n",
        "        # 가변길이 키워드 아규먼트들 중에서 키가 'email'이거나 'phone'인 경우에만 dict에 추가\n",
        "        if (k == 'email') or (k == 'phone'):\n",
        "            student[k]= v\n",
        "    return student"
      ],
      "metadata": {
        "id": "LVDaILFsxEP9"
      },
      "execution_count": null,
      "outputs": []
    },
    {
      "cell_type": "code",
      "source": [
        "make_student_info(1234, '홍길동')"
      ],
      "metadata": {
        "colab": {
          "base_uri": "https://localhost:8080/"
        },
        "id": "jH8RV32CyWGF",
        "outputId": "a1f73c98-a91e-4757-a9bc-fd52f87f43da"
      },
      "execution_count": null,
      "outputs": [
        {
          "output_type": "execute_result",
          "data": {
            "text/plain": [
              "{'no': 1234, 'name': '홍길동'}"
            ]
          },
          "metadata": {},
          "execution_count": 148
        }
      ]
    },
    {
      "cell_type": "code",
      "source": [
        "make_student_info(2233, '오쌤', phone='010-1111-2222', email='jake@itwill.com', gender='male', age=16)"
      ],
      "metadata": {
        "colab": {
          "base_uri": "https://localhost:8080/"
        },
        "id": "Mb2oAeviywHM",
        "outputId": "5a98e6e3-fb05-4447-eddf-69f0639f5b25"
      },
      "execution_count": null,
      "outputs": [
        {
          "output_type": "execute_result",
          "data": {
            "text/plain": [
              "{'no': 2233,\n",
              " 'name': '오쌤',\n",
              " 'phone': '010-1111-2222',\n",
              " 'email': 'jake@itwill.com'}"
            ]
          },
          "metadata": {},
          "execution_count": 149
        }
      ]
    }
  ]
}