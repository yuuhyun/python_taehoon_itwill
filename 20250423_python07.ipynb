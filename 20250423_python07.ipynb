{
  "nbformat": 4,
  "nbformat_minor": 0,
  "metadata": {
    "colab": {
      "provenance": [],
      "toc_visible": true,
      "authorship_tag": "ABX9TyPeXEBu83u7AeVQOG1dADG9",
      "include_colab_link": true
    },
    "kernelspec": {
      "name": "python3",
      "display_name": "Python 3"
    },
    "language_info": {
      "name": "python"
    }
  },
  "cells": [
    {
      "cell_type": "markdown",
      "metadata": {
        "id": "view-in-github",
        "colab_type": "text"
      },
      "source": [
        "<a href=\"https://colab.research.google.com/github/yuuhyun/python_taehoon_itwill/blob/main/20250423_python07.ipynb\" target=\"_parent\"><img src=\"https://colab.research.google.com/assets/colab-badge.svg\" alt=\"Open In Colab\"/></a>"
      ]
    },
    {
      "cell_type": "markdown",
      "source": [
        "# tuple(튜플)"
      ],
      "metadata": {
        "id": "KpvPvo5zY_jZ"
      }
    },
    {
      "cell_type": "markdown",
      "source": [
        "* tuple : 저장된 아이템들을 변경할 수 없는 리스트.\n",
        "* 인덱스 기반의 데이터 타입\n",
        "    * indexing : 해당 인덱스 위치의 아이템 값을 읽음.\n",
        "    * slicing : 해당 인덱스 범위의 아이템들로 이루어진 튜플을 만듦.\n",
        "* append(), pop(), ... 등과 같은 아이템을 추가하거나 삭제하는 함수(메서드)를 제공하지 않음."
      ],
      "metadata": {
        "id": "Za_Yg49dZLGY"
      }
    },
    {
      "cell_type": "markdown",
      "source": [
        "## indexing"
      ],
      "metadata": {
        "id": "4NOQ0wGWfwOr"
      }
    },
    {
      "cell_type": "code",
      "execution_count": null,
      "metadata": {
        "colab": {
          "base_uri": "https://localhost:8080/"
        },
        "id": "MStYp9p3Y9PU",
        "outputId": "97d291b5-8102-4606-f910-3d579a1b1351"
      },
      "outputs": [
        {
          "output_type": "stream",
          "name": "stdout",
          "text": [
            "<class 'tuple'>\n",
            "(1, 2, 10, 20, 1, 2, 2)\n"
          ]
        }
      ],
      "source": [
        "numbers = (1, 2, 10, 20, 1, 2, 2)\n",
        "print(type(numbers))\n",
        "print(numbers)"
      ]
    },
    {
      "cell_type": "code",
      "source": [
        "# tuple.count(value): tuple에서 value가 몇 개 있는지를 리턴(반환).\n",
        "numbers.count(2)"
      ],
      "metadata": {
        "colab": {
          "base_uri": "https://localhost:8080/"
        },
        "id": "itIrIezqbBsx",
        "outputId": "a6edcbc6-e07f-48c8-d652-ae49d21b18ad"
      },
      "execution_count": null,
      "outputs": [
        {
          "output_type": "execute_result",
          "data": {
            "text/plain": [
              "3"
            ]
          },
          "metadata": {},
          "execution_count": 4
        }
      ]
    },
    {
      "cell_type": "code",
      "source": [
        "#\n",
        "numbers.index(2)"
      ],
      "metadata": {
        "colab": {
          "base_uri": "https://localhost:8080/"
        },
        "id": "FA_Y8aA5cEdy",
        "outputId": "2ed53124-7fe4-4adc-f61c-3fe72a420016"
      },
      "execution_count": null,
      "outputs": [
        {
          "output_type": "execute_result",
          "data": {
            "text/plain": [
              "1"
            ]
          },
          "metadata": {},
          "execution_count": 5
        }
      ]
    },
    {
      "cell_type": "code",
      "source": [
        "numbers[0]"
      ],
      "metadata": {
        "colab": {
          "base_uri": "https://localhost:8080/"
        },
        "id": "SmZeUYX4dQ9x",
        "outputId": "0ff3ece7-46b2-4715-e419-d80dd55ef3e7"
      },
      "execution_count": null,
      "outputs": [
        {
          "output_type": "execute_result",
          "data": {
            "text/plain": [
              "1"
            ]
          },
          "metadata": {},
          "execution_count": 6
        }
      ]
    },
    {
      "cell_type": "code",
      "source": [
        "numbers[-1]"
      ],
      "metadata": {
        "colab": {
          "base_uri": "https://localhost:8080/"
        },
        "id": "zQZqk59kdU9p",
        "outputId": "0b20a575-b2dc-41c9-b995-a090586ded42"
      },
      "execution_count": null,
      "outputs": [
        {
          "output_type": "execute_result",
          "data": {
            "text/plain": [
              "2"
            ]
          },
          "metadata": {},
          "execution_count": 7
        }
      ]
    },
    {
      "cell_type": "markdown",
      "source": [
        "## slicing"
      ],
      "metadata": {
        "id": "H4-3vLszdXOB"
      }
    },
    {
      "cell_type": "code",
      "source": [
        "numbers[0:3] # 튜플 numbers에서 앞에서 3개 원소를 잘라냄."
      ],
      "metadata": {
        "colab": {
          "base_uri": "https://localhost:8080/"
        },
        "id": "fx5rih6VdZqa",
        "outputId": "0663cb2a-dec3-4395-c432-2479c7c3123d"
      },
      "execution_count": null,
      "outputs": [
        {
          "output_type": "execute_result",
          "data": {
            "text/plain": [
              "(1, 2, 10)"
            ]
          },
          "metadata": {},
          "execution_count": 10
        }
      ]
    },
    {
      "cell_type": "code",
      "source": [
        "numbers[-3:] # 튜플 nubers에서 끝에서 3개 원소를 잘라냄."
      ],
      "metadata": {
        "colab": {
          "base_uri": "https://localhost:8080/"
        },
        "id": "BMO5-tDSdthq",
        "outputId": "0f649994-d8ec-46f7-8038-e63533e650d1"
      },
      "execution_count": null,
      "outputs": [
        {
          "output_type": "execute_result",
          "data": {
            "text/plain": [
              "(1, 2, 2)"
            ]
          },
          "metadata": {},
          "execution_count": 11
        }
      ]
    },
    {
      "cell_type": "markdown",
      "source": [
        "## decomposition (분해)"
      ],
      "metadata": {
        "id": "6uAwc46Aemla"
      }
    },
    {
      "cell_type": "code",
      "source": [
        "integers = (1, 2, 3)\n",
        "x = integers[0]\n",
        "y = integers[1]\n",
        "z = integers[2]\n",
        "print(x, y, z)"
      ],
      "metadata": {
        "colab": {
          "base_uri": "https://localhost:8080/"
        },
        "id": "We5UIRSXeqvC",
        "outputId": "e09e9552-377b-42b9-d283-31266c2193f6"
      },
      "execution_count": null,
      "outputs": [
        {
          "output_type": "stream",
          "name": "stdout",
          "text": [
            "1 2 3\n"
          ]
        }
      ]
    },
    {
      "cell_type": "code",
      "source": [
        "names = ['홍길동', '오쌤']\n",
        "\n",
        "# person1 = names[0]\n",
        "# person2 = names[1]\n",
        "\n",
        "person1, person2 = names\n",
        "print(person1, person2)"
      ],
      "metadata": {
        "colab": {
          "base_uri": "https://localhost:8080/"
        },
        "id": "vLcEYPHyfPhq",
        "outputId": "6e76a21d-86d4-4d17-9f56-a06a595b4497"
      },
      "execution_count": null,
      "outputs": [
        {
          "output_type": "stream",
          "name": "stdout",
          "text": [
            "홍길동 오쌤\n"
          ]
        }
      ]
    },
    {
      "cell_type": "markdown",
      "source": [
        "## tuple과 for 반복문"
      ],
      "metadata": {
        "id": "KPrSbeO2gaMT"
      }
    },
    {
      "cell_type": "code",
      "source": [
        "for x in (1, 10, 2, -20, 100):\n",
        "    print(x)"
      ],
      "metadata": {
        "colab": {
          "base_uri": "https://localhost:8080/"
        },
        "id": "1LCKFIZYgUYL",
        "outputId": "545830c7-88d5-4d4e-f6be-87fbb137229d"
      },
      "execution_count": null,
      "outputs": [
        {
          "output_type": "stream",
          "name": "stdout",
          "text": [
            "1\n",
            "10\n",
            "2\n",
            "-20\n",
            "100\n"
          ]
        }
      ]
    },
    {
      "cell_type": "code",
      "source": [
        "matrix = (\n",
        "    (1, 2, 3),\n",
        "    (4, 5, 6)\n",
        ")\n",
        "print(matrix)"
      ],
      "metadata": {
        "colab": {
          "base_uri": "https://localhost:8080/"
        },
        "id": "90cK4tgBgg-r",
        "outputId": "b5fd330c-2a31-4eef-8c78-bc92a61e08dc"
      },
      "execution_count": null,
      "outputs": [
        {
          "output_type": "stream",
          "name": "stdout",
          "text": [
            "((1, 2, 3), (4, 5, 6))\n"
          ]
        }
      ]
    },
    {
      "cell_type": "code",
      "source": [
        "matrix[0]"
      ],
      "metadata": {
        "colab": {
          "base_uri": "https://localhost:8080/"
        },
        "id": "jEry1fv8gzJT",
        "outputId": "8f1676b5-e68c-49ae-fe39-703542bff023"
      },
      "execution_count": null,
      "outputs": [
        {
          "output_type": "execute_result",
          "data": {
            "text/plain": [
              "(1, 2, 3)"
            ]
          },
          "metadata": {},
          "execution_count": 16
        }
      ]
    },
    {
      "cell_type": "code",
      "source": [
        "matrix[0][0]"
      ],
      "metadata": {
        "colab": {
          "base_uri": "https://localhost:8080/"
        },
        "id": "uNRZfmqkg5v7",
        "outputId": "1e9daa93-d582-4df5-a2b8-74fbb9306168"
      },
      "execution_count": null,
      "outputs": [
        {
          "output_type": "execute_result",
          "data": {
            "text/plain": [
              "1"
            ]
          },
          "metadata": {},
          "execution_count": 17
        }
      ]
    },
    {
      "cell_type": "code",
      "source": [
        "for row in matrix:\n",
        "    for x in row:\n",
        "        print(x, end = '\\t')\n",
        "    print()"
      ],
      "metadata": {
        "colab": {
          "base_uri": "https://localhost:8080/"
        },
        "id": "DKl91S_JhMeT",
        "outputId": "8787e2da-7684-4b90-9023-9409f2996099"
      },
      "execution_count": null,
      "outputs": [
        {
          "output_type": "stream",
          "name": "stdout",
          "text": [
            "1\t2\t3\t\n",
            "4\t5\t6\t\n"
          ]
        }
      ]
    }
  ]
}