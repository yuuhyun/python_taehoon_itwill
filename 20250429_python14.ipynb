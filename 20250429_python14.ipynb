{
  "nbformat": 4,
  "nbformat_minor": 0,
  "metadata": {
    "colab": {
      "provenance": [],
      "authorship_tag": "ABX9TyNyPIHG/w8m5ea7cckruwox",
      "include_colab_link": true
    },
    "kernelspec": {
      "name": "python3",
      "display_name": "Python 3"
    },
    "language_info": {
      "name": "python"
    }
  },
  "cells": [
    {
      "cell_type": "markdown",
      "metadata": {
        "id": "view-in-github",
        "colab_type": "text"
      },
      "source": [
        "<a href=\"https://colab.research.google.com/github/yuuhyun/python_taehoon_itwill/blob/main/20250429_python14.ipynb\" target=\"_parent\"><img src=\"https://colab.research.google.com/assets/colab-badge.svg\" alt=\"Open In Colab\"/></a>"
      ]
    },
    {
      "cell_type": "markdown",
      "source": [
        "# Ex1. Score 클래스"
      ],
      "metadata": {
        "id": "fWe0rZeKByVy"
      }
    },
    {
      "cell_type": "markdown",
      "source": [
        "*   속성(attributes):\n",
        "    *   국어, 영어, 수학 점수\n",
        "    *   국어, 영어, 수학 점수의 기본값은 0.\n",
        "*   기능(functionality):\n",
        "    *   `__str__`: `Score(korean=100, english=100, math=100)` 포맷의 문자열을 리턴\n",
        "    *   `__repr__`: `점수(국어=100, 영어=100, 수학=100)` 포맷의 문자열을 리턴\n",
        "    *   `calculate_sum`: 세 과목의 총점 리턴\n",
        "    *   `calculate_mean`: 세 과목의 평균 리턴\n"
      ],
      "metadata": {
        "id": "JhT00M63BwpS"
      }
    },
    {
      "cell_type": "code",
      "execution_count": null,
      "metadata": {
        "id": "4uegOMVT9gWM"
      },
      "outputs": [],
      "source": [
        "class Score:\n",
        "\n",
        "\n",
        "    def __init__(self, korean=0, english=0, math=0):\n",
        "        self.korean = korean\n",
        "        self.english = english\n",
        "        self.math = math\n",
        "\n",
        "    def __str__(self):\n",
        "        return f'Score(korean={self.korean}, english={self.english}, math={self.math})'\n",
        "\n",
        "    def __repr__(self):\n",
        "        return f'점수(국어={self.korean}, 영어={self.english}, 수학={self.math})'\n",
        "\n",
        "    def calculate_sum(self):\n",
        "        return self.korean + self.english + self.math\n",
        "\n",
        "    def calculate_mean(self):\n",
        "        return self.calculate_sum() / 3\n"
      ]
    },
    {
      "cell_type": "code",
      "source": [
        "my_score = Score(korean=100, english=100, math=100)\n",
        "\n",
        "print(my_score)\n",
        "print(my_score.__repr__())\n",
        "print(my_score.calculate_sum())\n",
        "print(my_score.calculate_mean())\n",
        "\n",
        "print(my_score.korean)\n",
        "print(my_score.english)\n",
        "print(my_score.math)"
      ],
      "metadata": {
        "colab": {
          "base_uri": "https://localhost:8080/"
        },
        "id": "hDfGBkybDCLy",
        "outputId": "d4f5017f-6a29-4fcb-a152-846822b28e23"
      },
      "execution_count": null,
      "outputs": [
        {
          "output_type": "stream",
          "name": "stdout",
          "text": [
            "Score(korean=100, english=100, math=100)\n",
            "점수(국어=100, 영어=100, 수학=100)\n",
            "300\n",
            "100.0\n",
            "100\n",
            "100\n",
            "100\n"
          ]
        }
      ]
    },
    {
      "cell_type": "markdown",
      "source": [
        "`print(object)` 호출하면, `object.__str__()` 메서드가 리턴하는 문자열을 출력."
      ],
      "metadata": {
        "id": "ZA2YtiQzPt9w"
      }
    },
    {
      "cell_type": "code",
      "source": [
        "my_score"
      ],
      "metadata": {
        "colab": {
          "base_uri": "https://localhost:8080/"
        },
        "id": "YK8FQ2EqQLeg",
        "outputId": "dbbd8ff8-d37f-43d5-bb65-c58d61ea9cab"
      },
      "execution_count": null,
      "outputs": [
        {
          "output_type": "execute_result",
          "data": {
            "text/plain": [
              "점수(국어=100, 영어=100, 수학=100)"
            ]
          },
          "metadata": {},
          "execution_count": 27
        }
      ]
    },
    {
      "cell_type": "markdown",
      "source": [
        "파이썬 노트북(*.ipynb 파일)의 코드 셀은 가장 마지막 라인의 변수 혹은 식(expression)을 자동으로 출력해주는 기능을 가지고 있음. 가장 마지막 라인이 객체인 경우, 그 객체의 `__repr__()` 메서드가 리턴하는 문자열을 출력."
      ],
      "metadata": {
        "id": "12pEB0VGQU94"
      }
    },
    {
      "cell_type": "code",
      "source": [
        "score2 = Score(100, 95, 88)\n",
        "print(score2)\n",
        "print('총점: ', score2.calculate_sum)\n",
        "print('평균: ', score2.calculate_mean)\n",
        "score2"
      ],
      "metadata": {
        "colab": {
          "base_uri": "https://localhost:8080/"
        },
        "id": "OE9rkHd_RpBx",
        "outputId": "cc63bb1c-2681-424e-9be9-9899ad61056b"
      },
      "execution_count": null,
      "outputs": [
        {
          "output_type": "stream",
          "name": "stdout",
          "text": [
            "Score(korean=100, english=95, math=88)\n",
            "총점:  <bound method Score.calculate_sum of 점수(국어=100, 영어=95, 수학=88)>\n",
            "평균:  <bound method Score.calculate_mean of 점수(국어=100, 영어=95, 수학=88)>\n"
          ]
        },
        {
          "output_type": "execute_result",
          "data": {
            "text/plain": [
              "점수(국어=100, 영어=95, 수학=88)"
            ]
          },
          "metadata": {},
          "execution_count": 28
        }
      ]
    },
    {
      "cell_type": "markdown",
      "source": [
        "# Ex2. Student 클래스"
      ],
      "metadata": {
        "id": "XqmBQm5rB1r5"
      }
    },
    {
      "cell_type": "markdown",
      "source": [
        "*   속성(attributes):\n",
        "    *   학생 번호, 학생 이름, 점수(Score 객체)\n",
        "*   기능(functionality):\n",
        "    *   `__str__`: `Student(no: 123, name: 홍길동, score: Score(korean=100, english=100, math=100))` 포맷의 문자열을 리턴\n",
        "    *   `__repr__`: `학생(no:123, name: 홍길동, score: 점수(국어=100, 영어=100, 수학=100))` 포맷의 문자열을 리턴\n",
        "*   테스트\n",
        "    *   Student 객체(인스턴스)를 생성.\n",
        "    *   Student 인스턴스를 출력.\n",
        "    *   생성된 객체에서 총점, 평균을 계산하는 메서드를 호출."
      ],
      "metadata": {
        "id": "i_0KJcEfB2ZR"
      }
    },
    {
      "cell_type": "code",
      "source": [
        "class Student:\n",
        "    def __init__(self, number, name, score):\n",
        "        self.number = number\n",
        "        self.name = name\n",
        "        self.score = score\n",
        "\n",
        "    def __str__(self):\n",
        "        return f'Student(no: {self.number}, name: {self.name}, score: {self.score})'\n",
        "\n",
        "    def __repr__(self):\n",
        "        return f'학생(no: {self.number}, name: {self.name}, score: {self.score.__repr__()})'"
      ],
      "metadata": {
        "id": "SsT3ZpHXDY_y"
      },
      "execution_count": null,
      "outputs": []
    },
    {
      "cell_type": "code",
      "source": [
        "my_score = Score(korean=100, english=100, math=100)\n",
        "gildong = Student(123, '홍길동', my_score)\n",
        "\n",
        "print(gildong)\n",
        "print(gildong.__repr__())\n",
        "\n",
        "print('홍길동의 총점:', gildong.score.calculate_sum())\n",
        "print('홍길동의 평균:', gildong.score.calculate_mean())"
      ],
      "metadata": {
        "colab": {
          "base_uri": "https://localhost:8080/"
        },
        "id": "9ofko46uEM6i",
        "outputId": "5baefaed-dfbd-4715-bafc-bc845627e26b"
      },
      "execution_count": null,
      "outputs": [
        {
          "output_type": "stream",
          "name": "stdout",
          "text": [
            "Student(no: 123, name: 홍길동, score: Score(korean=100, english=100, math=100))\n",
            "학생(no: 123, name: 홍길동, score: 점수(국어=100, 영어=100, 수학=100))\n",
            "홍길동의 총점: 300\n",
            "홍길동의 평균: 100.0\n"
          ]
        }
      ]
    },
    {
      "cell_type": "code",
      "source": [
        "student3 = Student(2001,'Scott', Score(99, 85, 89))\n",
        "print(student3)\n",
        "print(student3.score.calculate_sum())\n",
        "print(student3.score.calculate_mean())"
      ],
      "metadata": {
        "colab": {
          "base_uri": "https://localhost:8080/"
        },
        "id": "KmxsYzmMWf37",
        "outputId": "99e98123-70fd-4aa7-8ac2-b5255a757d10"
      },
      "execution_count": null,
      "outputs": [
        {
          "output_type": "stream",
          "name": "stdout",
          "text": [
            "Student(no: 2001, name: Scott, score: Score(korean=99, english=85, math=89))\n",
            "273\n",
            "91.0\n"
          ]
        }
      ]
    },
    {
      "cell_type": "code",
      "source": [
        "date_string = '2025-04-29'\n",
        "result = date_string.split(sep='-') # sep 파라미터 : 구분자(separator)\n",
        "result"
      ],
      "metadata": {
        "colab": {
          "base_uri": "https://localhost:8080/"
        },
        "id": "d0JiOBMA2_NC",
        "outputId": "07cbf407-a0e6-44fa-8ea7-715f23787b49"
      },
      "execution_count": null,
      "outputs": [
        {
          "output_type": "execute_result",
          "data": {
            "text/plain": [
              "['2025', '04', '29']"
            ]
          },
          "metadata": {},
          "execution_count": 36
        }
      ]
    },
    {
      "cell_type": "code",
      "source": [
        "csv_string = '1, 홍길동, 100, 90, 80' # csv(comma-separated values)\n",
        "csv_string.split(sep=',')"
      ],
      "metadata": {
        "colab": {
          "base_uri": "https://localhost:8080/"
        },
        "id": "O4p8fVqq3gwC",
        "outputId": "d77f369b-6f03-49f0-dd95-521292edf922"
      },
      "execution_count": null,
      "outputs": [
        {
          "output_type": "execute_result",
          "data": {
            "text/plain": [
              "['1', ' 홍길동', ' 100', ' 90', ' 80']"
            ]
          },
          "metadata": {},
          "execution_count": 37
        }
      ]
    },
    {
      "cell_type": "code",
      "source": [
        "email = 'gildon.hong@naver.com'\n",
        "# 문자열 email에서 이메일 아이디와 도메인을 구분해서 출력\n",
        "\n",
        "result = email.split(sep='@')\n",
        "print(result[0])\n",
        "print(result[1])"
      ],
      "metadata": {
        "colab": {
          "base_uri": "https://localhost:8080/"
        },
        "id": "fh0crhrJ4kVK",
        "outputId": "5f5bfeeb-26b7-4cf0-8212-7509af351d53"
      },
      "execution_count": null,
      "outputs": [
        {
          "output_type": "stream",
          "name": "stdout",
          "text": [
            "gildon.hong\n",
            "naver.com\n"
          ]
        }
      ]
    },
    {
      "cell_type": "code",
      "source": [
        "# str.join(iterable) : iterable의 아이템들을 str으로 연결한 문자열을 리턴.\n",
        "'/'.join(['2025', '04', '29'])"
      ],
      "metadata": {
        "colab": {
          "base_uri": "https://localhost:8080/",
          "height": 35
        },
        "id": "NCdXszcx5aoi",
        "outputId": "73959eb2-5288-48c7-e47e-f48842c96cc8"
      },
      "execution_count": null,
      "outputs": [
        {
          "output_type": "execute_result",
          "data": {
            "text/plain": [
              "'2025/04/29'"
            ],
            "application/vnd.google.colaboratory.intrinsic+json": {
              "type": "string"
            }
          },
          "metadata": {},
          "execution_count": 42
        }
      ]
    },
    {
      "cell_type": "code",
      "source": [
        "','.join(['홍길동', '오쌤', 'Scott'])"
      ],
      "metadata": {
        "colab": {
          "base_uri": "https://localhost:8080/",
          "height": 35
        },
        "id": "93pQkIiv6WZ0",
        "outputId": "47f3f79d-facb-4d27-a1e0-239e68d54c20"
      },
      "execution_count": null,
      "outputs": [
        {
          "output_type": "execute_result",
          "data": {
            "text/plain": [
              "'홍길동,오쌤,Scott'"
            ],
            "application/vnd.google.colaboratory.intrinsic+json": {
              "type": "string"
            }
          },
          "metadata": {},
          "execution_count": 43
        }
      ]
    },
    {
      "cell_type": "code",
      "source": [
        "msg = 'Hello,Python,안녕하세요,파이썬,12345'\n",
        "msg.replace(',', '::') # str.replace(old, new): str에 등장하는 old를 new로 대체한 문자열을 리턴."
      ],
      "metadata": {
        "colab": {
          "base_uri": "https://localhost:8080/",
          "height": 35
        },
        "id": "dsfkJpIR6lxj",
        "outputId": "bac6a73a-6e38-430c-e770-07ea799a022b"
      },
      "execution_count": null,
      "outputs": [
        {
          "output_type": "execute_result",
          "data": {
            "text/plain": [
              "'Hello::Python::안녕하세요::파이썬::12345'"
            ],
            "application/vnd.google.colaboratory.intrinsic+json": {
              "type": "string"
            }
          },
          "metadata": {},
          "execution_count": 46
        }
      ]
    },
    {
      "cell_type": "code",
      "source": [
        "msg.replace(',', '-', 1) # str.replace(old, new, count): str에 등장하는 old를 new로 count번 대체."
      ],
      "metadata": {
        "colab": {
          "base_uri": "https://localhost:8080/",
          "height": 35
        },
        "id": "JdZesCS97ls0",
        "outputId": "53be7315-5235-4097-b4ec-920f65021640"
      },
      "execution_count": null,
      "outputs": [
        {
          "output_type": "execute_result",
          "data": {
            "text/plain": [
              "'Hello-Python,안녕하세요,파이썬,12345'"
            ],
            "application/vnd.google.colaboratory.intrinsic+json": {
              "type": "string"
            }
          },
          "metadata": {},
          "execution_count": 48
        }
      ]
    },
    {
      "cell_type": "code",
      "source": [
        "msg = '안녕? 안녕하세요! Hello, Python.'\n",
        "msg.replace('?', '').replace('!', '').replace(',', '').replace('.','').split() # 메서드 연쇄 호출"
      ],
      "metadata": {
        "colab": {
          "base_uri": "https://localhost:8080/"
        },
        "id": "zrEDFNCS8qbO",
        "outputId": "92231304-f413-47cc-f075-f2b5cbb9458c"
      },
      "execution_count": null,
      "outputs": [
        {
          "output_type": "execute_result",
          "data": {
            "text/plain": [
              "['안녕', '안녕하세요', 'Hello', 'Python']"
            ]
          },
          "metadata": {},
          "execution_count": 52
        }
      ]
    },
    {
      "cell_type": "code",
      "source": [
        "sentence = '        Hello, Python!          안녕하세요....          '\n",
        "print(sentence)\n",
        "print(sentence.lstrip()) # lstrip: left strip\n",
        "print(sentence.rstrip()) # rstrip: right strip\n",
        "print(sentence.strip())"
      ],
      "metadata": {
        "colab": {
          "base_uri": "https://localhost:8080/"
        },
        "id": "-h6cygXP9mMt",
        "outputId": "13f21baf-5dcf-43b3-b1b4-e36c73e9cd3b"
      },
      "execution_count": null,
      "outputs": [
        {
          "output_type": "stream",
          "name": "stdout",
          "text": [
            "        Hello, Python!          안녕하세요....          \n",
            "Hello, Python!          안녕하세요....          \n",
            "        Hello, Python!          안녕하세요....\n",
            "Hello, Python!          안녕하세요....\n"
          ]
        }
      ]
    }
  ]
}