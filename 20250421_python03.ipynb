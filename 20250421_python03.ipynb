{
  "nbformat": 4,
  "nbformat_minor": 0,
  "metadata": {
    "colab": {
      "provenance": [],
      "authorship_tag": "ABX9TyMu96BTroBmZGK37ooled5N",
      "include_colab_link": true
    },
    "kernelspec": {
      "name": "python3",
      "display_name": "Python 3"
    },
    "language_info": {
      "name": "python"
    }
  },
  "cells": [
    {
      "cell_type": "markdown",
      "metadata": {
        "id": "view-in-github",
        "colab_type": "text"
      },
      "source": [
        "<a href=\"https://colab.research.google.com/github/yuuhyun/python_taehoon_itwill/blob/main/20250421_python03.ipynb\" target=\"_parent\"><img src=\"https://colab.research.google.com/assets/colab-badge.svg\" alt=\"Open In Colab\"/></a>"
      ]
    },
    {
      "cell_type": "markdown",
      "source": [
        "#  조건문"
      ],
      "metadata": {
        "id": "hBXvcVmU6qT5"
      }
    },
    {
      "cell_type": "markdown",
      "source": [
        "## else 없는 조건문"
      ],
      "metadata": {
        "id": "GZ4RLrIX6tyg"
      }
    },
    {
      "cell_type": "markdown",
      "source": [
        "```\n",
        "if 조건식:\n",
        "    조건식을 만족할 때 실행할 코드 블록(문장들)\n",
        "```\n",
        "\n",
        "* `if 조건식` 뒤에는 반드시 콜론(:)을 써야 함. 블록 시작을 의미.\n",
        "* if 블록은 반드시 들여쓰기(indentation)를 해야 됨.\n",
        "* 들여쓰기의 크기는 일정해야 함."
      ],
      "metadata": {
        "id": "FN-RgXfu664p"
      }
    },
    {
      "cell_type": "code",
      "execution_count": null,
      "metadata": {
        "colab": {
          "base_uri": "https://localhost:8080/"
        },
        "id": "mtNzsSpT6Xrn",
        "outputId": "f5000c13-ce52-46ec-91fb-227974901739"
      },
      "outputs": [
        {
          "output_type": "stream",
          "name": "stdout",
          "text": [
            "몇 살이세요? 25\n",
            "당신은 25살이군요.\n",
            "===end===\n"
          ]
        }
      ],
      "source": [
        "age = int(input('몇 살이세요? '))\n",
        "if age >= 0:\n",
        "        print(f'당신은 {age}살이군요.')\n",
        "print('=== end ===')"
      ]
    },
    {
      "cell_type": "markdown",
      "source": [
        "```\n",
        "if 조건식:\n",
        "    조건식을 만족할 때 실행할 코드 블록\n",
        "else:\n",
        "    조건식을 만족하지 못할 때 실행할 코드 블록\n",
        "```\n",
        "\n",
        "* 조건식을 만족하면 (1) 블록을 실행. 조건을 만족하지 못하면 (2) 블록을 실행.\n",
        "* `if 조건식`과 `else` 다음에는 반드시 콜론(:)을 써야 함.\n",
        "* if 블록(1)과 else 블록(2)은 반드시 들여쓰기를 해야 함.\n",
        "* 들여쓰기의 크기는 일정해야 됨."
      ],
      "metadata": {
        "id": "87EOYvdyDDI3"
      }
    },
    {
      "cell_type": "code",
      "source": [
        "age = int(input('몇 살이세요? '))\n",
        "if age>=0:\n",
        "    print(f'당신은 {age}살이군요.')\n",
        "else:\n",
        "    print('잘못된 나이를 입력했습니다.')\n",
        "print('=== end ===')"
      ],
      "metadata": {
        "colab": {
          "base_uri": "https://localhost:8080/"
        },
        "id": "nJLmHLpLDC4_",
        "outputId": "cea6c6fc-7a42-41eb-c240-675477ad6066"
      },
      "execution_count": null,
      "outputs": [
        {
          "output_type": "stream",
          "name": "stdout",
          "text": [
            "몇 살이세요? -10\n",
            "잘못된 나이를 입력했습니다.\n",
            "=== end ===\n"
          ]
        }
      ]
    },
    {
      "cell_type": "code",
      "source": [
        "num = int(input('숫자를 입력해주세요. ')) # 정수를 입력받아서 변수에 저장\n",
        "if num%2==0: # 입력받은 정수가 짝수이면 '짝수'라고 출력\n",
        "    print('짝수')\n",
        "else: # 그렇지 않으면 '홀수'라고 출력\n",
        "    print('홀수')"
      ],
      "metadata": {
        "colab": {
          "base_uri": "https://localhost:8080/"
        },
        "id": "AKfDpYsLHM72",
        "outputId": "1331c9d3-2be0-4872-d135-d1352cd71c1f"
      },
      "execution_count": null,
      "outputs": [
        {
          "output_type": "stream",
          "name": "stdout",
          "text": [
            "숫자를 입력해주세요. 3\n",
            "홀수\n"
          ]
        }
      ]
    },
    {
      "cell_type": "markdown",
      "source": [
        "False Value : 파이썬에서 거짓(False)로 취급하는 값.\n",
        "* 숫자 0  : False\n",
        "* 빈 문자열('',\"\")\n",
        "* 빈 리스트([])\n",
        "* None(변수에 값을 할당하지 않을 때 사용하는 예약어)"
      ],
      "metadata": {
        "id": "qRtzX_WANWXO"
      }
    },
    {
      "cell_type": "code",
      "source": [
        "number = int(input('정수 입력>>> '))\n",
        "if number % 2:\n",
        "    # 변수 number를 2로 나눈 나머지가 있으면\n",
        "    print('홀수')\n",
        "else:\n",
        "    # 나머지가 없으면\n",
        "    print('짝수')\n",
        "    # 나머지가 없으면"
      ],
      "metadata": {
        "colab": {
          "base_uri": "https://localhost:8080/"
        },
        "id": "JAC_YV5pNVuu",
        "outputId": "78ad6bbc-f125-4e76-c897-71e5d9020ad7"
      },
      "execution_count": null,
      "outputs": [
        {
          "output_type": "stream",
          "name": "stdout",
          "text": [
            "정수 입력>>> 111\n",
            "홀수\n"
          ]
        }
      ]
    },
    {
      "cell_type": "markdown",
      "source": [
        "# chained conditionals"
      ],
      "metadata": {
        "id": "1_vbYhjiP5du"
      }
    },
    {
      "cell_type": "markdown",
      "source": [
        "```\n",
        "if 조건식1:\n",
        "    (조건식1)이 True인 경우 실행할 블록\n",
        "elif 조건식2:\n",
        "    (조건식2)이 True인 경우 실행할 블록\n",
        "...    \n",
        "else:\n",
        "위의 조건식들이 False일 경우 실행할 블록\n",
        "```\n",
        "\n",
        "* 모든 블록들은 같은 크기로 들여쓰기를 해야 함.\n",
        "* `elif 조건식` 블록은 1개 이상 있을 수 있음.\n",
        "* else 블록은 생략할 수 있음."
      ],
      "metadata": {
        "id": "-eF37IAEQDxt"
      }
    },
    {
      "cell_type": "code",
      "source": [
        "number = float(input('숫자 입력>>> '))\n",
        "if number > 0 :\n",
        "    print('양수')\n",
        "elif number < 0 :\n",
        "    print('음수')\n",
        "else:\n",
        "    print('zero')"
      ],
      "metadata": {
        "colab": {
          "base_uri": "https://localhost:8080/"
        },
        "id": "ot_CD39ZP7uN",
        "outputId": "48fdcb55-2159-41db-da53-88b9be9e05f8"
      },
      "execution_count": null,
      "outputs": [
        {
          "output_type": "stream",
          "name": "stdout",
          "text": [
            "숫자 입력>>> 0\n",
            "zero\n"
          ]
        }
      ]
    },
    {
      "cell_type": "markdown",
      "source": [
        "# 중첩 조건문"
      ],
      "metadata": {
        "id": "z2gVV7kaS3Q-"
      }
    },
    {
      "cell_type": "markdown",
      "source": [
        "* if 블록, elif 블록, 또는 else 블록 안에서 또다른 조건문(if문, if-else문, if-elif-else 문)을 사용하는 것.\n",
        "* 들여쓰기를 특히 주의!\n",
        "* 들여쓰기 방식에 따라서 전혀 다른 로직의 실행문이 될 수 있음.\n",
        "* 논리 연산자(and, or)를 사용하는 문장 또는 elif 블록을 중첩 조건문로 바꿀 수 있음."
      ],
      "metadata": {
        "id": "X0bYFdYJS4sV"
      }
    },
    {
      "cell_type": "code",
      "source": [
        "number = float(input('숫자 입력>>> '))\n",
        "if number > 0 :\n",
        "    print('양수')\n",
        "else:\n",
        "    if number < 0:\n",
        "        print('음수')\n",
        "    else:\n",
        "        print('zero')"
      ],
      "metadata": {
        "id": "Ln5edNmXT5LW"
      },
      "execution_count": null,
      "outputs": []
    },
    {
      "cell_type": "markdown",
      "source": [
        "연습문제:\n",
        "\n",
        "1. 정수를 3개 입력받고 각각 변수에 저장\n",
        "2. 3개 정수의 총점, 평균을 계산하고 출력\n",
        "3. 평균이 90 이상이면 'A', 80 이상이면 'B', 70 이상이면 'C', 60 이상이면 'D', 60 미만이면 'F'라고 출력."
      ],
      "metadata": {
        "id": "iesfbQOfU34d"
      }
    },
    {
      "cell_type": "code",
      "source": [
        "num1 = int(input('정수를 입력해주세요 >>> '))\n",
        "num2 = int(input('정수를 입력해주세요 >>> '))\n",
        "num3 = int(input('정수를 입력해주세요 >>> '))\n",
        "\n",
        "avg = (num1+num2+num3)/3\n",
        "sum = num1+num2+num3\n",
        "\n",
        "print(f'총점 : {sum}')\n",
        "print(f'평균 : {avg}')\n",
        "\n",
        "if avg >= 90 :\n",
        "    print('A')\n",
        "elif avg >= 80 :\n",
        "    print('B')\n",
        "elif avg >= 70 :\n",
        "    print('C')\n",
        "elif avg >= 60 :\n",
        "    print('D')\n",
        "else:\n",
        "    print('F')"
      ],
      "metadata": {
        "colab": {
          "base_uri": "https://localhost:8080/"
        },
        "id": "R1EWXmG2U2nc",
        "outputId": "dfa4cde7-d7ad-4f51-f6c4-7331a618576a"
      },
      "execution_count": null,
      "outputs": [
        {
          "output_type": "stream",
          "name": "stdout",
          "text": [
            "정수를 입력해주세요 >>> 85\n",
            "정수를 입력해주세요 >>> 92\n",
            "정수를 입력해주세요 >>> 97\n",
            "총점 : 274\n",
            "평균 : 91.33333333333333\n",
            "A\n"
          ]
        }
      ]
    },
    {
      "cell_type": "code",
      "source": [
        "# 강사님이 작성한 code\n",
        "\n",
        "score1 = int(input('점수 1 입력 >>> '))\n",
        "score2 = int(input('점수 2 입력 >>> '))\n",
        "score3 = int(input('점수 3 입력 >>> '))\n",
        "\n",
        "total = score1 + score2 + score3\n",
        "print(f'총점 ={total}')\n",
        "mean = total/3\n",
        "print(f'평균 = {mean}')\n",
        "\n",
        "if mean >= 90 :\n",
        "    print('A')\n",
        "elif mean >= 80 :\n",
        "    print('B')\n",
        "elif mean >= 70 :\n",
        "    print('C')\n",
        "elif mean >= 60 :\n",
        "    print('D')\n",
        "else:\n",
        "    print('F')"
      ],
      "metadata": {
        "id": "3fylt6Ygn6pT"
      },
      "execution_count": null,
      "outputs": []
    },
    {
      "cell_type": "markdown",
      "source": [
        "# match 문"
      ],
      "metadata": {
        "id": "inEI3n-LrVpS"
      }
    },
    {
      "cell_type": "markdown",
      "source": [
        "```\n",
        "match 변수(식):\n",
        "    case 값1:\n",
        "        변수(식)의 결과가 값1인 경우 실행할 코드 블록\n",
        "    case 값2:\n",
        "        변수(식)의 결과가 값1인 경우 실행할 코드 블록\n",
        "\n",
        "```"
      ],
      "metadata": {
        "id": "Qi-ZoDCNrYla"
      }
    },
    {
      "cell_type": "code",
      "source": [
        "day = int(input('0 ~ 6 사이의 정수 입력 >>>'))\n",
        "match day:\n",
        "    case 0:\n",
        "        print('일요일')\n",
        "    case 1:\n",
        "        print('월요일')\n",
        "    case 2:\n",
        "        print('화요일')\n",
        "    case 3:\n",
        "        print('수요일')\n",
        "    case 4:\n",
        "        print('목요일')\n",
        "    case 5:\n",
        "        print('금요일')\n",
        "    case 6:\n",
        "        print('토요일')"
      ],
      "metadata": {
        "colab": {
          "base_uri": "https://localhost:8080/"
        },
        "id": "mQOlufXlsJQC",
        "outputId": "cc80e883-42ce-4d06-c9ad-fb1b0804d3a9"
      },
      "execution_count": null,
      "outputs": [
        {
          "output_type": "stream",
          "name": "stdout",
          "text": [
            "0 ~ 6 사이의 정수 입력 >>>5\n",
            "금요일\n"
          ]
        }
      ]
    },
    {
      "cell_type": "code",
      "source": [
        "day = int(input('0 ~ 6 사이의 정수 입력 >>>'))\n",
        "match day:\n",
        "    case 1 | 2 | 3 | 4 | 5:\n",
        "        print('학원 가야함.')\n",
        "    case 0 | 6:\n",
        "        print('주말.. 잘 놀아야지...')"
      ],
      "metadata": {
        "colab": {
          "base_uri": "https://localhost:8080/"
        },
        "id": "X-a7-92GtixK",
        "outputId": "c73ef0e4-a019-408d-f4a2-a25c7bfbc4de"
      },
      "execution_count": null,
      "outputs": [
        {
          "output_type": "stream",
          "name": "stdout",
          "text": [
            "0 ~ 6 사이의 정수 입력 >>>0\n",
            "주말.. 잘 놀아야지...\n"
          ]
        }
      ]
    },
    {
      "cell_type": "code",
      "source": [
        "# if else문 사용한 동일결과 code\n",
        "\n",
        "day = int(input('0 ~ 6 사이의 정수 입력 >>>'))\n",
        "if day == 1 or day == 2 or day == 3 or day == 4 or day == 5:\n",
        "        print('학원 가야함.')\n",
        "elif day == 0 or day == 6:\n",
        "        print('주말.. 잘 놀아야지...')"
      ],
      "metadata": {
        "colab": {
          "base_uri": "https://localhost:8080/"
        },
        "id": "-ekLqaC5uxjC",
        "outputId": "096686a6-0313-4655-90e8-c1f63136e324"
      },
      "execution_count": null,
      "outputs": [
        {
          "output_type": "stream",
          "name": "stdout",
          "text": [
            "0 ~ 6 사이의 정수 입력 >>>0\n",
            "주말.. 잘 놀아야지...\n"
          ]
        }
      ]
    },
    {
      "cell_type": "code",
      "source": [
        "day = int(input('0 ~ 6 사이의 정수 입력 >>>'))\n",
        "match day:\n",
        "    case 1 | 2 | 3 | 4 | 5:\n",
        "        print('평일')\n",
        "    case 0 | 6:\n",
        "        print('주말')\n",
        "    case _: # 위에서 나열된 case들 이외의 나머지 전부\n",
        "        print('숫자를 잘못 입력했어요...')"
      ],
      "metadata": {
        "colab": {
          "base_uri": "https://localhost:8080/"
        },
        "id": "vuC7VIMnvQaa",
        "outputId": "2eb0e383-5ddc-4ee8-da6d-3f87bf48c938"
      },
      "execution_count": null,
      "outputs": [
        {
          "output_type": "stream",
          "name": "stdout",
          "text": [
            "0 ~ 6 사이의 정수 입력 >>>-254\n",
            "숫자를 잘못 입력했어요...\n"
          ]
        }
      ]
    },
    {
      "cell_type": "markdown",
      "source": [
        "# 난수(random number) 생성 방법"
      ],
      "metadata": {
        "id": "hNhvXwoKw32Z"
      }
    },
    {
      "cell_type": "code",
      "source": [
        "import random # 난수 생성 기능(함수)들을 가지고 있는 random 모듈을 사용."
      ],
      "metadata": {
        "id": "AzSynz5_w7lJ"
      },
      "execution_count": null,
      "outputs": []
    },
    {
      "cell_type": "code",
      "source": [
        "random.random() # random.random(): 0<= x < 1 범위의 실수 난수를 생성."
      ],
      "metadata": {
        "colab": {
          "base_uri": "https://localhost:8080/"
        },
        "id": "3ifGcItRxgLZ",
        "outputId": "e49f0253-a46d-440c-c84b-efe70db16123"
      },
      "execution_count": null,
      "outputs": [
        {
          "output_type": "execute_result",
          "data": {
            "text/plain": [
              "0.24563333898442208"
            ]
          },
          "metadata": {},
          "execution_count": 21
        }
      ]
    },
    {
      "cell_type": "code",
      "source": [
        "random.randrange(0, 7) # random.randrange(start, stop): start <= x < stop 범위의 정수 난수를 생성."
      ],
      "metadata": {
        "colab": {
          "base_uri": "https://localhost:8080/"
        },
        "id": "WVFY4EPFyE45",
        "outputId": "4de4f7ed-6d4d-40d9-ce65-a2c506f82614"
      },
      "execution_count": null,
      "outputs": [
        {
          "output_type": "execute_result",
          "data": {
            "text/plain": [
              "5"
            ]
          },
          "metadata": {},
          "execution_count": 49
        }
      ]
    },
    {
      "cell_type": "code",
      "source": [
        "random.randrange(3) # random.randrange(stop): 0 <= x < stop 범위의 정수 난수를 생성."
      ],
      "metadata": {
        "colab": {
          "base_uri": "https://localhost:8080/"
        },
        "id": "RFi4Xp3iyf66",
        "outputId": "9a0ab566-2465-41ce-af6c-f52cb0721fe7"
      },
      "execution_count": null,
      "outputs": [
        {
          "output_type": "execute_result",
          "data": {
            "text/plain": [
              "1"
            ]
          },
          "metadata": {},
          "execution_count": 51
        }
      ]
    },
    {
      "cell_type": "markdown",
      "source": [
        "# 연습문제"
      ],
      "metadata": {
        "id": "jOuO__4u33kR"
      }
    },
    {
      "cell_type": "markdown",
      "source": [
        "가위, 바위, 보 게임의 승패를 출력:\n",
        "* 가위(1), 바위(2), 보(3)\n",
        "* 컴퓨터 - 1 이상 3 이하(4 미만)의 정수 한 개를 생성하고 변수에 저장.\n",
        "* 사용자 - 1 이상 3 이하의 정수를 입력받아서 변수에 저장.\n",
        "* 승패(조건문 작성) 출력."
      ],
      "metadata": {
        "id": "TJ3SwFui37VQ"
      }
    },
    {
      "cell_type": "code",
      "source": [
        "computer = random.randrange(1, 4) # 1 <= x < 4 정수 난수.\n",
        "print(f'computer = {computer}')"
      ],
      "metadata": {
        "colab": {
          "base_uri": "https://localhost:8080/"
        },
        "id": "IwGep0Uk4dBI",
        "outputId": "8b489894-c6ea-4c57-ccf9-870a0d9a0b83"
      },
      "execution_count": null,
      "outputs": [
        {
          "output_type": "stream",
          "name": "stdout",
          "text": [
            "computer = 3\n"
          ]
        }
      ]
    },
    {
      "cell_type": "code",
      "source": [
        "print('=== 가위 바위 보 ===')\n",
        "print('[1] 가위')\n",
        "print('[2] 바위')\n",
        "print('[3] 보')\n",
        "user = int(input('선택 >>> '))\n",
        "print(f'user = {user}')"
      ],
      "metadata": {
        "colab": {
          "base_uri": "https://localhost:8080/"
        },
        "id": "HlgJEB2R5PK4",
        "outputId": "ae237ba8-d003-403f-cd1f-bd3d56c26d79"
      },
      "execution_count": null,
      "outputs": [
        {
          "output_type": "stream",
          "name": "stdout",
          "text": [
            "=== 가위 바위 보 ===\n",
            "[1] 가위\n",
            "[2] 바위\n",
            "[3] 보\n",
            "선택 >>> 3\n",
            "user = 3\n"
          ]
        }
      ]
    },
    {
      "cell_type": "code",
      "source": [
        "print('=== 가위 바위 보 ===')\n",
        "print('[1] 가위')\n",
        "print('[2] 바위')\n",
        "print('[3] 보')\n",
        "user = int(input('선택 >>> '))\n",
        "if user == 1:\n",
        "    print('user = 가위')\n",
        "elif user == 2:\n",
        "    print('user =  바위')\n",
        "elif user == 3:\n",
        "    print('user =  보')\n",
        "else:\n",
        "    print(\"잘못된 수를 입력했습니다!\")\n",
        "\n",
        "computer = random.randrange(1, 4) # 1 <= x < 4 정수 난수.\n",
        "if computer == 1:\n",
        "    print('computer = 가위')\n",
        "elif computer == 2:\n",
        "    print('computer =  바위')\n",
        "elif computer == 3:\n",
        "    print('computer =  보')\n",
        "\n",
        "if computer == user:\n",
        "    print(\"무승부입니다\")\n",
        "elif computer == 1:\n",
        "    if user == 3:\n",
        "        print(\"컴퓨터의 승리입니다!\")\n",
        "    else:\n",
        "        pass\n",
        "elif computer > user:\n",
        "    if computer == 3:\n",
        "        if user == 1:\n",
        "            print(\"당신의 승리입니다!\")\n",
        "    else:\n",
        "        print(\"컴퓨터의 승리입니다!\")\n",
        "else:\n",
        "    print(\"당신의 승리입니다!\")\n",
        "\n"
      ],
      "metadata": {
        "colab": {
          "base_uri": "https://localhost:8080/"
        },
        "id": "S2bYsHci6K5Y",
        "outputId": "40fab9ff-e2d8-4d27-b59f-7614e5cc049e"
      },
      "execution_count": null,
      "outputs": [
        {
          "output_type": "stream",
          "name": "stdout",
          "text": [
            "=== 가위 바위 보 ===\n",
            "[1] 가위\n",
            "[2] 바위\n",
            "[3] 보\n",
            "선택 >>> 2\n",
            "user =  바위\n",
            "computer = 가위\n"
          ]
        }
      ]
    },
    {
      "cell_type": "code",
      "source": [
        "if user == 1: # 사용자가 가위를 낸 경우\n",
        "    if computer == 1: # 컴퓨터가 가위를 낸 경우\n",
        "        print('비김')\n",
        "    elif computer == 2: # 컴퓨터가 바위를 낸 경우\n",
        "        print('컴퓨터가 승')\n",
        "    else:  # 컴퓨터가 보를 낸 경우\n",
        "        print('사용자 승')\n",
        "elif user == 2 : #사용자가 바위를 낸 경우\n",
        "    if computer == 1: # 컴퓨터가 가위를 낸 경우\n",
        "        print('사용자 승')\n",
        "    elif computer == 2: # 컴퓨터가 바위를 낸 경우\n",
        "        print('비김')\n",
        "    else:  # 컴퓨터가 보를 낸 경우\n",
        "        print('컴퓨터 승')\n",
        "else: #사용자가 보를 낸 경우\n",
        "    if computer == 1: # 컴퓨터가 가위를 낸 경우\n",
        "        print('컴퓨터 승')\n",
        "    elif computer == 2: # 컴퓨터가 바위를 낸 경우\n",
        "        print('사용자 승')\n",
        "    else:  # 컴퓨터가 보를 낸 경우\n",
        "        print('비김')"
      ],
      "metadata": {
        "colab": {
          "base_uri": "https://localhost:8080/"
        },
        "id": "lWfyBUGF8ojR",
        "outputId": "de1975d9-88b6-4250-d023-9a23ca29eb7e"
      },
      "execution_count": null,
      "outputs": [
        {
          "output_type": "stream",
          "name": "stdout",
          "text": [
            "비김\n"
          ]
        }
      ]
    },
    {
      "cell_type": "code",
      "source": [
        "if user == computer: # 비긴 경우\n",
        "    print('비김')\n",
        "elif (user == 1 and computer == 3) or (user == 2 and computer == 1) or (user == 3 and computer == 1): # 사용자가 이긴 경우\n",
        "    print('사용자 승')\n",
        "else : # 그 이외의 나머지(컴퓨터가 이긴 경우)\n",
        "    print('컴퓨터 승')"
      ],
      "metadata": {
        "colab": {
          "base_uri": "https://localhost:8080/"
        },
        "id": "vwi0qplXCeHA",
        "outputId": "46b4cb92-ff04-45ce-a75f-402d2dda66d3"
      },
      "execution_count": null,
      "outputs": [
        {
          "output_type": "stream",
          "name": "stdout",
          "text": [
            "비김\n"
          ]
        }
      ]
    },
    {
      "cell_type": "code",
      "source": [
        "check = user - computer\n",
        "if check == 0:\n",
        "    print('비김')\n",
        "elif (check == -2) or (check == 1):\n",
        "    print('사용자 승')\n",
        "else:\n",
        "    print('컴퓨터 승')"
      ],
      "metadata": {
        "colab": {
          "base_uri": "https://localhost:8080/"
        },
        "id": "Us7otCwMHOr_",
        "outputId": "5ccc0ef1-120b-4083-80ef-ceb15d40ef87"
      },
      "execution_count": null,
      "outputs": [
        {
          "output_type": "stream",
          "name": "stdout",
          "text": [
            "비김\n"
          ]
        }
      ]
    }
  ]
}