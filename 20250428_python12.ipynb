{
  "nbformat": 4,
  "nbformat_minor": 0,
  "metadata": {
    "colab": {
      "provenance": [],
      "authorship_tag": "ABX9TyPQSfh23gUgwODYg81mQYca",
      "include_colab_link": true
    },
    "kernelspec": {
      "name": "python3",
      "display_name": "Python 3"
    },
    "language_info": {
      "name": "python"
    }
  },
  "cells": [
    {
      "cell_type": "markdown",
      "metadata": {
        "id": "view-in-github",
        "colab_type": "text"
      },
      "source": [
        "<a href=\"https://colab.research.google.com/github/yuuhyun/python_taehoon_itwill/blob/main/20250428_python12.ipynb\" target=\"_parent\"><img src=\"https://colab.research.google.com/assets/colab-badge.svg\" alt=\"Open In Colab\"/></a>"
      ]
    },
    {
      "cell_type": "markdown",
      "source": [
        "# 1급 객체(first-class object)로서의 함수"
      ],
      "metadata": {
        "id": "TUtnP0Wt4LLN"
      }
    },
    {
      "cell_type": "markdown",
      "source": [
        "**함수(function)는 객체(object).**\n",
        "\n",
        "* 객체: 숫자(int, float), 문자열(str), 논리값(True/False), list, dict, tuple, ...\n",
        "* 함수는 변수에 할당할 수 있음.\n",
        "* 함수의 아규먼트로 다른 함수를 전달할 수 있음.\n",
        "* 함수의 반환값으로 함수를 사용할 수 있음.\n",
        "* 함수 내부에서 또다른 함수를 선언할 수 있음."
      ],
      "metadata": {
        "id": "k8fDq1sX4pGU"
      }
    },
    {
      "cell_type": "code",
      "execution_count": null,
      "metadata": {
        "id": "jf9B0kFv3_Rb"
      },
      "outputs": [],
      "source": [
        "x = 1 # 정수 1을 변수 x에 할당(저장)\n",
        "print(x) # 정수를 함수의 아규먼트로 전달."
      ]
    },
    {
      "cell_type": "code",
      "source": [
        "result = len('안녕!')\n",
        "print(result)"
      ],
      "metadata": {
        "colab": {
          "base_uri": "https://localhost:8080/"
        },
        "id": "vUTU-fNa52W1",
        "outputId": "075bf465-3143-4996-d8a0-d18616cdadfe"
      },
      "execution_count": null,
      "outputs": [
        {
          "output_type": "stream",
          "name": "stdout",
          "text": [
            "3\n"
          ]
        }
      ]
    },
    {
      "cell_type": "code",
      "source": [
        "def double(x):\n",
        "    return 2 * x"
      ],
      "metadata": {
        "id": "l9znTPoN6VLW"
      },
      "execution_count": null,
      "outputs": []
    },
    {
      "cell_type": "code",
      "source": [
        "result = double(5) # 함수 double을 호출하고 그 반환값을 변수 result에 저장\n",
        "print(result)"
      ],
      "metadata": {
        "colab": {
          "base_uri": "https://localhost:8080/"
        },
        "id": "AKcCewSk6e22",
        "outputId": "a9cfeb67-324f-462c-ae87-30029dfee2c2"
      },
      "execution_count": null,
      "outputs": [
        {
          "output_type": "stream",
          "name": "stdout",
          "text": [
            "10\n"
          ]
        }
      ]
    },
    {
      "cell_type": "code",
      "source": [
        "print(double(3)) # 함수 double을 호출하고 그 결과를 출력"
      ],
      "metadata": {
        "colab": {
          "base_uri": "https://localhost:8080/"
        },
        "id": "hYH_lJ-L6zLO",
        "outputId": "63432752-a1c3-41c1-9716-e7eb63ade7c7"
      },
      "execution_count": null,
      "outputs": [
        {
          "output_type": "stream",
          "name": "stdout",
          "text": [
            "6\n"
          ]
        }
      ]
    },
    {
      "cell_type": "code",
      "source": [
        "print(double) # double 이름의 함수 객체를 문자열로 표현해서 출력. 함수를 호출한 게 아님."
      ],
      "metadata": {
        "colab": {
          "base_uri": "https://localhost:8080/"
        },
        "id": "Cwv193m77Mkl",
        "outputId": "7afe5608-914d-4870-b852-c74f53017fd5"
      },
      "execution_count": null,
      "outputs": [
        {
          "output_type": "stream",
          "name": "stdout",
          "text": [
            "<function double at 0x7af8bc5680e0>\n"
          ]
        }
      ]
    },
    {
      "cell_type": "markdown",
      "source": [
        "## 함수를 변수에 할당"
      ],
      "metadata": {
        "id": "ezyypjsc7wXm"
      }
    },
    {
      "cell_type": "code",
      "source": [
        "twice = double # 함수 호출이 아니고, double 함수 객체를 변수 twice에 할당(저장)\n",
        "print(twice)"
      ],
      "metadata": {
        "colab": {
          "base_uri": "https://localhost:8080/"
        },
        "id": "OzqDq-Cb7cmF",
        "outputId": "d1d67141-8b4e-4caa-8ed0-722b77d5bde8"
      },
      "execution_count": null,
      "outputs": [
        {
          "output_type": "stream",
          "name": "stdout",
          "text": [
            "<function double at 0x7af8bc5680e0>\n"
          ]
        }
      ]
    },
    {
      "cell_type": "code",
      "source": [
        "print(twice(10)) # twice() 함수 호출은 double() 함수 호출과 동일."
      ],
      "metadata": {
        "colab": {
          "base_uri": "https://localhost:8080/"
        },
        "id": "kXOBITUP9EwG",
        "outputId": "8d9b9712-ec8d-4ddd-f3d6-635e226af68a"
      },
      "execution_count": null,
      "outputs": [
        {
          "output_type": "stream",
          "name": "stdout",
          "text": [
            "20\n"
          ]
        }
      ]
    },
    {
      "cell_type": "markdown",
      "source": [
        "## 아규먼트로 함수를 전달받는 함수"
      ],
      "metadata": {
        "id": "pGQ1FYX89srf"
      }
    },
    {
      "cell_type": "code",
      "source": [
        "def calculator(x, y, fn):\n",
        "    result = fn(x,y)\n",
        "\n",
        "    return result"
      ],
      "metadata": {
        "id": "Q8rXvlZg9uo2"
      },
      "execution_count": null,
      "outputs": []
    },
    {
      "cell_type": "code",
      "source": [
        "def plus(x, y):\n",
        "    return x + y"
      ],
      "metadata": {
        "id": "SEdgcGP5-jg3"
      },
      "execution_count": null,
      "outputs": []
    },
    {
      "cell_type": "code",
      "source": [
        "result = calculator(1, 2, plus)\n",
        "print(result)"
      ],
      "metadata": {
        "colab": {
          "base_uri": "https://localhost:8080/"
        },
        "id": "GQEiUpKg-r-_",
        "outputId": "73f92b64-c4fd-4332-c8c4-b8dc0c783854"
      },
      "execution_count": null,
      "outputs": [
        {
          "output_type": "stream",
          "name": "stdout",
          "text": [
            "3\n"
          ]
        }
      ]
    },
    {
      "cell_type": "code",
      "source": [
        "def minus(x, y):\n",
        "    return x- y\n",
        "\n",
        "result = calculator(1, 2, minus)\n",
        "print(result)"
      ],
      "metadata": {
        "colab": {
          "base_uri": "https://localhost:8080/"
        },
        "id": "nMaHZUdQAHjh",
        "outputId": "ee16b64d-cef5-4b6a-f4e4-066100767639"
      },
      "execution_count": null,
      "outputs": [
        {
          "output_type": "stream",
          "name": "stdout",
          "text": [
            "-1\n"
          ]
        }
      ]
    },
    {
      "cell_type": "code",
      "source": [
        "def is_greater(x,y):\n",
        "    return x > y\n",
        "\n",
        "result = calculator(1, 2, is_greater)\n",
        "print(result)"
      ],
      "metadata": {
        "colab": {
          "base_uri": "https://localhost:8080/"
        },
        "id": "-e_kam-hBZyA",
        "outputId": "159c3c60-05f2-428e-be8d-538abfa2749d"
      },
      "execution_count": null,
      "outputs": [
        {
          "output_type": "stream",
          "name": "stdout",
          "text": [
            "False\n"
          ]
        }
      ]
    },
    {
      "cell_type": "markdown",
      "source": [
        "## 내부 함수, 함수를 리턴하는 함수"
      ],
      "metadata": {
        "id": "dbNiTRiXBsBI"
      }
    },
    {
      "cell_type": "markdown",
      "source": [
        "내부 함수(inter function), 지역 함수(local function):\n",
        "\n",
        "* 함수 내부에서 선언된 함수.\n",
        "* 선언된 함수 내부에서만 호출할 수 있음.\n",
        "* 선언된 함수 외부에서는 호출할 수 없음.\n",
        "* 외부 함수의 지역 변수들(파라미터 포함)을 사용할 수 있음."
      ],
      "metadata": {
        "id": "5loFgXoSCwVg"
      }
    },
    {
      "cell_type": "code",
      "source": [
        "def make_incrementor(n):\n",
        "    # 내부 함수\n",
        "    def add_n(x):\n",
        "        return x + n\n",
        "\n",
        "    return add_n"
      ],
      "metadata": {
        "id": "YIkm0tmFBt4x"
      },
      "execution_count": null,
      "outputs": []
    },
    {
      "cell_type": "code",
      "source": [
        "increase_by_2 = make_incrementor(2)\n",
        "print(increase_by_2)\n",
        "result = increase_by_2(10)\n",
        "print(result)"
      ],
      "metadata": {
        "colab": {
          "base_uri": "https://localhost:8080/"
        },
        "id": "lV95ZPb1CHio",
        "outputId": "b2c13175-334f-454a-dc20-c7259784fd9f"
      },
      "execution_count": null,
      "outputs": [
        {
          "output_type": "stream",
          "name": "stdout",
          "text": [
            "<function make_incrementor.<locals>.add_n at 0x7af88afbf920>\n",
            "12\n"
          ]
        }
      ]
    },
    {
      "cell_type": "code",
      "source": [
        "plus_10 = make_incrementor(10)\n",
        "result = plus_10(100)\n",
        "print(result)"
      ],
      "metadata": {
        "colab": {
          "base_uri": "https://localhost:8080/"
        },
        "id": "_QYfeGHcE7dS",
        "outputId": "c9a0e942-f069-4eea-85df-205a14fce8ed"
      },
      "execution_count": null,
      "outputs": [
        {
          "output_type": "stream",
          "name": "stdout",
          "text": [
            "110\n"
          ]
        }
      ]
    },
    {
      "cell_type": "code",
      "source": [
        "# 짧은 code\n",
        "result = make_incrementor(100)(123)\n",
        "print(result)"
      ],
      "metadata": {
        "colab": {
          "base_uri": "https://localhost:8080/"
        },
        "id": "DA8zTpxtFkUy",
        "outputId": "38d94ba6-6e77-4fdb-ac51-9c29373ffcec"
      },
      "execution_count": null,
      "outputs": [
        {
          "output_type": "stream",
          "name": "stdout",
          "text": [
            "223\n"
          ]
        }
      ]
    },
    {
      "cell_type": "markdown",
      "source": [
        "# 람다 표현식(Lambda Expression)"
      ],
      "metadata": {
        "id": "Cd7KouGX42R9"
      }
    },
    {
      "cell_type": "markdown",
      "source": [
        "* 문법\n",
        "```\n",
        "lambda param1, param2, ...: expression(식)\n",
        "```\n",
        "* 이름이 없는 함수\n",
        "* 함수 이름 선언 없이, 함수 파라미터 선언과 반환값 또는 반환 식으로 함수를 정의하는 것.\n",
        "* 람다 표현식은 변수에 할당할 수 있음. **함수의 아규먼트로 전달할 수 있음.**"
      ],
      "metadata": {
        "id": "f2HWv0U75rYl"
      }
    },
    {
      "cell_type": "code",
      "source": [
        "# 함수 선언\n",
        "# def plus_one(x):\n",
        "#    return x + 1\n",
        "\n",
        "# 람다 표현식\n",
        "plus_one = lambda x: x + 1\n",
        "print(plus_one)\n",
        "print(plus_one(1))"
      ],
      "metadata": {
        "colab": {
          "base_uri": "https://localhost:8080/"
        },
        "id": "uRi5oQ0c604e",
        "outputId": "2849f084-8ebf-479e-d772-011fe5ab6fba"
      },
      "execution_count": null,
      "outputs": [
        {
          "output_type": "stream",
          "name": "stdout",
          "text": [
            "<function <lambda> at 0x7925cb346520>\n",
            "2\n"
          ]
        }
      ]
    },
    {
      "cell_type": "code",
      "source": [
        "# def add(x, y):\n",
        "# return x + y\n",
        "\n",
        "add = lambda x, y: x + y\n",
        "print(add(100, 200))"
      ],
      "metadata": {
        "colab": {
          "base_uri": "https://localhost:8080/"
        },
        "id": "UcTXQ7Mr77eX",
        "outputId": "207bdf5b-c470-439d-d936-fa4159735c23"
      },
      "execution_count": null,
      "outputs": [
        {
          "output_type": "stream",
          "name": "stdout",
          "text": [
            "300\n"
          ]
        }
      ]
    },
    {
      "cell_type": "markdown",
      "source": [
        "## 함수 calculator()의 아규먼트로 람다 표현식을 전달."
      ],
      "metadata": {
        "id": "eRIVG7Fn8xFX"
      }
    },
    {
      "cell_type": "code",
      "source": [
        "result = calculator(1, 2, lambda x, y : x + y)\n",
        "print(result)"
      ],
      "metadata": {
        "colab": {
          "base_uri": "https://localhost:8080/"
        },
        "id": "h4xw3ZxW84Xf",
        "outputId": "e8e9a64c-6ade-4d9f-9ffb-abb1567a18fd"
      },
      "execution_count": null,
      "outputs": [
        {
          "output_type": "stream",
          "name": "stdout",
          "text": [
            "3\n"
          ]
        }
      ]
    },
    {
      "cell_type": "code",
      "source": [
        "result = calculator(1, 2, lambda x, y : x - y)\n",
        "print(result)"
      ],
      "metadata": {
        "colab": {
          "base_uri": "https://localhost:8080/"
        },
        "id": "xndrri7m9A7i",
        "outputId": "f8f9772c-c07b-4463-cffc-5cd8d38bd1a1"
      },
      "execution_count": null,
      "outputs": [
        {
          "output_type": "stream",
          "name": "stdout",
          "text": [
            "-1\n"
          ]
        }
      ]
    },
    {
      "cell_type": "code",
      "source": [
        "#  곱하기 람다를 calculator에게 전달\n",
        "\n",
        "result = calculator(1, 2, lambda x, y : x * y)\n",
        "print(result)\n",
        "\n",
        "#  나누기 람다를 calculator에게 전달\n",
        "\n",
        "result = calculator(1, 2, lambda x, y : x / y)\n",
        "print(result)"
      ],
      "metadata": {
        "colab": {
          "base_uri": "https://localhost:8080/"
        },
        "id": "VfIYc62Z98Gv",
        "outputId": "73f9504d-c593-49be-bc9d-24ac839036ff"
      },
      "execution_count": null,
      "outputs": [
        {
          "output_type": "stream",
          "name": "stdout",
          "text": [
            "2\n",
            "0.5\n"
          ]
        }
      ]
    },
    {
      "cell_type": "markdown",
      "source": [
        "## lambda를 아규먼트로 전달하는 예"
      ],
      "metadata": {
        "id": "Vne_vLDRCvFS"
      }
    },
    {
      "cell_type": "markdown",
      "source": [
        "* filter : 조건을 만족하는 원소들로 이루어진 리스트를 리턴.\n",
        "* map : 리스트의 원소를 일정한 규칙에 의해서 다른 값으로 변환(매핑)."
      ],
      "metadata": {
        "id": "5WNmLDAFC0Qx"
      }
    },
    {
      "cell_type": "code",
      "source": [
        "import random"
      ],
      "metadata": {
        "id": "ByKlET9dCzcy"
      },
      "execution_count": null,
      "outputs": []
    },
    {
      "cell_type": "code",
      "source": [
        "numbers = [random.randrange(10) for _ in range(10)]\n",
        "print(numbers)"
      ],
      "metadata": {
        "colab": {
          "base_uri": "https://localhost:8080/"
        },
        "id": "VgiObM7BDq_i",
        "outputId": "92eaaf4b-729f-41fb-f397-ae25e8e172b7"
      },
      "execution_count": null,
      "outputs": [
        {
          "output_type": "stream",
          "name": "stdout",
          "text": [
            "[1, 1, 1, 6, 4, 6, 8, 4, 0, 1]\n"
          ]
        }
      ]
    },
    {
      "cell_type": "markdown",
      "source": [
        "리스트 numbers에서 짝수들만 필터링한 리스트."
      ],
      "metadata": {
        "id": "hNmfhDlXEIyS"
      }
    },
    {
      "cell_type": "code",
      "source": [
        "# filter(function, iterable) : iterable의 원소를 function의 아규먼트로 전달했을 때 True를 리턴하는 값들로 이루어진 리스트를 리턴.\n",
        "\n",
        "evens = filter(lambda x: x % 2 == 0, numbers)\n",
        "result = list(evens) # 필터링된 객체를 리스트(list) 타입으로 변환.\n",
        "print(result)"
      ],
      "metadata": {
        "colab": {
          "base_uri": "https://localhost:8080/"
        },
        "id": "nqndT6TsEKpi",
        "outputId": "3a10d5dc-f621-4943-f8df-72dffb8df7f4"
      },
      "execution_count": null,
      "outputs": [
        {
          "output_type": "stream",
          "name": "stdout",
          "text": [
            "[6, 4, 6, 8, 4, 0]\n"
          ]
        }
      ]
    },
    {
      "cell_type": "markdown",
      "source": [
        "리스트 numbers 원소들의 제곱으로 이루어진 리스트."
      ],
      "metadata": {
        "id": "cmRvRUNaGO9q"
      }
    },
    {
      "cell_type": "code",
      "source": [
        "# map (function, iterable) : iterable의 원소들을 function의 아규먼트로 전달해서 function이 리턴해 주는 값들로 이루어진 map 객체를 리턴.\n",
        "squares = map(lambda x: x ** 2, numbers)\n",
        "result = list(squares) # 매핑(변환)된 객체를 리스트 타입으로 변환.\n",
        "print(result)"
      ],
      "metadata": {
        "colab": {
          "base_uri": "https://localhost:8080/"
        },
        "id": "Esa69PfbGOeT",
        "outputId": "c2d0ae58-8c71-499e-d989-9309befdef59"
      },
      "execution_count": null,
      "outputs": [
        {
          "output_type": "stream",
          "name": "stdout",
          "text": [
            "[1, 1, 1, 36, 16, 36, 64, 16, 0, 1]\n"
          ]
        }
      ]
    },
    {
      "cell_type": "markdown",
      "source": [
        "연습문제 1.\n",
        "* [-10, 10] 범위는 난수 10개를 원소로 갖는 리스트를 만듦.\n",
        "* 위의 리스트에서 음수들만 필터링한 리스트를 만들고 출력.\n",
        "* 홀수들만 필터링한 리스트를 만들고 출력."
      ],
      "metadata": {
        "id": "RhobAqttHx-7"
      }
    },
    {
      "cell_type": "code",
      "source": [
        "rand = [random.randrange(-10, 11) for _ in range(10)]\n",
        "print(rand)\n",
        "\n",
        "minus = filter(lambda x: x < 0, rand)\n",
        "odds = filter(lambda x: x % 2 == 1, rand)\n",
        "\n",
        "print(list(minus))\n",
        "print(list(odds))"
      ],
      "metadata": {
        "colab": {
          "base_uri": "https://localhost:8080/"
        },
        "id": "gBDJfa3GICjD",
        "outputId": "ea9dfee1-4101-446c-abb0-c2bfadfb3bad"
      },
      "execution_count": null,
      "outputs": [
        {
          "output_type": "stream",
          "name": "stdout",
          "text": [
            "[-4, 1, 3, -2, -3, -3, -4, -2, 0, 4]\n",
            "[-4, -2, -3, -3, -4, -2]\n",
            "[1, 3, -3, -3]\n"
          ]
        }
      ]
    },
    {
      "cell_type": "markdown",
      "source": [
        "연습문제 2.\n",
        "* [0,100) 범위의 난수 10개를 원소로 갖는 리스트를 만듦.\n",
        "* 위의 리스트의 원소가 짝수이면 'even', 홀수이면 'odd'로 매핑한 리스트를 만들고 출력.\n",
        "* 리스트의 원소가 0 ~ 19이면 'teen', 20 ~ 59이면 'adult' , 60 이상이면 'senior'로 매핑한 리스트를 만들고 출력."
      ],
      "metadata": {
        "id": "jLJv-4ceH_Z8"
      }
    },
    {
      "cell_type": "code",
      "source": [
        "rand = [random.randrange(0, 100) for _ in range(10)]\n",
        "print(rand)\n",
        "\n",
        "even_odd = map(lambda x: 'even' if x % 2 == 0 else 'odd', rand)\n",
        "print(list(even_odd))\n",
        "\n",
        "age = map(lambda x: 'teen' if x < 20 else ('adult' if x < 60 else 'senior'), rand)\n",
        "print(list(age))"
      ],
      "metadata": {
        "colab": {
          "base_uri": "https://localhost:8080/"
        },
        "id": "Bno-EbXPI-2F",
        "outputId": "a391a7e6-6aac-47a4-ad33-7cb2b361f212"
      },
      "execution_count": null,
      "outputs": [
        {
          "output_type": "stream",
          "name": "stdout",
          "text": [
            "[2, 7, 26, 40, 59, 29, 21, 44, 64, 61]\n",
            "['even', 'odd', 'even', 'even', 'odd', 'odd', 'odd', 'even', 'even', 'odd']\n",
            "['teen', 'teen', 'adult', 'adult', 'adult', 'adult', 'adult', 'adult', 'senior', 'senior']\n"
          ]
        }
      ]
    },
    {
      "cell_type": "code",
      "source": [
        "x = 1\n",
        "print(x)"
      ],
      "metadata": {
        "colab": {
          "base_uri": "https://localhost:8080/"
        },
        "id": "jC7BjEPcO5Hn",
        "outputId": "2033525d-3ee9-44d4-ba72-6e8f54b1132f"
      },
      "execution_count": null,
      "outputs": [
        {
          "output_type": "stream",
          "name": "stdout",
          "text": [
            "1\n"
          ]
        }
      ]
    },
    {
      "cell_type": "markdown",
      "source": [
        "## filter 구현"
      ],
      "metadata": {
        "id": "6bWAbYbETvcR"
      }
    },
    {
      "cell_type": "code",
      "source": [
        "def my_filter(iterable, function):\n",
        "    \"\"\"\n",
        "    iterable의 원소들 중에서 함수 function의 결과가 True가 되는 원소들로 이루어진 리스트를 리턴.\n",
        "\n",
        "    @param iterable: list 또는 tuple\n",
        "    @param function: 아규먼트가 1개이고, True/False를 리턴하는 함수\n",
        "    @return: 리스트(list).\n",
        "    \"\"\"\n",
        "\n",
        "    result = [] # 조건에 맞는 원소들을 저장하기 위한 빈 리스트\n",
        "    for x in iterable: # iterable의 모든 원소들을 순서대로 반복하면서\n",
        "        if function(x): # 함수 호출 결과가 True이면(조건을 만족하면)\n",
        "            result.append(x) # 결과 리스트에 그 원소를 추가\n",
        "\n",
        "    return result"
      ],
      "metadata": {
        "id": "Yu9UpW8xTtrZ"
      },
      "execution_count": null,
      "outputs": []
    },
    {
      "cell_type": "code",
      "source": [
        "numbers = [random.randrange(10) for _ in range(10)]\n",
        "print(numbers)\n",
        "evens = my_filter(numbers, lambda x: x % 2 ==0)\n",
        "print(evens)"
      ],
      "metadata": {
        "colab": {
          "base_uri": "https://localhost:8080/"
        },
        "id": "NXwEzkeLVo_6",
        "outputId": "86da0ba7-2806-40d6-9589-0bb8b7e8695a"
      },
      "execution_count": null,
      "outputs": [
        {
          "output_type": "stream",
          "name": "stdout",
          "text": [
            "[5, 0, 4, 5, 9, 4, 3, 8, 8, 3]\n",
            "[0, 4, 4, 8, 8]\n"
          ]
        }
      ]
    },
    {
      "cell_type": "code",
      "source": [
        "languages = ['Python', 'SQL', 'Java', 'JavaScript', 'HTML']\n",
        "\n",
        "# languages의 문자열들 중에서 길이가 3보다 큰 문자열들로 이루어진 리스트를 my_filter를 사용해서 만들어 보세요.\n",
        "lang_over3 = my_filter(languages, lambda x: len(x) > 3)\n",
        "print(lang_over3)"
      ],
      "metadata": {
        "colab": {
          "base_uri": "https://localhost:8080/"
        },
        "id": "dXXN54ujWyha",
        "outputId": "dffd42e0-12f2-4823-cb3f-59cbdd5d386b"
      },
      "execution_count": null,
      "outputs": [
        {
          "output_type": "stream",
          "name": "stdout",
          "text": [
            "['Python', 'Java', 'JavaScript', 'HTML']\n"
          ]
        }
      ]
    },
    {
      "cell_type": "markdown",
      "source": [
        "## map 구현"
      ],
      "metadata": {
        "id": "9do9QHDQX8y7"
      }
    },
    {
      "cell_type": "code",
      "source": [
        "def write_5times(x):\n",
        "\n",
        "    return x * 11111\n",
        "\n",
        "\n",
        "def my_mapper(iterable, fn):\n",
        "    \"\"\"\n",
        "    iterable의 원소를 함수 fn의 아규먼트로 전달했을 때 그 리턴값을 리스트에 추가해서 리턴.\n",
        "\n",
        "    @param iterable: 리스트 또는 튜플\n",
        "    @param fn: 아규먼트가 1개이고, 1개의 값을 리턴하는 함수.\n",
        "    @return: 리스트.\n",
        "    \"\"\"\n",
        "    result = []\n",
        "\n",
        "    for x in iterable:\n",
        "        result.append(fn(x))\n",
        "\n",
        "    return result\n",
        "\n",
        "print(my_mapper([1,2,3,4,5], write_5times))"
      ],
      "metadata": {
        "colab": {
          "base_uri": "https://localhost:8080/"
        },
        "id": "ZpG56mp0X_6q",
        "outputId": "66e48954-e804-41a4-b49a-96eb784aee49"
      },
      "execution_count": null,
      "outputs": [
        {
          "output_type": "stream",
          "name": "stdout",
          "text": [
            "[11111, 22222, 33333, 44444, 55555]\n"
          ]
        }
      ]
    },
    {
      "cell_type": "code",
      "source": [
        "# 강사님 code\n",
        "\n",
        "def my_mapper2(iterable, fn):\n",
        "    \"\"\"\n",
        "    iterable의 원소를 함수 fn의 아규먼트로 전달했을 때 그 리턴값을 리스트에 추가해서 리턴.\n",
        "\n",
        "    @param iterable: 리스트 또는 튜플\n",
        "    @param fn: 아규먼트가 1개이고, 1개의 값을 리턴하는 함수.\n",
        "    @return: 리스트.\n",
        "    \"\"\"\n",
        "\n",
        "   # result = [] # 매핑된 값들을 저장할 빈 리스트\n",
        "   # for x in iterable: # iterable의 원소들을 순서대로 반복하면서\n",
        "   #     result.append(fn(x)) # 함수 fn()의 리턴값을 리스트에 추가.\n",
        "\n",
        "    result = [fn(x) for x in iterable]\n",
        "\n",
        "    return result"
      ],
      "metadata": {
        "id": "EhAyekXjsCPN"
      },
      "execution_count": null,
      "outputs": []
    },
    {
      "cell_type": "code",
      "source": [
        "numbers = [random.randrange(100) for _ in range(10)] # [0, 100) 범위의 난수 10개를 저장하는 리스트\n",
        "print(numbers)\n",
        "\n",
        "# 짝수 -> 'even' , 홀수 -> 'odd' 매핑\n",
        "result = my_mapper2(numbers, lambda x : 'even' if x % 2 == 0 else 'odd')"
      ],
      "metadata": {
        "colab": {
          "base_uri": "https://localhost:8080/"
        },
        "id": "jpW2BF-0s5vc",
        "outputId": "1cb34a72-aad4-4f2e-edee-510a61c93962"
      },
      "execution_count": null,
      "outputs": [
        {
          "output_type": "stream",
          "name": "stdout",
          "text": [
            "[47, 74, 72, 78, 69, 50, 11, 58, 21, 0]\n"
          ]
        }
      ]
    },
    {
      "cell_type": "code",
      "source": [
        "languages = ['Python', 'SQL', 'Java', 'JavaScript', 'HTML']\n",
        "\n",
        "# languages의 문자열 -> 글자수로 매핑\n",
        "\n",
        "result = my_mapper(languages, lambda x: len(x))\n",
        "print(result)"
      ],
      "metadata": {
        "colab": {
          "base_uri": "https://localhost:8080/"
        },
        "id": "MCtHLBn0t4kc",
        "outputId": "8c4a3e2f-6c82-4335-a85c-837fe2aae376"
      },
      "execution_count": null,
      "outputs": [
        {
          "output_type": "stream",
          "name": "stdout",
          "text": [
            "[6, 3, 4, 10, 4]\n"
          ]
        }
      ]
    }
  ]
}