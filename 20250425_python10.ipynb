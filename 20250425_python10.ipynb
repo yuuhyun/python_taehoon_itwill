{
  "nbformat": 4,
  "nbformat_minor": 0,
  "metadata": {
    "colab": {
      "provenance": [],
      "toc_visible": true,
      "include_colab_link": true
    },
    "kernelspec": {
      "name": "python3",
      "display_name": "Python 3"
    },
    "language_info": {
      "name": "python"
    }
  },
  "cells": [
    {
      "cell_type": "markdown",
      "metadata": {
        "id": "view-in-github",
        "colab_type": "text"
      },
      "source": [
        "<a href=\"https://colab.research.google.com/github/yuuhyun/python_taehoon_itwill/blob/main/20250425_python10.ipynb\" target=\"_parent\"><img src=\"https://colab.research.google.com/assets/colab-badge.svg\" alt=\"Open In Colab\"/></a>"
      ]
    },
    {
      "cell_type": "markdown",
      "source": [
        "# 오류(Error)의 종류"
      ],
      "metadata": {
        "id": "1xZsMJCQXvi-"
      }
    },
    {
      "cell_type": "code",
      "execution_count": null,
      "metadata": {
        "colab": {
          "base_uri": "https://localhost:8080/"
        },
        "id": "O7vC01ygXn0Q",
        "outputId": "720c9301-6e7f-45a4-83d5-f412cd5dddb7"
      },
      "outputs": [
        {
          "output_type": "stream",
          "name": "stdout",
          "text": [
            "안녕하세요.\n"
          ]
        }
      ],
      "source": [
        "# prnt('안녕하세요.')\n",
        "#> 1번 라인을 실행하면, NameError: name 'prnt' is not defined\n",
        "\n",
        "print('안녕하세요.')"
      ]
    },
    {
      "cell_type": "code",
      "source": [
        "# n = int('100.')\n",
        "#> ValueError: invalid literal for int() with base 10: '100.'\n",
        "\n",
        "n = int('100')"
      ],
      "metadata": {
        "id": "IDwhfZsfYsNt"
      },
      "execution_count": null,
      "outputs": []
    },
    {
      "cell_type": "code",
      "source": [
        "# print('200' + 100)\n",
        "#> TypeError: can only concatenate str (not \"int\") to str\n",
        "\n",
        "print('200' + '100')\n",
        "print(200 + 100)"
      ],
      "metadata": {
        "colab": {
          "base_uri": "https://localhost:8080/"
        },
        "id": "u7d17M8NZdt2",
        "outputId": "97577381-dc17-47d3-8db8-f4af7ca9c88e"
      },
      "execution_count": null,
      "outputs": [
        {
          "output_type": "stream",
          "name": "stdout",
          "text": [
            "200100\n",
            "300\n"
          ]
        }
      ]
    },
    {
      "cell_type": "code",
      "source": [
        "numbers = [1, 2, 3, 4, 5]\n",
        "# print(numbers[5])\n",
        "#> IndexError: list index out of range\n",
        "\n",
        "print(numbers[4])"
      ],
      "metadata": {
        "colab": {
          "base_uri": "https://localhost:8080/"
        },
        "id": "RvR9lMBgaU99",
        "outputId": "e607aa33-cf5c-4750-cbca-017c89a6e5b0"
      },
      "execution_count": null,
      "outputs": [
        {
          "output_type": "stream",
          "name": "stdout",
          "text": [
            "5\n"
          ]
        }
      ]
    },
    {
      "cell_type": "markdown",
      "source": [
        "프로그램의 코드를 실행 중에 오류(error)가 발생하는 경우 해결 방법:\n",
        "*   오류가 발생한 코드 위치와 그 원인을 찾아서, 오류가 발생하지 않도록 코드를 수정.\n",
        "*   오류가 발생하더라도 프로그램이 비정상적으로 종료되지 않고 계속 실행될 수 있도록 처리."
      ],
      "metadata": {
        "id": "j6XNDzSUa5TF"
      }
    },
    {
      "cell_type": "code",
      "source": [
        "x = int(input('첫번째 정수 입력>>> '))\n",
        "y = int(input('두번째 정수 입력>>> '))\n",
        "z = x + y\n",
        "print('x + y =', z)"
      ],
      "metadata": {
        "colab": {
          "base_uri": "https://localhost:8080/",
          "height": 277
        },
        "id": "LzMjGAOJb2Uw",
        "outputId": "9b0d0a3d-6c11-407f-8333-9d5e4779ce47"
      },
      "execution_count": null,
      "outputs": [
        {
          "name": "stdout",
          "output_type": "stream",
          "text": [
            "첫번째 정수 입력>>> 10\n",
            "두번째 정수 입력>>> 20.\n"
          ]
        },
        {
          "output_type": "error",
          "ename": "ValueError",
          "evalue": "invalid literal for int() with base 10: '20.'",
          "traceback": [
            "\u001b[0;31m---------------------------------------------------------------------------\u001b[0m",
            "\u001b[0;31mValueError\u001b[0m                                Traceback (most recent call last)",
            "\u001b[0;32m<ipython-input-13-a900c6d3090a>\u001b[0m in \u001b[0;36m<cell line: 0>\u001b[0;34m()\u001b[0m\n\u001b[1;32m      1\u001b[0m \u001b[0mx\u001b[0m \u001b[0;34m=\u001b[0m \u001b[0mint\u001b[0m\u001b[0;34m(\u001b[0m\u001b[0minput\u001b[0m\u001b[0;34m(\u001b[0m\u001b[0;34m'첫번째 정수 입력>>> '\u001b[0m\u001b[0;34m)\u001b[0m\u001b[0;34m)\u001b[0m\u001b[0;34m\u001b[0m\u001b[0;34m\u001b[0m\u001b[0m\n\u001b[0;32m----> 2\u001b[0;31m \u001b[0my\u001b[0m \u001b[0;34m=\u001b[0m \u001b[0mint\u001b[0m\u001b[0;34m(\u001b[0m\u001b[0minput\u001b[0m\u001b[0;34m(\u001b[0m\u001b[0;34m'두번째 정수 입력>>> '\u001b[0m\u001b[0;34m)\u001b[0m\u001b[0;34m)\u001b[0m\u001b[0;34m\u001b[0m\u001b[0;34m\u001b[0m\u001b[0m\n\u001b[0m\u001b[1;32m      3\u001b[0m \u001b[0mz\u001b[0m \u001b[0;34m=\u001b[0m \u001b[0mx\u001b[0m \u001b[0;34m+\u001b[0m \u001b[0my\u001b[0m\u001b[0;34m\u001b[0m\u001b[0;34m\u001b[0m\u001b[0m\n\u001b[1;32m      4\u001b[0m \u001b[0mprint\u001b[0m\u001b[0;34m(\u001b[0m\u001b[0;34m'x + y ='\u001b[0m\u001b[0;34m,\u001b[0m \u001b[0mz\u001b[0m\u001b[0;34m)\u001b[0m\u001b[0;34m\u001b[0m\u001b[0;34m\u001b[0m\u001b[0m\n",
            "\u001b[0;31mValueError\u001b[0m: invalid literal for int() with base 10: '20.'"
          ]
        }
      ]
    },
    {
      "cell_type": "markdown",
      "source": [
        "# try-except 구문"
      ],
      "metadata": {
        "id": "wtwXDWGwh4Mt"
      }
    },
    {
      "cell_type": "markdown",
      "source": [
        "```\n",
        "try:\n",
        "    (1) 실행할 코드 블록\n",
        "except [오류 이름 [as 변수]]:\n",
        "    (2) 에러가 발생했을 때 실행할 코드 블록\n",
        "[\n",
        "else:\n",
        "    (3) try 블록이 에러 없이 정상적으로 모두 수행됐을 때 실행할 코드 블록\n",
        "]\n",
        "[\n",
        "finally:\n",
        "    (4) 에러 유무에 상관없이 항상 실행할 코드 블록\n",
        "]\n",
        "```\n",
        "\n",
        "*   try-except 구문의 실행 순서\n",
        "    *   에러가 발생하지 않는 경우: (1) -> (3) -> (4)\n",
        "    *   에러가 발생하는 경우: (1) -> (2) -> (4)\n",
        "*   except에서 에러 이름을 생략하면, 모든 종류의 에러를 처리할 수 있음.\n",
        "*   except에서 에러 이름을 지정하면, 선언한 에러만 처리할 수 있고 그 이외의 에러는 처리할 수 없음.\n",
        "*   처리해야 할 에러의 종류가 여러개 있다면 except 절을 여러개 사용할 수도 있음."
      ],
      "metadata": {
        "id": "R5QfRqaEh8PV"
      }
    },
    {
      "cell_type": "code",
      "source": [
        "try:\n",
        "    x = int(input('첫번째 정수 입력>>> '))\n",
        "    y = int(input('두번째 정수 입력>>> '))\n",
        "    print(f'{x} + {y} = {x + y}')\n",
        "    print(f'{x} - {y} = {x - y}')\n",
        "    print(f'{x} x {y} = {x * y}')\n",
        "    print(f'{x} / {y} = {x / y}')\n",
        "except:\n",
        "    print('오류가 발생했습니다.')"
      ],
      "metadata": {
        "colab": {
          "base_uri": "https://localhost:8080/"
        },
        "id": "1E44xGBXkdld",
        "outputId": "b6a5fe99-0f9c-4757-b80d-540756051d61"
      },
      "execution_count": null,
      "outputs": [
        {
          "output_type": "stream",
          "name": "stdout",
          "text": [
            "첫번째 정수 입력>>> 123456\n",
            "두번째 정수 입력>>> 0\n",
            "123456 + 0 = 123456\n",
            "123456 - 0 = 123456\n",
            "123456 x 0 = 0\n",
            "오류가 발생했습니다.\n"
          ]
        }
      ]
    },
    {
      "cell_type": "code",
      "source": [
        "try:\n",
        "    x = int(input('첫번째 정수 입력>>> '))\n",
        "    y = int(input('두번째 정수 입력>>> '))\n",
        "    print(f'{x} + {y} = {x + y}')\n",
        "    print(f'{x} - {y} = {x - y}')\n",
        "    print(f'{x} x {y} = {x * y}')\n",
        "    print(f'{x} / {y} = {x / y}')\n",
        "except ValueError:\n",
        "    print('입력값은 정수여야 합니다.')\n",
        "except ZeroDivisionError:\n",
        "    print('0으로는 나눌 수 없습니다.')\n",
        "else:\n",
        "    print('사칙연산 성공')\n",
        "finally:\n",
        "    print('코드 셀 종료')"
      ],
      "metadata": {
        "colab": {
          "base_uri": "https://localhost:8080/"
        },
        "id": "0b28r_fpnhHt",
        "outputId": "1eb4f1a8-1095-487a-f4e1-9c64ad606463"
      },
      "execution_count": null,
      "outputs": [
        {
          "output_type": "stream",
          "name": "stdout",
          "text": [
            "첫번째 정수 입력>>> 100\n",
            "두번째 정수 입력>>> 0\n",
            "100 + 0 = 100\n",
            "100 - 0 = 100\n",
            "100 x 0 = 0\n",
            "0으로는 나눌 수 없습니다.\n",
            "코드 셀 종료\n"
          ]
        }
      ]
    },
    {
      "cell_type": "markdown",
      "source": [
        "# 연습문제"
      ],
      "metadata": {
        "id": "aHFV0h9DqntE"
      }
    },
    {
      "cell_type": "markdown",
      "source": [
        "사용자에게 숫자(실수)를 입력하라고 보여주고,\n",
        "*   사용자가 입력한 문자열이 숫자로 변환될 수 있는 경우이면 그 숫자를 출력하고 종료하고\n",
        "*   사용자가 입력한 문자열이 숫자로 변환될 수 없는 경우라면, 숫자를 다시 입력하라는 메시지를 출력하고 입력 과정을 반복."
      ],
      "metadata": {
        "id": "tO106Ns1qp01"
      }
    },
    {
      "cell_type": "code",
      "source": [
        "while True:  # 무한 반복문\n",
        "    try:\n",
        "        number = float(input('숫자 입력>>> '))\n",
        "        print(f'number = {number}')\n",
        "        break\n",
        "    except:\n",
        "        print('입력값은 숫자여야 합니다. 다시 입력하세요.')"
      ],
      "metadata": {
        "colab": {
          "base_uri": "https://localhost:8080/"
        },
        "id": "Z3kmYyXdrPsl",
        "outputId": "d9bbf0dd-4e98-4898-b218-a4b3e7af9490"
      },
      "execution_count": null,
      "outputs": [
        {
          "output_type": "stream",
          "name": "stdout",
          "text": [
            "숫자 입력>>> 12#$\n",
            "입력값은 숫자여야 합니다. 다시 입력하세요.\n",
            "숫자 입력>>> 1234\n",
            "number = 1234.0\n"
          ]
        }
      ]
    }
  ]
}