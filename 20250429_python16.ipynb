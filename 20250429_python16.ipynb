{
  "nbformat": 4,
  "nbformat_minor": 0,
  "metadata": {
    "colab": {
      "provenance": [],
      "mount_file_id": "1cdpLRW2djUaff0hdVeBS9QlXCOALJSE4",
      "authorship_tag": "ABX9TyPiXoSVOWO9AWbXJR4FYtnO",
      "include_colab_link": true
    },
    "kernelspec": {
      "name": "python3",
      "display_name": "Python 3"
    },
    "language_info": {
      "name": "python"
    }
  },
  "cells": [
    {
      "cell_type": "markdown",
      "metadata": {
        "id": "view-in-github",
        "colab_type": "text"
      },
      "source": [
        "<a href=\"https://colab.research.google.com/github/yuuhyun/python_taehoon_itwill/blob/main/20250429_python16.ipynb\" target=\"_parent\"><img src=\"https://colab.research.google.com/assets/colab-badge.svg\" alt=\"Open In Colab\"/></a>"
      ]
    },
    {
      "cell_type": "markdown",
      "source": [
        "# 파일 쓰기(file write)"
      ],
      "metadata": {
        "id": "tDgg3XKwD2pG"
      }
    },
    {
      "cell_type": "markdown",
      "source": [
        "1. 파일 열기(file open)\n",
        "2. 파일 쓰기(file write)\n",
        "3. 파일 닫기(file close)\n",
        "\n",
        "```\n",
        "open(file, mode, ...)\n",
        "```\n",
        "\n",
        "* file:폴더(디렉토리) 이름을 포함한 전체 파일 이름(경로)\n",
        "    * 폴더 이름 없이 파일 이름만 사용한 경우에는 현재 작업 폴더의 파일을 의미함.\n",
        "* mode:\n",
        "    * 'r' : read. 읽기 모드. 기본값.\n",
        "    * 'w' : write. 쓰기 모드. 기존에 작성된 모든 내용이 지워지고 처음부터 새로 쓰기 시작.\n",
        "    * 'a' : append. 추가 모드. 기존에 작성된 내용 뒤에 이어서 쓰기.\n",
        "    * 't' : text. 텍스트 모드. 읽기/쓰기에서 텍스트(문자열)을 읽기/쓰기.\n",
        "    * 'b' : binary. 이진 모드. 읽기/쓰기에서 이진 데이터(mp4, mp3, jpg, png, pdf, ...)를 읽기/쓰기."
      ],
      "metadata": {
        "id": "xb_qlgw9D5XV"
      }
    },
    {
      "cell_type": "code",
      "execution_count": null,
      "metadata": {
        "id": "uFlAQ2l-D0HN"
      },
      "outputs": [],
      "source": [
        "# 1. 파일 열기\n",
        "f = open(file='hello.txt', mode='w') # 현재 폴더에 있는 hello.txt 파일을 쓰기 모드로 열기.\n",
        "\n",
        "# 2. 파일 내용 작성\n",
        "f.write('Hello, Python!\\n')\n",
        "f.write('안녕하세요, 파이썬!\\n')\n",
        "f.write('010-0000-0000\\n')\n",
        "\n",
        "# 3. 파일 닫기\n",
        "f.close()"
      ]
    },
    {
      "cell_type": "code",
      "source": [
        "# with open() as 변수:\n",
        "\n",
        "with open(file='hello2.txt', mode='w') as f:\n",
        "    f.write('안녕하세요.\\n')\n",
        "    f.write('파이썬 파일 쓰기 기능...\\n')\n",
        "    # with-as 블록이 끝나면 파일 객체(f)의 close() 메서드는 자동으로 호출됨."
      ],
      "metadata": {
        "id": "IR3OKe0HIs6Y"
      },
      "execution_count": null,
      "outputs": []
    },
    {
      "cell_type": "markdown",
      "source": [
        "파일을 open할 때 mode 파라미터 값을 'w' 또는 'a'로 설정하는 경우에,\n",
        "* 파일이 없으면 새로운 파일을 만듦.\n",
        "* 파일이 있으면, 기존 파일을 열어줌.\n",
        "\n",
        "파일을 open할 때 mode 파라미터 값이 'r'인 경우, 파일 없으면 에러가 발생."
      ],
      "metadata": {
        "id": "Jt-WrNIJK9ZY"
      }
    },
    {
      "cell_type": "markdown",
      "source": [
        "# 파일 읽기(file read)"
      ],
      "metadata": {
        "id": "GACl1Fx0LsYB"
      }
    },
    {
      "cell_type": "markdown",
      "source": [
        "1. 파일 열기(open)\n",
        "2. 파일 읽기(read)\n",
        "3. 파일 닫기(close)\n",
        "\n",
        "with-as 구문을 사용하면 파일닫기(close) 메서드는 자동으로 호출됨."
      ],
      "metadata": {
        "id": "jXQgmyPWLu8o"
      }
    },
    {
      "cell_type": "code",
      "source": [
        "with open('hello.txt') as f: # 현재 폴더에 hello.txt 파일을 읽기 모드(r)로 열기\n",
        "    line = f.readline()\n",
        "    print(line.strip())\n",
        "    line = f.readline()\n",
        "    print(line.strip())"
      ],
      "metadata": {
        "colab": {
          "base_uri": "https://localhost:8080/"
        },
        "id": "JahYhSchK8dR",
        "outputId": "5a461e3b-d1a1-463a-b407-8b45ced98767"
      },
      "execution_count": null,
      "outputs": [
        {
          "output_type": "stream",
          "name": "stdout",
          "text": [
            "Hello, Python!\n",
            "안녕하세요, 파이썬!\n"
          ]
        }
      ]
    },
    {
      "cell_type": "markdown",
      "source": [
        "for-in 구문에서 파일 객체를 사용할 수 있음.\n",
        "```\n",
        "for 변수 in file\n",
        "```"
      ],
      "metadata": {
        "id": "XiLRPLqiOMTK"
      }
    },
    {
      "cell_type": "code",
      "source": [
        "with open('hello.txt') as f:\n",
        "    for line in f:\n",
        "        print(line.strip())"
      ],
      "metadata": {
        "colab": {
          "base_uri": "https://localhost:8080/"
        },
        "id": "Dsnr_tohNrIS",
        "outputId": "9d913e59-89d4-404c-da09-71a561e5ede3"
      },
      "execution_count": null,
      "outputs": [
        {
          "output_type": "stream",
          "name": "stdout",
          "text": [
            "Hello, Python!\n",
            "안녕하세요, 파이썬!\n",
            "010-0000-0000\n"
          ]
        }
      ]
    },
    {
      "cell_type": "markdown",
      "source": [
        "# Google Drive에서 파일 쓰기/읽기"
      ],
      "metadata": {
        "id": "KjfRHJkLT7F8"
      }
    },
    {
      "cell_type": "code",
      "source": [
        "# 구글 드라이브에 저장할 파일 경로(이름)\n",
        "file_path = '/content/drive/MyDrive/Colab Notebooks/202505_oracle88/emails.txt'"
      ],
      "metadata": {
        "id": "tATZZIqpT8mY"
      },
      "execution_count": null,
      "outputs": []
    },
    {
      "cell_type": "code",
      "source": [
        "with open(file_path, 'w') as f:\n",
        "    f.write('hgd@naver.com\\n')\n",
        "    f.write('gildong@kakao.com\\n')\n",
        "    f.write('gildong.hong@gmail.com\\n')\n",
        "\n",
        "print('파일 쓰기 종료')"
      ],
      "metadata": {
        "colab": {
          "base_uri": "https://localhost:8080/"
        },
        "id": "cLNKXyKmU0X0",
        "outputId": "e9215870-58fc-4a4c-bdfb-73352855689d"
      },
      "execution_count": null,
      "outputs": [
        {
          "output_type": "stream",
          "name": "stdout",
          "text": [
            "파일 쓰기 종료\n"
          ]
        }
      ]
    },
    {
      "cell_type": "markdown",
      "source": [
        "# Google Drive에서 파일 읽기"
      ],
      "metadata": {
        "id": "SkAzETyiWoBW"
      }
    },
    {
      "cell_type": "code",
      "source": [
        "with open(file_path) as f:\n",
        "    for line in f:\n",
        "        print(line.strip())"
      ],
      "metadata": {
        "colab": {
          "base_uri": "https://localhost:8080/"
        },
        "id": "GgJBnQ18W4O-",
        "outputId": "1225399e-0a45-4362-a035-45bd85f6cece"
      },
      "execution_count": null,
      "outputs": [
        {
          "output_type": "stream",
          "name": "stdout",
          "text": [
            "hgd@naver.com\n",
            "gildong@kakao.com\n",
            "gildong.hong@gmail.com\n"
          ]
        }
      ]
    },
    {
      "cell_type": "code",
      "source": [
        "# 구글 드라이브의 emails.txt 파일을 한 줄씩 읽으면서 이메일 아이디만 출력.\n",
        "with open(file_path) as f: # file_path의 파일을 읽기 모드(r)로 열기\n",
        "    for line in f: # 파일 f에서 한 줄씩 읽으면서 파일 끝(EOF, End Of File)까지 반복\n",
        "        # idx = line.find('@')\n",
        "        # print(line[:idx])\n",
        "        result = line.split('@')\n",
        "        print(result[0])"
      ],
      "metadata": {
        "colab": {
          "base_uri": "https://localhost:8080/"
        },
        "id": "P0GOhsKpXDsW",
        "outputId": "17ec78c7-e866-4ca1-d64c-58f029a68fb4"
      },
      "execution_count": null,
      "outputs": [
        {
          "output_type": "stream",
          "name": "stdout",
          "text": [
            "hgd\n",
            "gildong\n",
            "gildong.hong\n"
          ]
        }
      ]
    }
  ]
}