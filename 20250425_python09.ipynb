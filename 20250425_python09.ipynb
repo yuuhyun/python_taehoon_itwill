{
  "nbformat": 4,
  "nbformat_minor": 0,
  "metadata": {
    "colab": {
      "provenance": [],
      "toc_visible": true,
      "authorship_tag": "ABX9TyOQTYTy11grdBPrRU03DbpY",
      "include_colab_link": true
    },
    "kernelspec": {
      "name": "python3",
      "display_name": "Python 3"
    },
    "language_info": {
      "name": "python"
    }
  },
  "cells": [
    {
      "cell_type": "markdown",
      "metadata": {
        "id": "view-in-github",
        "colab_type": "text"
      },
      "source": [
        "<a href=\"https://colab.research.google.com/github/yuuhyun/python_taehoon_itwill/blob/main/20250425_python09.ipynb\" target=\"_parent\"><img src=\"https://colab.research.google.com/assets/colab-badge.svg\" alt=\"Open In Colab\"/></a>"
      ]
    },
    {
      "cell_type": "markdown",
      "source": [
        "# dict"
      ],
      "metadata": {
        "id": "WE-Tnplmstv3"
      }
    },
    {
      "cell_type": "markdown",
      "source": [
        "* 사전(dictionary) 형식의 데이터 타입.\n",
        "* 키(key)를 기반으로 값(value)을 저장하는 데이터 타입.\n",
        "    * list, tuple: 인덱스(index)를 기반으로 값(value)들을 저장하는 데이터 타입.\n",
        "    * dict 타입에서 키(key)의 역할은 list나 tuple에서 인덱스와 비슷하게, dict에 저장된 값 1개를 참조하기 위한 용도"
      ],
      "metadata": {
        "id": "rxmdQWZoswiu"
      }
    },
    {
      "cell_type": "code",
      "execution_count": null,
      "metadata": {
        "colab": {
          "base_uri": "https://localhost:8080/"
        },
        "id": "1DAI5WVBNU6Y",
        "outputId": "ec65a430-2871-4c2a-e353-5ce7324a9737"
      },
      "outputs": [
        {
          "output_type": "stream",
          "name": "stdout",
          "text": [
            "<class 'dict'>\n",
            "{100: '홍길동', 101: '오쌤', 200: 'Scott'}\n"
          ]
        }
      ],
      "source": [
        "students = {100: '홍길동', 101: '오쌤', 200: 'Scott'}\n",
        "print(type(students))\n",
        "print(students)"
      ]
    },
    {
      "cell_type": "code",
      "source": [
        "# dict{key}: dict에서 key에 해당하는 값을 참조\n",
        "students[200]"
      ],
      "metadata": {
        "colab": {
          "base_uri": "https://localhost:8080/",
          "height": 35
        },
        "id": "kp2HmZ3gvF_m",
        "outputId": "2a0b695d-b9ab-4540-e986-5b1a519488f9"
      },
      "execution_count": null,
      "outputs": [
        {
          "output_type": "execute_result",
          "data": {
            "text/plain": [
              "'Scott'"
            ],
            "application/vnd.google.colaboratory.intrinsic+json": {
              "type": "string"
            }
          },
          "metadata": {},
          "execution_count": 2
        }
      ]
    },
    {
      "cell_type": "markdown",
      "source": [
        "## dict 함수(메서드)"
      ],
      "metadata": {
        "id": "WYVX0zdivFbu"
      }
    },
    {
      "cell_type": "code",
      "source": [
        "# dict.keys(): dict 객체가 가지고 있는 key들의 리스트를 반환.\n",
        "students.keys()"
      ],
      "metadata": {
        "colab": {
          "base_uri": "https://localhost:8080/"
        },
        "id": "VBxhU5bGwE0N",
        "outputId": "b7bfd476-a3f7-4a2b-9558-7ae904fc95bd"
      },
      "execution_count": null,
      "outputs": [
        {
          "output_type": "execute_result",
          "data": {
            "text/plain": [
              "dict_keys([100, 101, 200])"
            ]
          },
          "metadata": {},
          "execution_count": 3
        }
      ]
    },
    {
      "cell_type": "code",
      "source": [
        "# dict.values(): dict 객체의 값(value)들의 리스트를 반환.\n",
        "students.values()"
      ],
      "metadata": {
        "colab": {
          "base_uri": "https://localhost:8080/"
        },
        "id": "A--3c_K_wpoX",
        "outputId": "0cb33add-4fa1-47cc-e906-7f0434b92c59"
      },
      "execution_count": null,
      "outputs": [
        {
          "output_type": "execute_result",
          "data": {
            "text/plain": [
              "dict_values(['홍길동', '오쌤', 'Scott'])"
            ]
          },
          "metadata": {},
          "execution_count": 4
        }
      ]
    },
    {
      "cell_type": "code",
      "source": [
        "# dict.items(): (key, value) 튜플들의 리스트를 반환.\n",
        "students.items()"
      ],
      "metadata": {
        "colab": {
          "base_uri": "https://localhost:8080/"
        },
        "id": "gvkj1dRAxZlP",
        "outputId": "748cdcc5-ba57-4876-8dcf-9394262f7136"
      },
      "execution_count": null,
      "outputs": [
        {
          "output_type": "execute_result",
          "data": {
            "text/plain": [
              "dict_items([(100, '홍길동'), (101, '오쌤'), (200, 'Scott')])"
            ]
          },
          "metadata": {},
          "execution_count": 6
        }
      ]
    },
    {
      "cell_type": "code",
      "source": [
        "# dict.get(key): key에 해당하는 value를 반환. dict[key]와 같은 기능.\n",
        "students.get(101)"
      ],
      "metadata": {
        "colab": {
          "base_uri": "https://localhost:8080/",
          "height": 35
        },
        "id": "UEDwupjMyB7B",
        "outputId": "29595f2e-7eda-42e7-c81c-68184902ff38"
      },
      "execution_count": null,
      "outputs": [
        {
          "output_type": "execute_result",
          "data": {
            "text/plain": [
              "'오쌤'"
            ],
            "application/vnd.google.colaboratory.intrinsic+json": {
              "type": "string"
            }
          },
          "metadata": {},
          "execution_count": 7
        }
      ]
    },
    {
      "cell_type": "markdown",
      "source": [
        "`dict[key] = value`\n",
        "\n",
        "* key가 dict에 없을 때는 key:value 쌍의 아이템을 dict에 추가.\n",
        "* key가 dict에 있을 때는 key에 해당하는 값을 새로운 값 value로 바꿈."
      ],
      "metadata": {
        "id": "QROhAkymy7vg"
      }
    },
    {
      "cell_type": "code",
      "source": [
        "students[300] = '홍길동'\n",
        "print(students)"
      ],
      "metadata": {
        "colab": {
          "base_uri": "https://localhost:8080/"
        },
        "id": "sej5C_yDzsA_",
        "outputId": "06797b5e-5851-4f75-84a8-ed5057e1309f"
      },
      "execution_count": null,
      "outputs": [
        {
          "output_type": "stream",
          "name": "stdout",
          "text": [
            "{100: '홍길동', 101: '오쌤', 200: 'Scott', 300: '홍길동'}\n"
          ]
        }
      ]
    },
    {
      "cell_type": "code",
      "source": [
        "students[300] ='김길동'\n",
        "print(students)"
      ],
      "metadata": {
        "colab": {
          "base_uri": "https://localhost:8080/"
        },
        "id": "BqFS10syzwDI",
        "outputId": "a1e33267-af13-41b7-ee48-b7d5ce0cdb24"
      },
      "execution_count": null,
      "outputs": [
        {
          "output_type": "stream",
          "name": "stdout",
          "text": [
            "{100: '홍길동', 101: '오쌤', 200: 'Scott', 300: '김길동'}\n"
          ]
        }
      ]
    },
    {
      "cell_type": "markdown",
      "source": [
        "# dict와 for 반복문"
      ],
      "metadata": {
        "id": "ipQAcPabGzBx"
      }
    },
    {
      "cell_type": "code",
      "source": [
        "# for-in 반복문에서 dict 객체를 사용하면 key들을 iteration함.\n",
        "for k in students:\n",
        "    print(k, ':', students[k]) # students.get(k)"
      ],
      "metadata": {
        "colab": {
          "base_uri": "https://localhost:8080/"
        },
        "id": "hLhMs5L9HPOB",
        "outputId": "de505c9a-e4ca-491e-fb76-bff7f3a71dd9"
      },
      "execution_count": null,
      "outputs": [
        {
          "output_type": "stream",
          "name": "stdout",
          "text": [
            "100 : 홍길동\n",
            "101 : 오쌤\n",
            "200 : Scott\n",
            "300 : 김길동\n"
          ]
        }
      ]
    },
    {
      "cell_type": "code",
      "source": [
        "for k, v in students.items():\n",
        "    print(k, '-', v)"
      ],
      "metadata": {
        "colab": {
          "base_uri": "https://localhost:8080/"
        },
        "id": "1f3yn8gCIiHy",
        "outputId": "441cd665-0ce9-47ae-a80e-8c3609b45db0"
      },
      "execution_count": null,
      "outputs": [
        {
          "output_type": "stream",
          "name": "stdout",
          "text": [
            "100 - 홍길동\n",
            "101 - 오쌤\n",
            "200 - Scott\n",
            "300 - 김길동\n"
          ]
        }
      ]
    },
    {
      "cell_type": "code",
      "source": [
        "book = {'title' : '파이썬 200제' , 'author' : '장삼용', 'publisher' : '정보문화사'}\n",
        "print(book)"
      ],
      "metadata": {
        "colab": {
          "base_uri": "https://localhost:8080/"
        },
        "id": "IpruBLZcI2fD",
        "outputId": "47149481-cbc6-4fc7-8bbe-b7db3bb12e33"
      },
      "execution_count": null,
      "outputs": [
        {
          "output_type": "stream",
          "name": "stdout",
          "text": [
            "{'title': '파이썬 200제', 'author': '장삼용', 'publisher': '정보문화사'}\n"
          ]
        }
      ]
    },
    {
      "cell_type": "code",
      "source": [
        "for k, v in book.items():\n",
        "    print(k, ':', v)"
      ],
      "metadata": {
        "colab": {
          "base_uri": "https://localhost:8080/"
        },
        "id": "a1W1LJ_mJOU6",
        "outputId": "1b71c1eb-8db1-4ba4-f215-d883e7acae95"
      },
      "execution_count": null,
      "outputs": [
        {
          "output_type": "stream",
          "name": "stdout",
          "text": [
            "title : 파이썬 200제\n",
            "author : 장삼용\n",
            "publisher : 정보문화사\n"
          ]
        }
      ]
    },
    {
      "cell_type": "markdown",
      "source": [
        "# 다양한 자료를 저장하는 dict"
      ],
      "metadata": {
        "id": "bFi3x3v0JziZ"
      }
    },
    {
      "cell_type": "code",
      "source": [
        "contact = {'name' : '홍길동',\n",
        "           'phone' : ['010-1234-5678', '02-0000-5678'],\n",
        "           'email' : {'personal' : 'hgd@naver.com', 'company' : 'hgd@itwill.com'},\n",
        "           'no' : 1\n",
        "           }"
      ],
      "metadata": {
        "id": "EPo4N9ZYJzJ7"
      },
      "execution_count": null,
      "outputs": []
    },
    {
      "cell_type": "code",
      "source": [
        "for k, v in contact.items():\n",
        "    print(k, ':', v)"
      ],
      "metadata": {
        "colab": {
          "base_uri": "https://localhost:8080/"
        },
        "id": "rbHmX1h0LQ1T",
        "outputId": "563016eb-4f8f-448e-ad00-7eb89960b554"
      },
      "execution_count": null,
      "outputs": [
        {
          "output_type": "stream",
          "name": "stdout",
          "text": [
            "name : 홍길동\n",
            "phone : {'010-1234-5678', '02-0000-5678'}\n",
            "email : {'personal': 'hgd@naver.com', 'company': 'hgd@itwill.com'}\n"
          ]
        }
      ]
    },
    {
      "cell_type": "code",
      "source": [
        "# contact.get('phone')\n",
        "contact['phone']"
      ],
      "metadata": {
        "colab": {
          "base_uri": "https://localhost:8080/"
        },
        "id": "vhO8JjngLkUq",
        "outputId": "060d7af0-4ae0-4ff8-e993-0c9f78aa6857"
      },
      "execution_count": null,
      "outputs": [
        {
          "output_type": "execute_result",
          "data": {
            "text/plain": [
              "['010-1234-5678', '02-0000-5678']"
            ]
          },
          "metadata": {},
          "execution_count": 47
        }
      ]
    },
    {
      "cell_type": "code",
      "source": [
        "# contact.get('phone')[0]\n",
        "contact['phone'][0]"
      ],
      "metadata": {
        "colab": {
          "base_uri": "https://localhost:8080/",
          "height": 35
        },
        "id": "ci2jpo_mMH77",
        "outputId": "b32cba5e-4c99-4d2a-f390-49545d02a5c6"
      },
      "execution_count": null,
      "outputs": [
        {
          "output_type": "execute_result",
          "data": {
            "text/plain": [
              "'010-1234-5678'"
            ],
            "application/vnd.google.colaboratory.intrinsic+json": {
              "type": "string"
            }
          },
          "metadata": {},
          "execution_count": 46
        }
      ]
    },
    {
      "cell_type": "code",
      "source": [
        "contact['email']['company']"
      ],
      "metadata": {
        "colab": {
          "base_uri": "https://localhost:8080/",
          "height": 35
        },
        "id": "JDz3u8mpMspi",
        "outputId": "03ef7188-b9ce-4a86-b4d8-ecbcc55a550d"
      },
      "execution_count": null,
      "outputs": [
        {
          "output_type": "execute_result",
          "data": {
            "text/plain": [
              "'hgd@itwill.com'"
            ],
            "application/vnd.google.colaboratory.intrinsic+json": {
              "type": "string"
            }
          },
          "metadata": {},
          "execution_count": 39
        }
      ]
    },
    {
      "cell_type": "markdown",
      "source": [
        "# dictionary comprehension"
      ],
      "metadata": {
        "id": "lYajovOvNcbr"
      }
    },
    {
      "cell_type": "code",
      "source": [
        "emp_no = [1001, 1002, 1003, 1004]\n",
        "emp_name = ['scott', 'allen', 'king', '오쌤']\n",
        "\n",
        "emp = {} # empty dict\n",
        "\n",
        "for k, v in zip(emp_no, emp_name):\n",
        "    emp[k]=v\n",
        "\n",
        "print(emp)"
      ],
      "metadata": {
        "colab": {
          "base_uri": "https://localhost:8080/"
        },
        "id": "q7sy8_-zNTZd",
        "outputId": "4acaf73d-8d71-40f4-879f-53164a3b89da"
      },
      "execution_count": null,
      "outputs": [
        {
          "output_type": "stream",
          "name": "stdout",
          "text": [
            "{1001: 'scott', 1002: 'allen', 1003: 'king', 1004: '오쌤'}\n"
          ]
        }
      ]
    },
    {
      "cell_type": "code",
      "source": [
        "emp2 = {k:v for k,v in zip(emp_no, emp_name)}\n",
        "print(emp2)"
      ],
      "metadata": {
        "id": "4d8bzEaTQTs9",
        "outputId": "8cb57abb-5956-42d5-bbe4-a16976e36134",
        "colab": {
          "base_uri": "https://localhost:8080/"
        }
      },
      "execution_count": null,
      "outputs": [
        {
          "output_type": "stream",
          "name": "stdout",
          "text": [
            "{1001: 'scott', 1002: 'allen', 1003: 'king', 1004: '오쌤'}\n"
          ]
        }
      ]
    },
    {
      "cell_type": "code",
      "source": [
        "fruits = ['apple', 'banana', 'cherry', 'pineapple', 'watermellon', '딸기']\n",
        "\n",
        "# 리스트 fruits에 있는 과일 이름을 key로 하고, 그 문자열의 길이를 value로 하는 dict를 만들고 출력\n",
        "fruit_length = {}\n",
        "for k in fruits:\n",
        "    fruit_length[k] = len(k)\n",
        "\n",
        "print(fruit_length)"
      ],
      "metadata": {
        "colab": {
          "base_uri": "https://localhost:8080/"
        },
        "id": "jiq2Xu1dl0CE",
        "outputId": "14502eeb-55b1-4a91-dba4-3557fc188158"
      },
      "execution_count": null,
      "outputs": [
        {
          "output_type": "stream",
          "name": "stdout",
          "text": [
            "{'apple': 5, 'banana': 6, 'cherry': 6, 'pineapple': 9, 'watermellon': 11, '딸기': 2}\n"
          ]
        }
      ]
    },
    {
      "cell_type": "code",
      "source": [
        "fruit_length2 = {k: len(k) for k in fruits}\n",
        "print(fruit_length2)"
      ],
      "metadata": {
        "colab": {
          "base_uri": "https://localhost:8080/"
        },
        "id": "HRE_zGCtmR65",
        "outputId": "c8444180-f773-49a3-f9cd-bb9fb94ac864"
      },
      "execution_count": null,
      "outputs": [
        {
          "output_type": "stream",
          "name": "stdout",
          "text": [
            "{'apple': 5, 'banana': 6, 'cherry': 6, 'pineapple': 9, 'watermellon': 11, '딸기': 2}\n"
          ]
        }
      ]
    }
  ]
}