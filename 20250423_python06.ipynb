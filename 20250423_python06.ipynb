{
  "nbformat": 4,
  "nbformat_minor": 0,
  "metadata": {
    "colab": {
      "provenance": [],
      "authorship_tag": "ABX9TyMLYx+2zQiNsKYa0GCE3PSB",
      "include_colab_link": true
    },
    "kernelspec": {
      "name": "python3",
      "display_name": "Python 3"
    },
    "language_info": {
      "name": "python"
    }
  },
  "cells": [
    {
      "cell_type": "markdown",
      "metadata": {
        "id": "view-in-github",
        "colab_type": "text"
      },
      "source": [
        "<a href=\"https://colab.research.google.com/github/yuuhyun/python_taehoon_itwill/blob/main/20250423_python06.ipynb\" target=\"_parent\"><img src=\"https://colab.research.google.com/assets/colab-badge.svg\" alt=\"Open In Colab\"/></a>"
      ]
    },
    {
      "cell_type": "markdown",
      "source": [
        "# 리스트(List)"
      ],
      "metadata": {
        "id": "N_jDItSiRAsT"
      }
    },
    {
      "cell_type": "markdown",
      "source": [
        "* `list` : 여러 개의 값들을 하나의 변수에 저장하기 위한 데이터 타입.\n",
        "* element(원소, 요소): 리스트에 저장된 각각의 값.\n",
        "* index(인덱스): 리스트에서 각각의 원소들이 저장된 위치(번호).\n",
        "    * 리스트의 인덱스는 **0**부터 시작.\n",
        "    * 리스트의 마지막 인덱스는 (원소 개수 -1).\n",
        "* 리스트는 원소들을 변경(추가, 삭제)할 수 있음.\n",
        "    * `tuple`과 다른 점!"
      ],
      "metadata": {
        "id": "TvdSasSnROdp"
      }
    },
    {
      "cell_type": "code",
      "execution_count": null,
      "metadata": {
        "colab": {
          "base_uri": "https://localhost:8080/"
        },
        "id": "Uyv861uGQ-G7",
        "outputId": "508b0ece-36e0-43ad-dd24-8e300fe8ba12"
      },
      "outputs": [
        {
          "output_type": "stream",
          "name": "stdout",
          "text": [
            "<class 'list'>\n",
            "[1, 2, 10, 20, -1, -2]\n"
          ]
        }
      ],
      "source": [
        "# 숫자들을 저장하는 list\n",
        "numbers = [1, 2, 10, 20, -1, -2]\n",
        "print(type(numbers))\n",
        "print(numbers)"
      ]
    },
    {
      "cell_type": "code",
      "source": [
        "# 여러가지 타입의 원소들을 저장하는 list\n",
        "values = [1, 2, 'a', 'b', True, False]\n",
        "print(type(values))\n",
        "print(values)"
      ],
      "metadata": {
        "id": "RKwAmZjHT25E"
      },
      "execution_count": null,
      "outputs": []
    },
    {
      "cell_type": "markdown",
      "source": [
        "## Indexing"
      ],
      "metadata": {
        "id": "-N0F1t2GUatL"
      }
    },
    {
      "cell_type": "markdown",
      "source": [
        "인덱스를 사용해서 리스트의 원소를 사용하는 방법."
      ],
      "metadata": {
        "id": "uAZzjS5xUeBM"
      }
    },
    {
      "cell_type": "code",
      "source": [
        "numbers # print(numbers)"
      ],
      "metadata": {
        "colab": {
          "base_uri": "https://localhost:8080/"
        },
        "id": "jjrVS2qzUZ8k",
        "outputId": "58378799-3cd1-4959-b114-ba5f3829d661"
      },
      "execution_count": null,
      "outputs": [
        {
          "output_type": "execute_result",
          "data": {
            "text/plain": [
              "[1, 2, 10, 20, -1, -2]"
            ]
          },
          "metadata": {},
          "execution_count": 2
        }
      ]
    },
    {
      "cell_type": "code",
      "source": [
        "numbers[0] # 리스트 numbers의 첫번째 원소"
      ],
      "metadata": {
        "colab": {
          "base_uri": "https://localhost:8080/"
        },
        "id": "2gV0J10XWPJ9",
        "outputId": "d3e26a68-8b73-47a8-8e80-e5a480b76db9"
      },
      "execution_count": null,
      "outputs": [
        {
          "output_type": "execute_result",
          "data": {
            "text/plain": [
              "1"
            ]
          },
          "metadata": {},
          "execution_count": 3
        }
      ]
    },
    {
      "cell_type": "code",
      "source": [
        "numbers[5] # 리스트 numbers의 마지막 원소(인덱스 5번 원소)"
      ],
      "metadata": {
        "colab": {
          "base_uri": "https://localhost:8080/"
        },
        "id": "IKtEEQJtWTmM",
        "outputId": "a99f019b-68e2-41ca-f8c6-dad97132e319"
      },
      "execution_count": null,
      "outputs": [
        {
          "output_type": "execute_result",
          "data": {
            "text/plain": [
              "-2"
            ]
          },
          "metadata": {},
          "execution_count": 4
        }
      ]
    },
    {
      "cell_type": "code",
      "source": [
        "numbers[3] # 리스트 numbers에서 인덱스가 3인 원소"
      ],
      "metadata": {
        "colab": {
          "base_uri": "https://localhost:8080/"
        },
        "id": "_Ox9G6NHWruE",
        "outputId": "ceef7fd9-8f20-47ef-a66c-6318dc5632f6"
      },
      "execution_count": null,
      "outputs": [
        {
          "output_type": "execute_result",
          "data": {
            "text/plain": [
              "20"
            ]
          },
          "metadata": {},
          "execution_count": 5
        }
      ]
    },
    {
      "cell_type": "code",
      "source": [
        "numbers[-1] # 리스트 numbers에서 마지막 원소"
      ],
      "metadata": {
        "colab": {
          "base_uri": "https://localhost:8080/"
        },
        "id": "RyAyxOdzXand",
        "outputId": "00793e13-e34b-454b-d293-edb387e6d627"
      },
      "execution_count": null,
      "outputs": [
        {
          "output_type": "execute_result",
          "data": {
            "text/plain": [
              "-2"
            ]
          },
          "metadata": {},
          "execution_count": 6
        }
      ]
    },
    {
      "cell_type": "code",
      "source": [
        "numbers[-2] # 리스트 numbers에서 마지막에서 두번째 원소"
      ],
      "metadata": {
        "colab": {
          "base_uri": "https://localhost:8080/"
        },
        "id": "oSYDkeXgXrzl",
        "outputId": "097b8927-2d84-45cb-82ea-3907453d3d2e"
      },
      "execution_count": null,
      "outputs": [
        {
          "output_type": "execute_result",
          "data": {
            "text/plain": [
              "-1"
            ]
          },
          "metadata": {},
          "execution_count": 7
        }
      ]
    },
    {
      "cell_type": "markdown",
      "source": [
        "## Slicing"
      ],
      "metadata": {
        "id": "fZJJkhgOcOvX"
      }
    },
    {
      "cell_type": "markdown",
      "source": [
        "`list[start:end]`\n",
        "* list에서 인덱스가 start <= index < end 범위의 원소들을 잘라내는 방법.\n",
        "* 시작 인덱스 start를 생략하면, 시작 인덱스는 0번.\n",
        "* 마지막 인덱스 end를 생략하면, 리스트의 마지막 원소까지 잘라냄.\n",
        "* slicing의 결과는 **새로운 리스트!**"
      ],
      "metadata": {
        "id": "krgrpfahcbnn"
      }
    },
    {
      "cell_type": "code",
      "source": [
        "numbers[1:4]"
      ],
      "metadata": {
        "colab": {
          "base_uri": "https://localhost:8080/"
        },
        "id": "qZqXV0kRcQdn",
        "outputId": "24be78be-793a-4db7-f869-9b1ec517dba5"
      },
      "execution_count": null,
      "outputs": [
        {
          "output_type": "execute_result",
          "data": {
            "text/plain": [
              "[2, 10, 20]"
            ]
          },
          "metadata": {},
          "execution_count": 8
        }
      ]
    },
    {
      "cell_type": "code",
      "source": [
        "numbers[:3]"
      ],
      "metadata": {
        "colab": {
          "base_uri": "https://localhost:8080/"
        },
        "id": "tA5t3k5zdoRA",
        "outputId": "31efbeb0-6e1a-475a-83bc-10a4c5e1899b"
      },
      "execution_count": null,
      "outputs": [
        {
          "output_type": "execute_result",
          "data": {
            "text/plain": [
              "[1, 2, 10]"
            ]
          },
          "metadata": {},
          "execution_count": 9
        }
      ]
    },
    {
      "cell_type": "code",
      "source": [
        "numbers[3:]"
      ],
      "metadata": {
        "colab": {
          "base_uri": "https://localhost:8080/"
        },
        "id": "xpiUETNnejIX",
        "outputId": "185282a6-bac7-486f-f454-070c3f4be535"
      },
      "execution_count": null,
      "outputs": [
        {
          "output_type": "execute_result",
          "data": {
            "text/plain": [
              "[20, -1, -2]"
            ]
          },
          "metadata": {},
          "execution_count": 10
        }
      ]
    },
    {
      "cell_type": "code",
      "source": [
        "numbers[:]"
      ],
      "metadata": {
        "colab": {
          "base_uri": "https://localhost:8080/"
        },
        "id": "Qt1tDlR9fElQ",
        "outputId": "b11e6ec7-15bc-4789-bc19-72df34ab606d"
      },
      "execution_count": null,
      "outputs": [
        {
          "output_type": "execute_result",
          "data": {
            "text/plain": [
              "[1, 2, 10, 20, -1, -2]"
            ]
          },
          "metadata": {},
          "execution_count": 11
        }
      ]
    },
    {
      "cell_type": "code",
      "source": [
        "# 리스트 numbers에서 마지막 2개 원소만 선택(slicing)\n",
        "numbers[-2:]"
      ],
      "metadata": {
        "colab": {
          "base_uri": "https://localhost:8080/"
        },
        "id": "5tEgRWd5fqu5",
        "outputId": "509608a4-65d6-4a14-8f64-cce03357b3a3"
      },
      "execution_count": null,
      "outputs": [
        {
          "output_type": "execute_result",
          "data": {
            "text/plain": [
              "[-1, -2]"
            ]
          },
          "metadata": {},
          "execution_count": 13
        }
      ]
    },
    {
      "cell_type": "code",
      "source": [
        "print(numbers[0]) # indexing: 리스트에서 해당 인덱스의 원소(값) 1개를 찾음.\n",
        "print(numbers[0:1]) # slicing: 리스트에서 일부분을 잘라낸 리스트."
      ],
      "metadata": {
        "colab": {
          "base_uri": "https://localhost:8080/"
        },
        "id": "4zzXf9rggQxJ",
        "outputId": "4d6b9309-33b8-4a66-eaa5-5c862dc58662"
      },
      "execution_count": null,
      "outputs": [
        {
          "output_type": "stream",
          "name": "stdout",
          "text": [
            "1\n",
            "[1]\n"
          ]
        }
      ]
    },
    {
      "cell_type": "markdown",
      "source": [
        "## 문자열(String)"
      ],
      "metadata": {
        "id": "zdfjpR8KhJkx"
      }
    },
    {
      "cell_type": "markdown",
      "source": [
        "문자열 : 문자들의 리스트.\n",
        "* 인덱스를 사용할 수 있음.\n",
        "    * indexing : 해당 인덱스의 문자 1개를 선택.\n",
        "    * slicing : 문자열의 일부를 잘라냄."
      ],
      "metadata": {
        "id": "MHrCgAvWhUPZ"
      }
    },
    {
      "cell_type": "code",
      "source": [
        "message = '안녕, Python!' #문자 11개를 갖는 문자열. 11개의 문자들을 원소로 갖는 리스트"
      ],
      "metadata": {
        "id": "OG83N_jviHza"
      },
      "execution_count": null,
      "outputs": []
    },
    {
      "cell_type": "code",
      "source": [
        "# 문자열 message에서 첫번째 문자를 선택\n",
        "message[0]"
      ],
      "metadata": {
        "colab": {
          "base_uri": "https://localhost:8080/",
          "height": 35
        },
        "id": "zKmFjG1siPph",
        "outputId": "61d5348b-cfa7-44e6-851d-a03875795f34"
      },
      "execution_count": null,
      "outputs": [
        {
          "output_type": "execute_result",
          "data": {
            "text/plain": [
              "'안'"
            ],
            "application/vnd.google.colaboratory.intrinsic+json": {
              "type": "string"
            }
          },
          "metadata": {},
          "execution_count": 16
        }
      ]
    },
    {
      "cell_type": "code",
      "source": [
        "# 문자열 message에서 마지막 문자\n",
        "message[-1]"
      ],
      "metadata": {
        "colab": {
          "base_uri": "https://localhost:8080/",
          "height": 35
        },
        "id": "vMQuc_ikig-S",
        "outputId": "f6cb7b22-9932-4e7d-b756-ab7afa9c85d2"
      },
      "execution_count": null,
      "outputs": [
        {
          "output_type": "execute_result",
          "data": {
            "text/plain": [
              "'!'"
            ],
            "application/vnd.google.colaboratory.intrinsic+json": {
              "type": "string"
            }
          },
          "metadata": {},
          "execution_count": 17
        }
      ]
    },
    {
      "cell_type": "code",
      "source": [
        "# 문자열 message에서 첫 두 글자를 slicing\n",
        "message[:2]"
      ],
      "metadata": {
        "colab": {
          "base_uri": "https://localhost:8080/",
          "height": 35
        },
        "id": "3aE0-E6Eiwt6",
        "outputId": "270d3fd5-55c1-4585-cc8f-b5cc7620dd4e"
      },
      "execution_count": null,
      "outputs": [
        {
          "output_type": "execute_result",
          "data": {
            "text/plain": [
              "'안녕'"
            ],
            "application/vnd.google.colaboratory.intrinsic+json": {
              "type": "string"
            }
          },
          "metadata": {},
          "execution_count": 18
        }
      ]
    },
    {
      "cell_type": "code",
      "source": [
        "# 문자열 message에서 마지막 세글자를 slicing\n",
        "message[-3:]"
      ],
      "metadata": {
        "colab": {
          "base_uri": "https://localhost:8080/",
          "height": 35
        },
        "id": "8_OlvPhCi_P6",
        "outputId": "8ebe6fbc-f4ab-4e67-fd5c-441f78a62d4f"
      },
      "execution_count": null,
      "outputs": [
        {
          "output_type": "execute_result",
          "data": {
            "text/plain": [
              "'on!'"
            ],
            "application/vnd.google.colaboratory.intrinsic+json": {
              "type": "string"
            }
          },
          "metadata": {},
          "execution_count": 19
        }
      ]
    },
    {
      "cell_type": "markdown",
      "source": [
        "## list의 산술 연산"
      ],
      "metadata": {
        "id": "WBGBvDuKjb_C"
      }
    },
    {
      "cell_type": "code",
      "source": [
        "# 문자열의 +\n",
        "'hello' + '안녕'"
      ],
      "metadata": {
        "colab": {
          "base_uri": "https://localhost:8080/",
          "height": 35
        },
        "id": "vMlTh0IVjdg6",
        "outputId": "c102b734-63e8-4589-83a5-e88697df4263"
      },
      "execution_count": null,
      "outputs": [
        {
          "output_type": "execute_result",
          "data": {
            "text/plain": [
              "'hello안녕'"
            ],
            "application/vnd.google.colaboratory.intrinsic+json": {
              "type": "string"
            }
          },
          "metadata": {},
          "execution_count": 20
        }
      ]
    },
    {
      "cell_type": "code",
      "source": [
        "# list의 +\n",
        "[1,2,3] + [100, 200]"
      ],
      "metadata": {
        "colab": {
          "base_uri": "https://localhost:8080/"
        },
        "id": "EcgGPuBfkIQD",
        "outputId": "d946b0e9-67fd-486e-d38d-71378f7041cc"
      },
      "execution_count": null,
      "outputs": [
        {
          "output_type": "execute_result",
          "data": {
            "text/plain": [
              "[1, 2, 3, 100, 200]"
            ]
          },
          "metadata": {},
          "execution_count": 21
        }
      ]
    },
    {
      "cell_type": "code",
      "source": [
        "# 문자열의 *\n",
        "'안녕' * 5"
      ],
      "metadata": {
        "colab": {
          "base_uri": "https://localhost:8080/",
          "height": 35
        },
        "id": "4OQKLNdxklaT",
        "outputId": "f95d1e39-d8ec-43f9-bc9f-357bbc5ac09f"
      },
      "execution_count": null,
      "outputs": [
        {
          "output_type": "execute_result",
          "data": {
            "text/plain": [
              "'안녕안녕안녕안녕안녕'"
            ],
            "application/vnd.google.colaboratory.intrinsic+json": {
              "type": "string"
            }
          },
          "metadata": {},
          "execution_count": 22
        }
      ]
    },
    {
      "cell_type": "code",
      "source": [
        "# list의 *\n",
        "[1,2,3] * 5"
      ],
      "metadata": {
        "colab": {
          "base_uri": "https://localhost:8080/"
        },
        "id": "jBC0KwI0kLua",
        "outputId": "1d42e111-cce4-49cb-d162-536771df8a0b"
      },
      "execution_count": null,
      "outputs": [
        {
          "output_type": "execute_result",
          "data": {
            "text/plain": [
              "[1, 2, 3, 1, 2, 3, 1, 2, 3, 1, 2, 3, 1, 2, 3]"
            ]
          },
          "metadata": {},
          "execution_count": 24
        }
      ]
    },
    {
      "cell_type": "markdown",
      "source": [
        "# list의 기능들 - 함수(메서드)"
      ],
      "metadata": {
        "id": "52rIcbffHnOt"
      }
    },
    {
      "cell_type": "markdown",
      "source": [
        "## 원소 추가"
      ],
      "metadata": {
        "id": "Dqxm-ZcxH7tG"
      }
    },
    {
      "cell_type": "code",
      "source": [
        "numbers = [1, 2, 3, 4, 5]\n",
        "print(numbers)"
      ],
      "metadata": {
        "colab": {
          "base_uri": "https://localhost:8080/"
        },
        "id": "e3DY53PiH9n1",
        "outputId": "c1be427c-1f2c-41fb-ebae-707800f04cec"
      },
      "execution_count": null,
      "outputs": [
        {
          "output_type": "stream",
          "name": "stdout",
          "text": [
            "[1, 2, 3, 4, 5]\n"
          ]
        }
      ]
    },
    {
      "cell_type": "code",
      "source": [
        "# list.append(값): 값을 list의 가장 마지막 위치에 추가.\n",
        "numbers.append(100)\n",
        "print(numbers)"
      ],
      "metadata": {
        "colab": {
          "base_uri": "https://localhost:8080/"
        },
        "id": "TN-4yhhxISKG",
        "outputId": "e8e90425-cdac-478d-9923-2ec9ddb023db"
      },
      "execution_count": null,
      "outputs": [
        {
          "output_type": "stream",
          "name": "stdout",
          "text": [
            "[1, 2, 3, 4, 5, 100]\n"
          ]
        }
      ]
    },
    {
      "cell_type": "code",
      "source": [
        "# list.insert(index, object): list의 index 위치에 object를 삽입.\n",
        "numbers.insert(0, 123)\n",
        "print(numbers)"
      ],
      "metadata": {
        "colab": {
          "base_uri": "https://localhost:8080/"
        },
        "id": "ZXAGkAVGJpSX",
        "outputId": "3a048599-9980-42bb-9dc3-206f5b694d8d"
      },
      "execution_count": null,
      "outputs": [
        {
          "output_type": "stream",
          "name": "stdout",
          "text": [
            "[123, 1, 2, 3, 4, 5, 100]\n"
          ]
        }
      ]
    },
    {
      "cell_type": "code",
      "source": [
        "# list.extend(iterable) : iterable 타입 객체의 원소들을 하나씩 list에 추가.\n",
        "# numbers = numbers + [-1, -2, -3]\n",
        "numbers.extend([-1, -2, -3])\n",
        "print(numbers)"
      ],
      "metadata": {
        "colab": {
          "base_uri": "https://localhost:8080/"
        },
        "id": "03FDJg-aK3Tf",
        "outputId": "a59877d2-6a52-4626-d95d-5ca79e450ffa"
      },
      "execution_count": null,
      "outputs": [
        {
          "output_type": "stream",
          "name": "stdout",
          "text": [
            "[123, 1, 2, 3, 4, 5, 100, -1, -2, -3]\n"
          ]
        }
      ]
    },
    {
      "cell_type": "code",
      "source": [
        "numbers.append([111,222])\n",
        "print(numbers)\n",
        "# list.append(another_list): another_list를 list의 가장 마지막에 추가."
      ],
      "metadata": {
        "colab": {
          "base_uri": "https://localhost:8080/"
        },
        "id": "r_a2iEjELhn_",
        "outputId": "e19f04c8-898f-460d-8d46-43c068017e04"
      },
      "execution_count": null,
      "outputs": [
        {
          "output_type": "stream",
          "name": "stdout",
          "text": [
            "[123, 1, 2, 3, 4, 5, 100, -1, -2, -3, [111, 222]]\n"
          ]
        }
      ]
    },
    {
      "cell_type": "markdown",
      "source": [
        "## 원소 삭제"
      ],
      "metadata": {
        "id": "aYNCQZbONcO4"
      }
    },
    {
      "cell_type": "code",
      "source": [
        "numbers = [1, 2, 3, 10, 20, 30, 1, 2, 3]\n",
        "print(numbers)"
      ],
      "metadata": {
        "colab": {
          "base_uri": "https://localhost:8080/"
        },
        "id": "ZFYfL-U6NdZ4",
        "outputId": "80919a76-d702-4293-8053-11bc264d4248"
      },
      "execution_count": null,
      "outputs": [
        {
          "output_type": "stream",
          "name": "stdout",
          "text": [
            "[1, 2, 3, 10, 20, 30, 1, 2, 3]\n"
          ]
        }
      ]
    },
    {
      "cell_type": "code",
      "source": [
        "# list.pop(): list의 가장 마지막 원소를 삭제.\n",
        "numbers.pop()\n",
        "print(numbers)"
      ],
      "metadata": {
        "colab": {
          "base_uri": "https://localhost:8080/"
        },
        "id": "q-tvuEFRNw84",
        "outputId": "299452aa-3431-4abc-81c1-d5b17334b3fb"
      },
      "execution_count": null,
      "outputs": [
        {
          "output_type": "stream",
          "name": "stdout",
          "text": [
            "[1, 2, 3, 10, 20, 30, 1, 2]\n"
          ]
        }
      ]
    },
    {
      "cell_type": "code",
      "source": [
        "# list.pop(index): 해당 index 위치의 원소를 삭제.\n",
        "# index 파라미터의 기본값은 -1이기 때문에, 아규먼트를 전달하지 않으면 가장 마지막 원소가 삭제됨.\n",
        "numbers.pop(1)\n",
        "print(numbers)"
      ],
      "metadata": {
        "colab": {
          "base_uri": "https://localhost:8080/"
        },
        "id": "6gM4Ld-XOc4p",
        "outputId": "bae0872e-6eb0-4d50-95b6-fa0917d5078a"
      },
      "execution_count": null,
      "outputs": [
        {
          "output_type": "stream",
          "name": "stdout",
          "text": [
            "[1, 3, 10, 20, 30, 1, 2]\n"
          ]
        }
      ]
    },
    {
      "cell_type": "code",
      "source": [
        "# list.remove(value): list의 원소들 중에서 가장 먼저 나오는 value를 삭제.\n",
        "numbers.remove(1)\n",
        "print(numbers)"
      ],
      "metadata": {
        "colab": {
          "base_uri": "https://localhost:8080/"
        },
        "id": "COY73bG9PMtR",
        "outputId": "e11e6d0e-e41a-4377-c9e0-9a7384c6df21"
      },
      "execution_count": null,
      "outputs": [
        {
          "output_type": "stream",
          "name": "stdout",
          "text": [
            "[3, 10, 20, 30, 1, 2]\n"
          ]
        }
      ]
    },
    {
      "cell_type": "code",
      "source": [
        "# list.clear(): list의 모든 원소들을 삭제.\n",
        "numbers.clear()\n",
        "print(numbers)"
      ],
      "metadata": {
        "colab": {
          "base_uri": "https://localhost:8080/"
        },
        "id": "pHKd_MwsPwsR",
        "outputId": "11e3dafb-2454-458c-fae7-835bb26aaec1"
      },
      "execution_count": null,
      "outputs": [
        {
          "output_type": "stream",
          "name": "stdout",
          "text": [
            "[]\n"
          ]
        }
      ]
    },
    {
      "cell_type": "markdown",
      "source": [
        "## 특정 인덱스의 원소 변경"
      ],
      "metadata": {
        "id": "VNMykKEZVkBc"
      }
    },
    {
      "cell_type": "code",
      "source": [
        "names = ['홍길동', 'Scott', 'Tiger']\n",
        "print(names)"
      ],
      "metadata": {
        "colab": {
          "base_uri": "https://localhost:8080/"
        },
        "id": "nzJPwe4HVq_d",
        "outputId": "0513511c-e12e-471a-95b3-bfe19742d31a"
      },
      "execution_count": null,
      "outputs": [
        {
          "output_type": "stream",
          "name": "stdout",
          "text": [
            "['홍길동', 'Scott', 'Tiger']\n"
          ]
        }
      ]
    },
    {
      "cell_type": "code",
      "source": [
        "# list[index] = value: list에서 index 위치의 값을 value로 변경.\n",
        "names[2] = '오쌤'\n",
        "print(names)"
      ],
      "metadata": {
        "colab": {
          "base_uri": "https://localhost:8080/"
        },
        "id": "UOHUfwYoWHDE",
        "outputId": "f4fa444b-d079-4bd5-88f1-58ba01e14046"
      },
      "execution_count": null,
      "outputs": [
        {
          "output_type": "stream",
          "name": "stdout",
          "text": [
            "['홍길동', 'Scott', '오쌤']\n"
          ]
        }
      ]
    },
    {
      "cell_type": "markdown",
      "source": [
        "# list와 for 반복문"
      ],
      "metadata": {
        "id": "5OqQX8OBWlDV"
      }
    },
    {
      "cell_type": "code",
      "source": [
        "numbers = [1, 2, 3, 10, 20, 30]\n",
        "for x in numbers:\n",
        "    print(x)"
      ],
      "metadata": {
        "colab": {
          "base_uri": "https://localhost:8080/"
        },
        "id": "jrVKUx0-WoSU",
        "outputId": "99858b4b-235a-406c-8a7a-96a19b138ab7"
      },
      "execution_count": null,
      "outputs": [
        {
          "output_type": "stream",
          "name": "stdout",
          "text": [
            "1\n",
            "2\n",
            "3\n",
            "10\n",
            "20\n",
            "30\n"
          ]
        }
      ]
    },
    {
      "cell_type": "code",
      "source": [
        "# list의 인덱스와 아이템들을 순서대로 반복:\n",
        "for index, value in enumerate(numbers):\n",
        "    print(index, ':', value)"
      ],
      "metadata": {
        "colab": {
          "base_uri": "https://localhost:8080/"
        },
        "id": "Kp-RcxVPYD9t",
        "outputId": "633d6b55-ca6f-4358-bf0d-b46ea071a79a"
      },
      "execution_count": null,
      "outputs": [
        {
          "output_type": "stream",
          "name": "stdout",
          "text": [
            "0 : 1\n",
            "1 : 2\n",
            "2 : 3\n",
            "3 : 10\n",
            "4 : 20\n",
            "5 : 30\n"
          ]
        }
      ]
    },
    {
      "cell_type": "markdown",
      "source": [
        "* 빈 리스트 numbers를 만듦.\n",
        "* 리스트 numbers에 10 미만의 정수 난수 10개를 저장.\n",
        "* numbers를 출력\n",
        "* numbers의 원소들 중에서 짝수들만 찾아서 새로운 리스트 evens를 만들고 출력.\n",
        "* numbers의 원소들 중에서 홀수들만 찾아서 새로운 리스트 odds를 만들고 출력."
      ],
      "metadata": {
        "id": "u6BQKmzWZPlm"
      }
    },
    {
      "cell_type": "code",
      "source": [
        "import random\n",
        "\n",
        "numbers =[]\n",
        "evens =[]\n",
        "odds =[]\n",
        "\n",
        "for i in range(10):\n",
        "    numbers.append(random.randrange(10))\n",
        "print(numbers)\n",
        "\n",
        "for i in range(0,10):\n",
        "    if numbers[i] % 2 == 0:\n",
        "        evens.append(numbers[i])\n",
        "    else:\n",
        "        odds.append(numbers[i])\n",
        "print(evens)\n",
        "print(odds)"
      ],
      "metadata": {
        "colab": {
          "base_uri": "https://localhost:8080/"
        },
        "id": "Q4elou8IZlqW",
        "outputId": "8dc330aa-2999-4eac-b795-253fc81b775e"
      },
      "execution_count": null,
      "outputs": [
        {
          "output_type": "stream",
          "name": "stdout",
          "text": [
            "[9, 0, 3, 3, 1, 4, 7, 2, 4, 3]\n",
            "[0, 4, 2, 4]\n",
            "[9, 3, 3, 1, 7, 3]\n"
          ]
        }
      ]
    },
    {
      "cell_type": "code",
      "source": [
        "# 강사님 code\n",
        "\n",
        "numbers = []\n",
        "\n",
        "# for _ in range(stop) : range()의 값들을 반복 블록에서 사용하지 않을 때, 변수 이름 대신 밑줄(underscore, _)을 사용하기도 함.\n",
        "for _ in range(10): # 10번 반복\n",
        "    rand_number = random.randrange(10) # 0 이상 10 미만의 정수 난수 만듦.\n",
        "    numbers.append(rand_number)\n",
        "\n",
        "print(numbers) # 리스트를 출력\n",
        "\n",
        "evens = [] # 짝수들만 저장하기 위한 빈 리스트를 만듦.\n",
        "\n",
        "for x in numbers: # 리스트 numbers의 아이템들을 순서대로 하나씩 반복하면서\n",
        "    if x % 2 == 0: # 리스트에서 꺼낸 아이템 x가 짝수이면\n",
        "        evens.append(x) # 리스트 evens에 짝수를 저장\n",
        "\n",
        "print(evens)\n",
        "\n",
        "odds = [] # 홀수들을 저장하기 위한 빈 리스트를 만듦.\n",
        "for x in numbers: # 리스트 numbers의 아이템들을 순서대로 하나씩 반복하면서\n",
        "    if x % 2: # x를 2로 나눈 나머지가 있으면(x가 홀수이면)\n",
        "        odds.append(x) # 리스트 odds에 홀수를 저장\n",
        "print(odds)"
      ],
      "metadata": {
        "colab": {
          "base_uri": "https://localhost:8080/"
        },
        "id": "1kXoIvwZjccK",
        "outputId": "ceaeda02-2552-45e0-b787-1613beac8e79"
      },
      "execution_count": null,
      "outputs": [
        {
          "output_type": "stream",
          "name": "stdout",
          "text": [
            "[0, 1, 2, 9, 0, 6, 5, 3, 3, 9]\n",
            "[0, 2, 0, 6]\n",
            "[1, 9, 5, 3, 3, 9]\n"
          ]
        }
      ]
    },
    {
      "cell_type": "markdown",
      "source": [
        "* integers 이름의 빈 리스트를 만듦.\n",
        "* 리스트 integers에 -10 이상 10 이하의 정수 난수 10개를 저장하고 출력.\n",
        "* is_positives 이름의 빈 리스트를 만듦.\n",
        "* integers의 원소가 양수이면 True, 그렇지 않으면 False를 is_positives에 저장하고 출력."
      ],
      "metadata": {
        "id": "xnK4gBFRmRdc"
      }
    },
    {
      "cell_type": "code",
      "source": [
        "integers = []\n",
        "is_positives = []\n",
        "\n",
        "for _ in range(10): # 10번 반복\n",
        "    integers.append(random.randrange(-10, 11))\n",
        "\n",
        "print(integers)\n",
        "\n",
        "for i in range(0,10):\n",
        "    if integers[i] > 0:\n",
        "        is_positives.append(True)\n",
        "    else:\n",
        "        is_positives.append(False)\n",
        "\n",
        "print(is_positives)"
      ],
      "metadata": {
        "colab": {
          "base_uri": "https://localhost:8080/"
        },
        "id": "24B4XR6YmazT",
        "outputId": "12f1e0ad-2111-4183-a223-991e90e0bf3d"
      },
      "execution_count": null,
      "outputs": [
        {
          "output_type": "stream",
          "name": "stdout",
          "text": [
            "[3, 3, -4, 6, 0, 4, 10, -2, -9, -3]\n",
            "[True, True, False, True, False, True, True, False, False, False]\n"
          ]
        }
      ]
    },
    {
      "cell_type": "markdown",
      "source": [
        "## List Comprehension"
      ],
      "metadata": {
        "id": "FLrASVTQ7N3r"
      }
    },
    {
      "cell_type": "code",
      "source": [
        "numbers = []\n",
        "for x in range(1, 11):\n",
        "    numbers.append(x)\n",
        "print(numbers)"
      ],
      "metadata": {
        "colab": {
          "base_uri": "https://localhost:8080/"
        },
        "id": "tRzEQVCT7LZs",
        "outputId": "78ebf11f-ef5b-4ed5-89b0-c60ec68a68b6"
      },
      "execution_count": null,
      "outputs": [
        {
          "output_type": "stream",
          "name": "stdout",
          "text": [
            "[1, 2, 3, 4, 5, 6, 7, 8, 9, 10]\n"
          ]
        }
      ]
    },
    {
      "cell_type": "code",
      "source": [
        "numbers = [x for x in range(1, 11)]\n",
        "print(numbers)"
      ],
      "metadata": {
        "colab": {
          "base_uri": "https://localhost:8080/"
        },
        "id": "Y_Vd20ia8Ah9",
        "outputId": "844a5619-0d34-4a25-b7e7-1aad6fc71980"
      },
      "execution_count": null,
      "outputs": [
        {
          "output_type": "stream",
          "name": "stdout",
          "text": [
            "[1, 2, 3, 4, 5, 6, 7, 8, 9, 10]\n"
          ]
        }
      ]
    },
    {
      "cell_type": "markdown",
      "source": [
        "1 ~ 10 까지의 정수들의 제곱을 저장하는 리스트를 만들고 출력하세요\n",
        "```\n",
        "[1, 4, 9, 16, ..., 81, 100]\n",
        "```"
      ],
      "metadata": {
        "id": "QsgiNeV088KU"
      }
    },
    {
      "cell_type": "code",
      "source": [
        "numbers = [x ** 2 for x in range(1,11)]\n",
        "print(numbers)"
      ],
      "metadata": {
        "colab": {
          "base_uri": "https://localhost:8080/"
        },
        "id": "5awo9-BL9Duc",
        "outputId": "7118d1a5-e621-4225-bf34-d8b7c0c2397a"
      },
      "execution_count": null,
      "outputs": [
        {
          "output_type": "stream",
          "name": "stdout",
          "text": [
            "[1, 4, 9, 16, 25, 36, 49, 64, 81, 100]\n"
          ]
        }
      ]
    },
    {
      "cell_type": "markdown",
      "source": [
        "100 미만의 정수 난수 10개를 저장하는 리스트 rand_numbers를 만들고 출력하세요."
      ],
      "metadata": {
        "id": "6hqqCalR-ZOu"
      }
    },
    {
      "cell_type": "code",
      "source": [
        "rand_numbers = []\n",
        "\n",
        "for i in range(10):\n",
        "    rand_numbers.append(random.randrange(100))\n",
        "print(rand_numbers)\n",
        "\n",
        "# list comprehension 사용\n",
        "\n",
        "rand_numbers = [random.randrange(100) for _ in range(10)]\n",
        "print(rand_numbers)"
      ],
      "metadata": {
        "colab": {
          "base_uri": "https://localhost:8080/"
        },
        "id": "jM5nRpPu-cPc",
        "outputId": "f46edbe1-93f2-4957-b5a5-f23ad3610e2f"
      },
      "execution_count": null,
      "outputs": [
        {
          "output_type": "stream",
          "name": "stdout",
          "text": [
            "[58, 38, 20, 56, 33, 55, 53, 97, 61, 89]\n",
            "[3, 54, 47, 43, 60, 64, 2, 37, 32, 49]\n"
          ]
        }
      ]
    },
    {
      "cell_type": "markdown",
      "source": [
        "rand_numbers에서 짝수들만 선택해서 새로운 리스트를 만들고 출력하세요."
      ],
      "metadata": {
        "id": "Dhi8cSwP_309"
      }
    },
    {
      "cell_type": "code",
      "source": [
        "even_numbers = []\n",
        "for x in rand_numbers:\n",
        "    if x % 2 == 0:\n",
        "        even_numbers.append(x)\n",
        "print(even_numbers)\n",
        "\n",
        "# list comprehension 사용\n",
        "\n",
        "even_numbers = [x for x in rand_numbers if x % 2 == 0]\n",
        "print(even_numbers)"
      ],
      "metadata": {
        "colab": {
          "base_uri": "https://localhost:8080/"
        },
        "id": "aTMiyIOCABlF",
        "outputId": "485c668b-c05c-4e53-bd50-2233542f1e12"
      },
      "execution_count": null,
      "outputs": [
        {
          "output_type": "stream",
          "name": "stdout",
          "text": [
            "[54, 60, 64, 2, 32]\n",
            "[54, 60, 64, 2, 32]\n"
          ]
        }
      ]
    },
    {
      "cell_type": "markdown",
      "source": [
        "rand_numbers에서 홀수들만 선택해서 새로운 리스트를 만들고 출력하세요."
      ],
      "metadata": {
        "id": "C39eM5yZ_9bN"
      }
    },
    {
      "cell_type": "code",
      "source": [
        "odds_numbers=[]\n",
        "for x in rand_numbers:\n",
        "    if x % 2 != 0:\n",
        "        odds_numbers.append(x)\n",
        "print(odds_numbers)\n",
        "\n",
        "odds_numbers = [x for x in rand_numbers if x % 2 != 0]\n",
        "print(odds_numbers)"
      ],
      "metadata": {
        "colab": {
          "base_uri": "https://localhost:8080/"
        },
        "id": "j7G_Cb87_8W1",
        "outputId": "d3bd0dc2-75bc-4580-be4b-01116ea84a9b"
      },
      "execution_count": null,
      "outputs": [
        {
          "output_type": "stream",
          "name": "stdout",
          "text": [
            "[3, 47, 43, 37, 49]\n",
            "[3, 47, 43, 37, 49]\n"
          ]
        }
      ]
    },
    {
      "cell_type": "markdown",
      "source": [
        "if-else 표현식\n",
        "\n",
        "```\n",
        "값1 if 조건식 else 값2\n",
        "```\n",
        "\n",
        "(조건식)을 만족하면 (값1)을 선택, 그렇지 않으면 (값2)를 선택"
      ],
      "metadata": {
        "id": "2S3BaZQbCmJu"
      }
    },
    {
      "cell_type": "code",
      "source": [
        "x = 1\n",
        "is_even = 'True' if x % 2 == 0 else 'False'\n",
        "print(is_even)"
      ],
      "metadata": {
        "colab": {
          "base_uri": "https://localhost:8080/"
        },
        "id": "6n-3XqrsDKcX",
        "outputId": "62e6d2f2-7de8-40e7-c16d-922e8f6082cb"
      },
      "execution_count": null,
      "outputs": [
        {
          "output_type": "stream",
          "name": "stdout",
          "text": [
            "False\n"
          ]
        }
      ]
    },
    {
      "cell_type": "markdown",
      "source": [
        "rand_numbers의 값이 짝수이면 True, 그렇지 않으면 False를 저장하는 리스트를 만들고 출력하세요."
      ],
      "metadata": {
        "id": "k3Z4TdmCD_cn"
      }
    },
    {
      "cell_type": "code",
      "source": [
        "bull_numbers = []\n",
        "\n",
        "bull_numbers = ['True' if x % 2 == 0 else 'False' for x in rand_numbers]\n",
        "print(bull_numbers)"
      ],
      "metadata": {
        "colab": {
          "base_uri": "https://localhost:8080/"
        },
        "id": "HDfss3BKEFVv",
        "outputId": "12fb5337-c698-44e1-9ad3-bafb86bed228"
      },
      "execution_count": null,
      "outputs": [
        {
          "output_type": "stream",
          "name": "stdout",
          "text": [
            "['False', 'True', 'False', 'False', 'True', 'True', 'True', 'False', 'True', 'False']\n"
          ]
        }
      ]
    },
    {
      "cell_type": "markdown",
      "source": [
        "# 다차원 리스트"
      ],
      "metadata": {
        "id": "qKEGPTwKLOZr"
      }
    },
    {
      "cell_type": "markdown",
      "source": [
        "다차원 리스트 : 리스트들을 아이템(원소)로 갖는 리스트."
      ],
      "metadata": {
        "id": "DxSGZ3pILgHb"
      }
    },
    {
      "cell_type": "code",
      "source": [
        "matrix = [\n",
        "    [1, 2, 3,4],\n",
        "    [4, 5, 6,7],\n",
        "    [7, 8, 9,10]\n",
        "]"
      ],
      "metadata": {
        "id": "n_z8g8O-LP25"
      },
      "execution_count": null,
      "outputs": []
    },
    {
      "cell_type": "code",
      "source": [
        "print(matrix)"
      ],
      "metadata": {
        "colab": {
          "base_uri": "https://localhost:8080/"
        },
        "id": "G00uadneL5hz",
        "outputId": "55a9d9ac-c9c6-4e1c-e58a-fd0d35af3e52"
      },
      "execution_count": null,
      "outputs": [
        {
          "output_type": "stream",
          "name": "stdout",
          "text": [
            "[[1, 2, 3, 4], [4, 5, 6, 7], [7, 8, 9, 10]]\n"
          ]
        }
      ]
    },
    {
      "cell_type": "code",
      "source": [
        "len(matrix) # len(obj): obj가 갖고 있는 아이템들의 개수를 리턴."
      ],
      "metadata": {
        "colab": {
          "base_uri": "https://localhost:8080/"
        },
        "id": "6BlANkqBMXyL",
        "outputId": "b6199024-4ce6-4780-e422-c715b63eb341"
      },
      "execution_count": null,
      "outputs": [
        {
          "output_type": "execute_result",
          "data": {
            "text/plain": [
              "3"
            ]
          },
          "metadata": {},
          "execution_count": 94
        }
      ]
    },
    {
      "cell_type": "code",
      "source": [
        "matrix[0]"
      ],
      "metadata": {
        "colab": {
          "base_uri": "https://localhost:8080/"
        },
        "id": "UO47wgbeNEd7",
        "outputId": "d1d75f57-9d1f-4400-f8b8-1c18d7d80e27"
      },
      "execution_count": null,
      "outputs": [
        {
          "output_type": "execute_result",
          "data": {
            "text/plain": [
              "[1, 2, 3, 4]"
            ]
          },
          "metadata": {},
          "execution_count": 95
        }
      ]
    },
    {
      "cell_type": "code",
      "source": [
        "matrix[0][0]"
      ],
      "metadata": {
        "colab": {
          "base_uri": "https://localhost:8080/"
        },
        "id": "O32SpsqBNJVj",
        "outputId": "c0ce782e-193d-48c8-80ad-7bdc382fea86"
      },
      "execution_count": null,
      "outputs": [
        {
          "output_type": "execute_result",
          "data": {
            "text/plain": [
              "1"
            ]
          },
          "metadata": {},
          "execution_count": 96
        }
      ]
    },
    {
      "cell_type": "markdown",
      "source": [
        "## 다차원 배열과 for 반복문"
      ],
      "metadata": {
        "id": "6AccdzR9N-Bk"
      }
    },
    {
      "cell_type": "code",
      "source": [
        "for row in matrix:\n",
        "    print(row)"
      ],
      "metadata": {
        "colab": {
          "base_uri": "https://localhost:8080/"
        },
        "id": "9NjGpuoBOBHk",
        "outputId": "d7674376-f835-4c06-889a-879edbfb5be0"
      },
      "execution_count": null,
      "outputs": [
        {
          "output_type": "stream",
          "name": "stdout",
          "text": [
            "[1, 2, 3, 4]\n",
            "[4, 5, 6, 7]\n",
            "[7, 8, 9, 10]\n"
          ]
        }
      ]
    },
    {
      "cell_type": "code",
      "source": [
        "for row in matrix:\n",
        "    for x in row:\n",
        "        print(x, end = '\\t')\n",
        "    print()"
      ],
      "metadata": {
        "colab": {
          "base_uri": "https://localhost:8080/"
        },
        "id": "ooxhQVuxOJ78",
        "outputId": "75f70b12-aef1-4c86-97b7-a9963c9e5084"
      },
      "execution_count": null,
      "outputs": [
        {
          "output_type": "stream",
          "name": "stdout",
          "text": [
            "1\t2\t3\t4\t\n",
            "4\t5\t6\t7\t\n",
            "7\t8\t9\t10\t\n"
          ]
        }
      ]
    },
    {
      "cell_type": "markdown",
      "source": [
        "# `zip()` 함수와 for 반복문"
      ],
      "metadata": {
        "id": "G0WhsZeWPvLl"
      }
    },
    {
      "cell_type": "code",
      "source": [
        "numbers1 = [1, 2, 3, 4, 5]\n",
        "numbers2 = [1, 3, 5, 7, 9]\n",
        "adds = []\n",
        "\n",
        "for i in range(0,5):\n",
        "    adds_n = numbers1[i]+numbers2[i]\n",
        "    adds.append(adds_n)\n",
        "print(adds)"
      ],
      "metadata": {
        "colab": {
          "base_uri": "https://localhost:8080/"
        },
        "id": "TQ80AiwKPzIc",
        "outputId": "7b8a6013-80d6-4da2-88ad-1de4e9360b96"
      },
      "execution_count": null,
      "outputs": [
        {
          "output_type": "stream",
          "name": "stdout",
          "text": [
            "[2, 5, 8, 11, 14]\n"
          ]
        }
      ]
    },
    {
      "cell_type": "code",
      "source": [
        "# 강사님 code\n",
        "\n",
        "adds = [numbers1[i]+numbers2[i] for i in range(5)] # range(len(numbers1))\n",
        "print(adds)"
      ],
      "metadata": {
        "colab": {
          "base_uri": "https://localhost:8080/"
        },
        "id": "3SaiyE6MTZr2",
        "outputId": "4fc3a2ec-18f5-48c0-f36e-833bf10ccc37"
      },
      "execution_count": null,
      "outputs": [
        {
          "output_type": "stream",
          "name": "stdout",
          "text": [
            "[2, 5, 8, 11, 14]\n"
          ]
        }
      ]
    },
    {
      "cell_type": "code",
      "source": [
        "# 강사님 code 2\n",
        "\n",
        "adds2 = []\n",
        "\n",
        "for x, y in zip(numbers1, numbers2):\n",
        "    adds2.append(x+y)\n",
        "print(adds2)"
      ],
      "metadata": {
        "colab": {
          "base_uri": "https://localhost:8080/"
        },
        "id": "3iWz-c_5UDpZ",
        "outputId": "4b2f4c32-41c9-49bd-e73d-ddbf2127a144"
      },
      "execution_count": null,
      "outputs": [
        {
          "output_type": "stream",
          "name": "stdout",
          "text": [
            "[2, 5, 8, 11, 14]\n"
          ]
        }
      ]
    },
    {
      "cell_type": "code",
      "source": [
        "# 강사님 code 3\n",
        "\n",
        "adds2 = [ x + y for x, y in zip(numbers1, numbers2)]\n",
        "print(adds2)"
      ],
      "metadata": {
        "colab": {
          "base_uri": "https://localhost:8080/"
        },
        "id": "XGMhWGBkVm2n",
        "outputId": "bb719df4-7653-4fc1-a3d8-f396df3c8c8e"
      },
      "execution_count": null,
      "outputs": [
        {
          "output_type": "stream",
          "name": "stdout",
          "text": [
            "[2, 5, 8, 11, 14]\n"
          ]
        }
      ]
    }
  ]
}