{
  "nbformat": 4,
  "nbformat_minor": 0,
  "metadata": {
    "colab": {
      "provenance": [],
      "authorship_tag": "ABX9TyMwlepFzAO19uynjEZb2G8r",
      "include_colab_link": true
    },
    "kernelspec": {
      "name": "python3",
      "display_name": "Python 3"
    },
    "language_info": {
      "name": "python"
    }
  },
  "cells": [
    {
      "cell_type": "markdown",
      "metadata": {
        "id": "view-in-github",
        "colab_type": "text"
      },
      "source": [
        "<a href=\"https://colab.research.google.com/github/yuuhyun/python_taehoon_itwill/blob/main/20250429_python15.ipynb\" target=\"_parent\"><img src=\"https://colab.research.google.com/assets/colab-badge.svg\" alt=\"Open In Colab\"/></a>"
      ]
    },
    {
      "cell_type": "markdown",
      "source": [
        "#str 클래스의 메서드"
      ],
      "metadata": {
        "id": "a6U1WvVKcbpV"
      }
    },
    {
      "cell_type": "code",
      "execution_count": null,
      "metadata": {
        "id": "z-Szjj5AcVQ3"
      },
      "outputs": [],
      "source": [
        "s = 'heLLo, pyTHon! 안녕, 파이썬...'"
      ]
    },
    {
      "cell_type": "code",
      "source": [
        "print(type(s)) # __str()__()\n",
        "type(s) # __repr()__"
      ],
      "metadata": {
        "colab": {
          "base_uri": "https://localhost:8080/"
        },
        "id": "5Lj_jNnlc1S9",
        "outputId": "c7a73d00-db63-49cd-98bd-2d2b0e11f28c"
      },
      "execution_count": null,
      "outputs": [
        {
          "output_type": "stream",
          "name": "stdout",
          "text": [
            "<class 'str'>\n"
          ]
        },
        {
          "output_type": "execute_result",
          "data": {
            "text/plain": [
              "str"
            ]
          },
          "metadata": {},
          "execution_count": 2
        }
      ]
    },
    {
      "cell_type": "code",
      "source": [
        "result = s.upper() # uppercase(대문자)로 변환된 문자열을 리턴.\n",
        "print('result =', result)\n",
        "print('s = ', s) # 원본 문자열 s는 변경되지 않음!"
      ],
      "metadata": {
        "colab": {
          "base_uri": "https://localhost:8080/"
        },
        "id": "6TBQI6X4dXt9",
        "outputId": "12ffe4c3-2296-4ffe-dabc-dfcf1c588850"
      },
      "execution_count": null,
      "outputs": [
        {
          "output_type": "stream",
          "name": "stdout",
          "text": [
            "result = HELLO,PYTHON! 안녕, 파이썬...\n",
            "s =  hello,pyTHon! 안녕, 파이썬...\n"
          ]
        }
      ]
    },
    {
      "cell_type": "code",
      "source": [
        "s.lower() # lowercase(소문자)로 변환된 문자열을 리턴."
      ],
      "metadata": {
        "colab": {
          "base_uri": "https://localhost:8080/",
          "height": 35
        },
        "id": "KCaPN2Dle3YH",
        "outputId": "de955bd7-823e-4cac-bbf0-4031e38526d0"
      },
      "execution_count": null,
      "outputs": [
        {
          "output_type": "execute_result",
          "data": {
            "text/plain": [
              "'hello,python! 안녕, 파이썬...'"
            ],
            "application/vnd.google.colaboratory.intrinsic+json": {
              "type": "string"
            }
          },
          "metadata": {},
          "execution_count": 4
        }
      ]
    },
    {
      "cell_type": "code",
      "source": [
        "s.capitalize() # 문장의 첫글자만 대문자로."
      ],
      "metadata": {
        "colab": {
          "base_uri": "https://localhost:8080/",
          "height": 35
        },
        "id": "OeG7LVVgfBD9",
        "outputId": "87b068c4-b6a5-46c9-887a-33006c915e7c"
      },
      "execution_count": null,
      "outputs": [
        {
          "output_type": "execute_result",
          "data": {
            "text/plain": [
              "'Hello,python! 안녕, 파이썬...'"
            ],
            "application/vnd.google.colaboratory.intrinsic+json": {
              "type": "string"
            }
          },
          "metadata": {},
          "execution_count": 5
        }
      ]
    },
    {
      "cell_type": "code",
      "source": [
        "# str.count(sub): 문자열 str안에 sub가 몇 번 등장하는 지를 리턴.\n",
        "print(s)\n",
        "print(s.count('L'))\n",
        "print(s.count('l'))\n",
        "print(s.count('LL'))"
      ],
      "metadata": {
        "colab": {
          "base_uri": "https://localhost:8080/"
        },
        "id": "W1XGb9sggSN_",
        "outputId": "8b55f18e-dafc-4e5f-ed38-aa92f537b686"
      },
      "execution_count": null,
      "outputs": [
        {
          "output_type": "stream",
          "name": "stdout",
          "text": [
            "heLLo,pyTHon! 안녕, 파이썬...\n",
            "2\n",
            "0\n",
            "1\n"
          ]
        }
      ]
    },
    {
      "cell_type": "code",
      "source": [
        "# str.find(패턴): 문자열 str에 패턴이 처음 등장하는 인덱스를 리턴. 문자열에 패턴이 없으면 -1을 리턴.\n",
        "print(s)\n",
        "print(s.find('py'))"
      ],
      "metadata": {
        "colab": {
          "base_uri": "https://localhost:8080/"
        },
        "id": "H2zNHyFphJQX",
        "outputId": "3f926b49-b7fe-4239-b5af-b781477319c0"
      },
      "execution_count": null,
      "outputs": [
        {
          "output_type": "stream",
          "name": "stdout",
          "text": [
            "heLLo, pyTHon! 안녕, 파이썬...\n",
            "7\n"
          ]
        }
      ]
    },
    {
      "cell_type": "code",
      "source": [
        "email = 'jake@itwill.com'\n",
        "# 문자열 email에서 '@' 나오는 인덱스를 찾음\n",
        "# 문자열을 이메일 아이디와 메일 도메인을 각각 출력.\n",
        "\n",
        "idx = email.find('@')\n",
        "print(idx)\n",
        "\n",
        "print(email[:idx])\n",
        "print(email[(idx+1):])"
      ],
      "metadata": {
        "colab": {
          "base_uri": "https://localhost:8080/"
        },
        "id": "PU9FBQq-hxR3",
        "outputId": "dca2d2e7-7be9-4e4f-94bd-c33bedf5f079"
      },
      "execution_count": null,
      "outputs": [
        {
          "output_type": "stream",
          "name": "stdout",
          "text": [
            "4\n",
            "jake\n",
            "itwill.com\n"
          ]
        }
      ]
    },
    {
      "cell_type": "code",
      "source": [
        "msg ='파이썬 참 쉽죠? 파이썬 열심히 공부합시다.'\n",
        "result = msg.split() # 공백(space, tab, enter)으로 구분한(자른) 문자열들의 리스트를 리턴\n",
        "result"
      ],
      "metadata": {
        "colab": {
          "base_uri": "https://localhost:8080/"
        },
        "id": "T7yBhmer1e9h",
        "outputId": "6ee273ea-9ffe-4f13-aef9-1310efa07495"
      },
      "execution_count": null,
      "outputs": [
        {
          "output_type": "execute_result",
          "data": {
            "text/plain": [
              "['파이썬', '참', '쉽죠?', '파이썬', '열심히', '공부합시다.']"
            ]
          },
          "metadata": {},
          "execution_count": 33
        }
      ]
    },
    {
      "cell_type": "code",
      "source": [
        "date_string = '2025-04-29'\n",
        "result = date_string.split(sep='-') # sep 파라미터 : 구분자(separator)\n",
        "result"
      ],
      "metadata": {
        "colab": {
          "base_uri": "https://localhost:8080/"
        },
        "id": "d0JiOBMA2_NC",
        "outputId": "07cbf407-a0e6-44fa-8ea7-715f23787b49"
      },
      "execution_count": null,
      "outputs": [
        {
          "output_type": "execute_result",
          "data": {
            "text/plain": [
              "['2025', '04', '29']"
            ]
          },
          "metadata": {},
          "execution_count": 36
        }
      ]
    },
    {
      "cell_type": "code",
      "source": [
        "csv_string = '1, 홍길동, 100, 90, 80' # csv(comma-separated values)\n",
        "csv_string.split(sep=',')"
      ],
      "metadata": {
        "colab": {
          "base_uri": "https://localhost:8080/"
        },
        "id": "O4p8fVqq3gwC",
        "outputId": "d77f369b-6f03-49f0-dd95-521292edf922"
      },
      "execution_count": null,
      "outputs": [
        {
          "output_type": "execute_result",
          "data": {
            "text/plain": [
              "['1', ' 홍길동', ' 100', ' 90', ' 80']"
            ]
          },
          "metadata": {},
          "execution_count": 37
        }
      ]
    },
    {
      "cell_type": "code",
      "source": [
        "email = 'gildon.hong@naver.com'\n",
        "# 문자열 email에서 이메일 아이디와 도메인을 구분해서 출력\n",
        "\n",
        "result = email.split(sep='@')\n",
        "print(result[0])\n",
        "print(result[1])"
      ],
      "metadata": {
        "colab": {
          "base_uri": "https://localhost:8080/"
        },
        "id": "fh0crhrJ4kVK",
        "outputId": "5f5bfeeb-26b7-4cf0-8212-7509af351d53"
      },
      "execution_count": null,
      "outputs": [
        {
          "output_type": "stream",
          "name": "stdout",
          "text": [
            "gildon.hong\n",
            "naver.com\n"
          ]
        }
      ]
    },
    {
      "cell_type": "code",
      "source": [
        "# str.join(iterable) : iterable의 아이템들을 str으로 연결한 문자열을 리턴.\n",
        "'/'.join(['2025', '04', '29'])"
      ],
      "metadata": {
        "colab": {
          "base_uri": "https://localhost:8080/",
          "height": 35
        },
        "id": "NCdXszcx5aoi",
        "outputId": "73959eb2-5288-48c7-e47e-f48842c96cc8"
      },
      "execution_count": null,
      "outputs": [
        {
          "output_type": "execute_result",
          "data": {
            "text/plain": [
              "'2025/04/29'"
            ],
            "application/vnd.google.colaboratory.intrinsic+json": {
              "type": "string"
            }
          },
          "metadata": {},
          "execution_count": 42
        }
      ]
    },
    {
      "cell_type": "code",
      "source": [
        "','.join(['홍길동', '오쌤', 'Scott'])"
      ],
      "metadata": {
        "colab": {
          "base_uri": "https://localhost:8080/",
          "height": 35
        },
        "id": "93pQkIiv6WZ0",
        "outputId": "47f3f79d-facb-4d27-a1e0-239e68d54c20"
      },
      "execution_count": null,
      "outputs": [
        {
          "output_type": "execute_result",
          "data": {
            "text/plain": [
              "'홍길동,오쌤,Scott'"
            ],
            "application/vnd.google.colaboratory.intrinsic+json": {
              "type": "string"
            }
          },
          "metadata": {},
          "execution_count": 43
        }
      ]
    },
    {
      "cell_type": "code",
      "source": [
        "msg = 'Hello,Python,안녕하세요,파이썬,12345'\n",
        "msg.replace(',', '::') # str.replace(old, new): str에 등장하는 old를 new로 대체한 문자열을 리턴."
      ],
      "metadata": {
        "colab": {
          "base_uri": "https://localhost:8080/",
          "height": 35
        },
        "id": "dsfkJpIR6lxj",
        "outputId": "bac6a73a-6e38-430c-e770-07ea799a022b"
      },
      "execution_count": null,
      "outputs": [
        {
          "output_type": "execute_result",
          "data": {
            "text/plain": [
              "'Hello::Python::안녕하세요::파이썬::12345'"
            ],
            "application/vnd.google.colaboratory.intrinsic+json": {
              "type": "string"
            }
          },
          "metadata": {},
          "execution_count": 46
        }
      ]
    },
    {
      "cell_type": "code",
      "source": [
        "msg.replace(',', '-', 1) # str.replace(old, new, count): str에 등장하는 old를 new로 count번 대체."
      ],
      "metadata": {
        "colab": {
          "base_uri": "https://localhost:8080/",
          "height": 35
        },
        "id": "JdZesCS97ls0",
        "outputId": "53be7315-5235-4097-b4ec-920f65021640"
      },
      "execution_count": null,
      "outputs": [
        {
          "output_type": "execute_result",
          "data": {
            "text/plain": [
              "'Hello-Python,안녕하세요,파이썬,12345'"
            ],
            "application/vnd.google.colaboratory.intrinsic+json": {
              "type": "string"
            }
          },
          "metadata": {},
          "execution_count": 48
        }
      ]
    },
    {
      "cell_type": "code",
      "source": [
        "msg = '안녕? 안녕하세요! Hello, Python.'\n",
        "msg.replace('?', '').replace('!', '').replace(',', '').replace('.','').split() # 메서드 연쇄 호출"
      ],
      "metadata": {
        "colab": {
          "base_uri": "https://localhost:8080/"
        },
        "id": "zrEDFNCS8qbO",
        "outputId": "92231304-f413-47cc-f075-f2b5cbb9458c"
      },
      "execution_count": null,
      "outputs": [
        {
          "output_type": "execute_result",
          "data": {
            "text/plain": [
              "['안녕', '안녕하세요', 'Hello', 'Python']"
            ]
          },
          "metadata": {},
          "execution_count": 52
        }
      ]
    },
    {
      "cell_type": "code",
      "source": [
        "sentence = '        Hello, Python!          안녕하세요....          '\n",
        "print(sentence)\n",
        "print(sentence.lstrip()) # lstrip: left strip\n",
        "print(sentence.rstrip()) # rstrip: right strip\n",
        "print(sentence.strip())"
      ],
      "metadata": {
        "colab": {
          "base_uri": "https://localhost:8080/"
        },
        "id": "-h6cygXP9mMt",
        "outputId": "13f21baf-5dcf-43b3-b1b4-e36c73e9cd3b"
      },
      "execution_count": null,
      "outputs": [
        {
          "output_type": "stream",
          "name": "stdout",
          "text": [
            "        Hello, Python!          안녕하세요....          \n",
            "Hello, Python!          안녕하세요....          \n",
            "        Hello, Python!          안녕하세요....\n",
            "Hello, Python!          안녕하세요....\n"
          ]
        }
      ]
    }
  ]
}