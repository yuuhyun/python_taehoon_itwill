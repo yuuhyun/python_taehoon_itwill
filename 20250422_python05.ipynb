{
  "nbformat": 4,
  "nbformat_minor": 0,
  "metadata": {
    "colab": {
      "provenance": [],
      "authorship_tag": "ABX9TyPPX0dBjr7UO2bGzZAmGDdr",
      "include_colab_link": true
    },
    "kernelspec": {
      "name": "python3",
      "display_name": "Python 3"
    },
    "language_info": {
      "name": "python"
    }
  },
  "cells": [
    {
      "cell_type": "markdown",
      "metadata": {
        "id": "view-in-github",
        "colab_type": "text"
      },
      "source": [
        "<a href=\"https://colab.research.google.com/github/yuuhyun/python_taehoon_itwill/blob/main/20250422_python05.ipynb\" target=\"_parent\"><img src=\"https://colab.research.google.com/assets/colab-badge.svg\" alt=\"Open In Colab\"/></a>"
      ]
    },
    {
      "cell_type": "markdown",
      "source": [
        "# for 반복문"
      ],
      "metadata": {
        "id": "LFBBaFg_KVGV"
      }
    },
    {
      "cell_type": "markdown",
      "source": [
        "## 문법"
      ],
      "metadata": {
        "id": "GcMhISvBKYGU"
      }
    },
    {
      "cell_type": "markdown",
      "source": [
        "```\n",
        "for 변수 in iterable-type:\n",
        "    반복해서 실행할 코드 블록\n",
        "```\n",
        "\n",
        "* iterable-type: 반복(iteration)이 가능한 데이터 타입.\n",
        "    * str(문자열), range, list, tuple, dict, ...\n",
        "* for 반복문은 iterable-type이 객체에서 원소들을 하나씩 순서대로 꺼내서 변수에 저장하고, 코드 블록을 수행.\n",
        "* for 반복문은 iterable-type이 객체에서 더이상 꺼낼 원소가 없을 때 반복을 종료."
      ],
      "metadata": {
        "id": "ys5SrQtZKZ7E"
      }
    },
    {
      "cell_type": "code",
      "execution_count": null,
      "metadata": {
        "colab": {
          "base_uri": "https://localhost:8080/"
        },
        "id": "WY9qvq8oGOeB",
        "outputId": "1fcaf957-567f-4fa6-feb8-43fac326a50b"
      },
      "outputs": [
        {
          "output_type": "stream",
          "name": "stdout",
          "text": [
            "안\n",
            "녕\n",
            "하\n",
            "세\n",
            "요\n",
            "!\n"
          ]
        }
      ],
      "source": [
        "for x in '안녕하세요!':\n",
        "    print(x)"
      ]
    },
    {
      "cell_type": "markdown",
      "source": [
        "## `range()` 함수와 for 반복문"
      ],
      "metadata": {
        "id": "DVboghVHM7zm"
      }
    },
    {
      "cell_type": "code",
      "source": [
        "# range(start, stop): iteration할 때마다 start <= x < stop 범위의 1씩 증가하는 정수를 생성함.\n",
        "for x in range(1, 6):\n",
        "    print(x)"
      ],
      "metadata": {
        "colab": {
          "base_uri": "https://localhost:8080/"
        },
        "id": "j5qKiFn_NDh1",
        "outputId": "a1a5723f-1a8d-444b-9506-1b4d1728eb6f"
      },
      "execution_count": null,
      "outputs": [
        {
          "output_type": "stream",
          "name": "stdout",
          "text": [
            "1\n",
            "2\n",
            "3\n",
            "4\n",
            "5\n"
          ]
        }
      ]
    },
    {
      "cell_type": "code",
      "source": [
        "# range(stop): iteration을 할 때마다 0 <= x < stop 범위의 1씩 증가하는 정수를 생성함.\n",
        "for x in range (5):\n",
        "    print(x)"
      ],
      "metadata": {
        "colab": {
          "base_uri": "https://localhost:8080/"
        },
        "id": "sKAHaVemOneW",
        "outputId": "3017c281-3522-420e-d1fc-d2181866641b"
      },
      "execution_count": null,
      "outputs": [
        {
          "output_type": "stream",
          "name": "stdout",
          "text": [
            "0\n",
            "1\n",
            "2\n",
            "3\n",
            "4\n"
          ]
        }
      ]
    },
    {
      "cell_type": "code",
      "source": [
        "# range(start, stop, step): step이 양수인 경우, start <= x < stop 범위의 step 만큼씩 증가하는 정수를 생성함.\n",
        "for x in range(0, 10, 2):\n",
        "    print(x)"
      ],
      "metadata": {
        "colab": {
          "base_uri": "https://localhost:8080/"
        },
        "id": "Tjq-rd1xPbXH",
        "outputId": "7813d1bc-1c7d-47f3-b1d0-37aabcb5a8bb"
      },
      "execution_count": null,
      "outputs": [
        {
          "output_type": "stream",
          "name": "stdout",
          "text": [
            "0\n",
            "2\n",
            "4\n",
            "6\n",
            "8\n"
          ]
        }
      ]
    },
    {
      "cell_type": "code",
      "source": [
        "# range(start, stop, step): step이 음수인 경우, start >= x > stop\n",
        "for x in range(5,0,-1):\n",
        "    print(x)"
      ],
      "metadata": {
        "colab": {
          "base_uri": "https://localhost:8080/"
        },
        "id": "nILcDgX_QQFH",
        "outputId": "38cf761e-27ab-40bd-f60f-63cea760682e"
      },
      "execution_count": null,
      "outputs": [
        {
          "output_type": "stream",
          "name": "stdout",
          "text": [
            "5\n",
            "4\n",
            "3\n",
            "2\n",
            "1\n"
          ]
        }
      ]
    },
    {
      "cell_type": "markdown",
      "source": [
        "1 이상 10 미만의 홀수들을 내림차순으로 출력: 9 7 5 3 1"
      ],
      "metadata": {
        "id": "Au346yoYREtf"
      }
    },
    {
      "cell_type": "code",
      "source": [
        "for x in range(9,0,-2):\n",
        "    print(x)"
      ],
      "metadata": {
        "colab": {
          "base_uri": "https://localhost:8080/"
        },
        "id": "HTXbuWKYRKDn",
        "outputId": "d5800ffe-9a61-46b8-ec9a-4823f093ea9e"
      },
      "execution_count": null,
      "outputs": [
        {
          "output_type": "stream",
          "name": "stdout",
          "text": [
            "9\n",
            "7\n",
            "5\n",
            "3\n",
            "1\n"
          ]
        }
      ]
    },
    {
      "cell_type": "markdown",
      "source": [
        "아래와 같이 출력하세요.\n",
        "```\n",
        "*\n",
        "**\n",
        "***\n",
        "****\n",
        "*****\n",
        "```"
      ],
      "metadata": {
        "id": "oC7gs_fIRx1P"
      }
    },
    {
      "cell_type": "code",
      "source": [
        "for x in range(1,6):\n",
        "    print ('*' * x)"
      ],
      "metadata": {
        "colab": {
          "base_uri": "https://localhost:8080/"
        },
        "id": "R5ml1GymR6Qf",
        "outputId": "db3b65f4-bae2-4f31-91c7-21df6405afba"
      },
      "execution_count": null,
      "outputs": [
        {
          "output_type": "stream",
          "name": "stdout",
          "text": [
            "*\n",
            "**\n",
            "***\n",
            "****\n",
            "*****\n"
          ]
        }
      ]
    },
    {
      "cell_type": "markdown",
      "source": [
        "아래와 같이 출력하세요.\n",
        "```\n",
        "*****\n",
        "****\n",
        "***\n",
        "**\n",
        "*\n",
        "```"
      ],
      "metadata": {
        "id": "xw8rmNvyOmce"
      }
    },
    {
      "cell_type": "code",
      "source": [
        "for x in range(5,0,-1):\n",
        "    print ('*' * x)"
      ],
      "metadata": {
        "colab": {
          "base_uri": "https://localhost:8080/"
        },
        "id": "VtOa5qZQST1A",
        "outputId": "f00e1194-fba6-43f3-c3c5-5cd906dcb07e"
      },
      "execution_count": null,
      "outputs": [
        {
          "output_type": "stream",
          "name": "stdout",
          "text": [
            "*****\n",
            "****\n",
            "***\n",
            "**\n",
            "*\n"
          ]
        }
      ]
    },
    {
      "cell_type": "markdown",
      "source": [
        "## 중첩 for문"
      ],
      "metadata": {
        "id": "wgzQRTmmXM8K"
      }
    },
    {
      "cell_type": "code",
      "source": [
        "for x in range(2,10,1):\n",
        "    for y in range(1,10,1):\n",
        "        print(f'{x} x {y} = {x*y}')\n",
        "        if y == 9:\n",
        "            print('------------')"
      ],
      "metadata": {
        "colab": {
          "base_uri": "https://localhost:8080/"
        },
        "id": "EKAWcO9cXKYK",
        "outputId": "b71ba52f-3538-4970-b626-dbe94ac77f24"
      },
      "execution_count": null,
      "outputs": [
        {
          "output_type": "stream",
          "name": "stdout",
          "text": [
            "2 x 1 = 2\n",
            "2 x 2 = 4\n",
            "2 x 3 = 6\n",
            "2 x 4 = 8\n",
            "2 x 5 = 10\n",
            "2 x 6 = 12\n",
            "2 x 7 = 14\n",
            "2 x 8 = 16\n",
            "2 x 9 = 18\n",
            "------------\n",
            "3 x 1 = 3\n",
            "3 x 2 = 6\n",
            "3 x 3 = 9\n",
            "3 x 4 = 12\n",
            "3 x 5 = 15\n",
            "3 x 6 = 18\n",
            "3 x 7 = 21\n",
            "3 x 8 = 24\n",
            "3 x 9 = 27\n",
            "------------\n",
            "4 x 1 = 4\n",
            "4 x 2 = 8\n",
            "4 x 3 = 12\n",
            "4 x 4 = 16\n",
            "4 x 5 = 20\n",
            "4 x 6 = 24\n",
            "4 x 7 = 28\n",
            "4 x 8 = 32\n",
            "4 x 9 = 36\n",
            "------------\n",
            "5 x 1 = 5\n",
            "5 x 2 = 10\n",
            "5 x 3 = 15\n",
            "5 x 4 = 20\n",
            "5 x 5 = 25\n",
            "5 x 6 = 30\n",
            "5 x 7 = 35\n",
            "5 x 8 = 40\n",
            "5 x 9 = 45\n",
            "------------\n",
            "6 x 1 = 6\n",
            "6 x 2 = 12\n",
            "6 x 3 = 18\n",
            "6 x 4 = 24\n",
            "6 x 5 = 30\n",
            "6 x 6 = 36\n",
            "6 x 7 = 42\n",
            "6 x 8 = 48\n",
            "6 x 9 = 54\n",
            "------------\n",
            "7 x 1 = 7\n",
            "7 x 2 = 14\n",
            "7 x 3 = 21\n",
            "7 x 4 = 28\n",
            "7 x 5 = 35\n",
            "7 x 6 = 42\n",
            "7 x 7 = 49\n",
            "7 x 8 = 56\n",
            "7 x 9 = 63\n",
            "------------\n",
            "8 x 1 = 8\n",
            "8 x 2 = 16\n",
            "8 x 3 = 24\n",
            "8 x 4 = 32\n",
            "8 x 5 = 40\n",
            "8 x 6 = 48\n",
            "8 x 7 = 56\n",
            "8 x 8 = 64\n",
            "8 x 9 = 72\n",
            "------------\n",
            "9 x 1 = 9\n",
            "9 x 2 = 18\n",
            "9 x 3 = 27\n",
            "9 x 4 = 36\n",
            "9 x 5 = 45\n",
            "9 x 6 = 54\n",
            "9 x 7 = 63\n",
            "9 x 8 = 72\n",
            "9 x 9 = 81\n",
            "------------\n"
          ]
        }
      ]
    },
    {
      "cell_type": "code",
      "source": [
        "# 강사님이 작성하신 code\n",
        "for x in range(1,10):\n",
        "    print(f'---- {x}단 ----')\n",
        "    for y in range(1,10):\n",
        "        print(f'{x} x {y} = {x * y}')"
      ],
      "metadata": {
        "colab": {
          "base_uri": "https://localhost:8080/"
        },
        "collapsed": true,
        "id": "S8aCUPapYGTb",
        "outputId": "39c63142-8449-46a4-f3d5-efc6a96b4f88"
      },
      "execution_count": null,
      "outputs": [
        {
          "output_type": "stream",
          "name": "stdout",
          "text": [
            "---- 1단 ----\n",
            "1 x 1 = 1\n",
            "1 x 2 = 2\n",
            "1 x 3 = 3\n",
            "1 x 4 = 4\n",
            "1 x 5 = 5\n",
            "1 x 6 = 6\n",
            "1 x 7 = 7\n",
            "1 x 8 = 8\n",
            "1 x 9 = 9\n",
            "---- 2단 ----\n",
            "2 x 1 = 2\n",
            "2 x 2 = 4\n",
            "2 x 3 = 6\n",
            "2 x 4 = 8\n",
            "2 x 5 = 10\n",
            "2 x 6 = 12\n",
            "2 x 7 = 14\n",
            "2 x 8 = 16\n",
            "2 x 9 = 18\n",
            "---- 3단 ----\n",
            "3 x 1 = 3\n",
            "3 x 2 = 6\n",
            "3 x 3 = 9\n",
            "3 x 4 = 12\n",
            "3 x 5 = 15\n",
            "3 x 6 = 18\n",
            "3 x 7 = 21\n",
            "3 x 8 = 24\n",
            "3 x 9 = 27\n",
            "---- 4단 ----\n",
            "4 x 1 = 4\n",
            "4 x 2 = 8\n",
            "4 x 3 = 12\n",
            "4 x 4 = 16\n",
            "4 x 5 = 20\n",
            "4 x 6 = 24\n",
            "4 x 7 = 28\n",
            "4 x 8 = 32\n",
            "4 x 9 = 36\n",
            "---- 5단 ----\n",
            "5 x 1 = 5\n",
            "5 x 2 = 10\n",
            "5 x 3 = 15\n",
            "5 x 4 = 20\n",
            "5 x 5 = 25\n",
            "5 x 6 = 30\n",
            "5 x 7 = 35\n",
            "5 x 8 = 40\n",
            "5 x 9 = 45\n",
            "---- 6단 ----\n",
            "6 x 1 = 6\n",
            "6 x 2 = 12\n",
            "6 x 3 = 18\n",
            "6 x 4 = 24\n",
            "6 x 5 = 30\n",
            "6 x 6 = 36\n",
            "6 x 7 = 42\n",
            "6 x 8 = 48\n",
            "6 x 9 = 54\n",
            "---- 7단 ----\n",
            "7 x 1 = 7\n",
            "7 x 2 = 14\n",
            "7 x 3 = 21\n",
            "7 x 4 = 28\n",
            "7 x 5 = 35\n",
            "7 x 6 = 42\n",
            "7 x 7 = 49\n",
            "7 x 8 = 56\n",
            "7 x 9 = 63\n",
            "---- 8단 ----\n",
            "8 x 1 = 8\n",
            "8 x 2 = 16\n",
            "8 x 3 = 24\n",
            "8 x 4 = 32\n",
            "8 x 5 = 40\n",
            "8 x 6 = 48\n",
            "8 x 7 = 56\n",
            "8 x 8 = 64\n",
            "8 x 9 = 72\n",
            "---- 9단 ----\n",
            "9 x 1 = 9\n",
            "9 x 2 = 18\n",
            "9 x 3 = 27\n",
            "9 x 4 = 36\n",
            "9 x 5 = 45\n",
            "9 x 6 = 54\n",
            "9 x 7 = 63\n",
            "9 x 8 = 72\n",
            "9 x 9 = 81\n"
          ]
        }
      ]
    },
    {
      "cell_type": "markdown",
      "source": [
        "## break, continue"
      ],
      "metadata": {
        "id": "Xvfb9rgBZS2r"
      }
    },
    {
      "cell_type": "markdown",
      "source": [
        "* `break` : iteration을 종료.\n",
        "* `continue` : 그 다음 iteratin을 종료."
      ],
      "metadata": {
        "id": "y7bgqkwSZRJz"
      }
    },
    {
      "cell_type": "code",
      "source": [
        "for x in range(1,6):\n",
        "    if x == 3:\n",
        "        break\n",
        "    print(x)"
      ],
      "metadata": {
        "colab": {
          "base_uri": "https://localhost:8080/"
        },
        "id": "p6WYBDdpZQo7",
        "outputId": "83221288-c851-44c7-e57e-17c09ac27f5e"
      },
      "execution_count": null,
      "outputs": [
        {
          "output_type": "stream",
          "name": "stdout",
          "text": [
            "1\n",
            "2\n"
          ]
        }
      ]
    },
    {
      "cell_type": "code",
      "source": [
        "for x in range(1, 6):\n",
        "    if x == 3:\n",
        "        continue\n",
        "    print(x)"
      ],
      "metadata": {
        "colab": {
          "base_uri": "https://localhost:8080/"
        },
        "id": "_Goy2_2UaVLD",
        "outputId": "d2b4c113-df10-4c4b-c0f3-aef5a3aa3713"
      },
      "execution_count": null,
      "outputs": [
        {
          "output_type": "stream",
          "name": "stdout",
          "text": [
            "1\n",
            "2\n",
            "4\n",
            "5\n"
          ]
        }
      ]
    },
    {
      "cell_type": "markdown",
      "source": [
        "구구단을 출력할 때 1단은 1 x 1까지, 2단은 2 x 2까지, 3단은 3 x 3까지, ... , 9단은 9 x 9까지 출력하세요.\n",
        "* break 문장을 사용\n",
        "* break 문장을 사용하지 않는 방법"
      ],
      "metadata": {
        "id": "qWBVk9SIbLND"
      }
    },
    {
      "cell_type": "code",
      "source": [
        "# break 문장을 사용\n",
        "\n",
        "for x in range(1,10):\n",
        "    for y in range(1,10):\n",
        "        print(f'{x} x {y} = {x * y}')\n",
        "        if x == y:\n",
        "            print(f'-----------')\n",
        "            break"
      ],
      "metadata": {
        "colab": {
          "base_uri": "https://localhost:8080/"
        },
        "collapsed": true,
        "id": "tjfNSbB_bdkM",
        "outputId": "05cc43a5-69a4-41fb-b18b-c5cb02d6997c"
      },
      "execution_count": null,
      "outputs": [
        {
          "output_type": "stream",
          "name": "stdout",
          "text": [
            "2 x 1 = 2\n",
            "2 x 2 = 4\n",
            "-----------\n",
            "3 x 1 = 3\n",
            "3 x 2 = 6\n",
            "3 x 3 = 9\n",
            "-----------\n",
            "4 x 1 = 4\n",
            "4 x 2 = 8\n",
            "4 x 3 = 12\n",
            "4 x 4 = 16\n",
            "-----------\n",
            "5 x 1 = 5\n",
            "5 x 2 = 10\n",
            "5 x 3 = 15\n",
            "5 x 4 = 20\n",
            "5 x 5 = 25\n",
            "-----------\n",
            "6 x 1 = 6\n",
            "6 x 2 = 12\n",
            "6 x 3 = 18\n",
            "6 x 4 = 24\n",
            "6 x 5 = 30\n",
            "6 x 6 = 36\n",
            "-----------\n",
            "7 x 1 = 7\n",
            "7 x 2 = 14\n",
            "7 x 3 = 21\n",
            "7 x 4 = 28\n",
            "7 x 5 = 35\n",
            "7 x 6 = 42\n",
            "7 x 7 = 49\n",
            "-----------\n",
            "8 x 1 = 8\n",
            "8 x 2 = 16\n",
            "8 x 3 = 24\n",
            "8 x 4 = 32\n",
            "8 x 5 = 40\n",
            "8 x 6 = 48\n",
            "8 x 7 = 56\n",
            "8 x 8 = 64\n",
            "-----------\n",
            "9 x 1 = 9\n",
            "9 x 2 = 18\n",
            "9 x 3 = 27\n",
            "9 x 4 = 36\n",
            "9 x 5 = 45\n",
            "9 x 6 = 54\n",
            "9 x 7 = 63\n",
            "9 x 8 = 72\n",
            "9 x 9 = 81\n",
            "-----------\n"
          ]
        }
      ]
    },
    {
      "cell_type": "code",
      "source": [
        "# break 문장을 사용하지 않는 방법\n",
        "\n",
        "for x in range(1,10):\n",
        "        for y in range(1,x+1):\n",
        "            print(f'{x} x {y} = {x * y}')\n",
        "        print(f'-----------')"
      ],
      "metadata": {
        "colab": {
          "base_uri": "https://localhost:8080/"
        },
        "collapsed": true,
        "id": "d0qgTNJ_b90l",
        "outputId": "0d67bf6b-5b78-46ae-8892-4cca46c41f70"
      },
      "execution_count": null,
      "outputs": [
        {
          "output_type": "stream",
          "name": "stdout",
          "text": [
            "1 x 1 = 1\n",
            "-----------\n",
            "2 x 1 = 2\n",
            "2 x 2 = 4\n",
            "-----------\n",
            "3 x 1 = 3\n",
            "3 x 2 = 6\n",
            "3 x 3 = 9\n",
            "-----------\n",
            "4 x 1 = 4\n",
            "4 x 2 = 8\n",
            "4 x 3 = 12\n",
            "4 x 4 = 16\n",
            "-----------\n",
            "5 x 1 = 5\n",
            "5 x 2 = 10\n",
            "5 x 3 = 15\n",
            "5 x 4 = 20\n",
            "5 x 5 = 25\n",
            "-----------\n",
            "6 x 1 = 6\n",
            "6 x 2 = 12\n",
            "6 x 3 = 18\n",
            "6 x 4 = 24\n",
            "6 x 5 = 30\n",
            "6 x 6 = 36\n",
            "-----------\n",
            "7 x 1 = 7\n",
            "7 x 2 = 14\n",
            "7 x 3 = 21\n",
            "7 x 4 = 28\n",
            "7 x 5 = 35\n",
            "7 x 6 = 42\n",
            "7 x 7 = 49\n",
            "-----------\n",
            "8 x 1 = 8\n",
            "8 x 2 = 16\n",
            "8 x 3 = 24\n",
            "8 x 4 = 32\n",
            "8 x 5 = 40\n",
            "8 x 6 = 48\n",
            "8 x 7 = 56\n",
            "8 x 8 = 64\n",
            "-----------\n",
            "9 x 1 = 9\n",
            "9 x 2 = 18\n",
            "9 x 3 = 27\n",
            "9 x 4 = 36\n",
            "9 x 5 = 45\n",
            "9 x 6 = 54\n",
            "9 x 7 = 63\n",
            "9 x 8 = 72\n",
            "9 x 9 = 81\n",
            "-----------\n"
          ]
        }
      ]
    },
    {
      "cell_type": "markdown",
      "source": [
        "1부터 10(포함)까지 정수들을 한 줄에 출력"
      ],
      "metadata": {
        "id": "N1o0FKMje_Tm"
      }
    },
    {
      "cell_type": "code",
      "source": [
        "for x in range(1, 11):\n",
        "    print(x, end = '\\t')"
      ],
      "metadata": {
        "colab": {
          "base_uri": "https://localhost:8080/"
        },
        "id": "FsQKKZtzfD19",
        "outputId": "891fb6b5-eda1-45ba-c818-01a7bf8a82db"
      },
      "execution_count": null,
      "outputs": [
        {
          "output_type": "stream",
          "name": "stdout",
          "text": [
            "1\t2\t3\t4\t5\t6\t7\t8\t9\t10\t"
          ]
        }
      ]
    },
    {
      "cell_type": "markdown",
      "source": [
        "# 연습문제"
      ],
      "metadata": {
        "id": "OcZVyreJxJZu"
      }
    },
    {
      "cell_type": "markdown",
      "source": [
        "## 1.\n",
        "\n",
        "```\n",
        "1 little 2 little 3 little indian\n",
        "4 little 5 little 6 little indian\n",
        "7 little 8 little 9 little indian\n",
        "10 little indian boys!\n",
        "```"
      ],
      "metadata": {
        "id": "L8dFLOXKxMO2"
      }
    },
    {
      "cell_type": "code",
      "source": [
        "for x in range(1,11):\n",
        "    if x % 3 == 0:\n",
        "        print(x, 'little indian', end = '\\n')\n",
        "    else:\n",
        "        print(x, 'little', end = ' ')\n",
        "print('indian boys!')"
      ],
      "metadata": {
        "colab": {
          "base_uri": "https://localhost:8080/"
        },
        "id": "pvTxC8RxxHtu",
        "outputId": "16dfc6ec-d4fe-4d68-bf1e-d5200f0f69d7"
      },
      "execution_count": null,
      "outputs": [
        {
          "output_type": "stream",
          "name": "stdout",
          "text": [
            "1 little 2 little 3 little indian\n",
            "4 little 5 little 6 little indian\n",
            "7 little 8 little 9 little indian\n",
            "10 little indian boys!\n"
          ]
        }
      ]
    },
    {
      "cell_type": "markdown",
      "source": [
        "## 2.\n",
        "```\n",
        "1 2 * 4 5 * 7 8 * 10\n",
        "...\n",
        "...\n",
        "* * * * * * * * * 100\n",
        "```"
      ],
      "metadata": {
        "id": "BCPbk2M9xZwW"
      }
    },
    {
      "cell_type": "code",
      "source": [
        "# 직접 작성\n",
        "\n",
        "for x in range(1,101):\n",
        "    if x <10:\n",
        "        if x % 3 == 0:\n",
        "            print('*', end = '  ')\n",
        "        else:\n",
        "            print(x, end = '  ')\n",
        "    elif x % 10 == 3 or x % 10 == 6 or x % 10 == 9:\n",
        "        print('*', end = '  ')\n",
        "    elif x % 30 == 0:\n",
        "        print('*', end = '\\n')\n",
        "    elif x % 30 <= 9:\n",
        "        print('*', end = '  ')\n",
        "    elif x % 10 == 0:\n",
        "        print(x, end = '\\n')\n",
        "    else:\n",
        "        print(x, end = ' ')"
      ],
      "metadata": {
        "colab": {
          "base_uri": "https://localhost:8080/"
        },
        "id": "dTUpTadOxnc3",
        "outputId": "b90fdf69-c42a-44af-958e-4bb151a3d364"
      },
      "execution_count": null,
      "outputs": [
        {
          "output_type": "stream",
          "name": "stdout",
          "text": [
            "1  2  *  4  5  *  7  8  *  10\n",
            "11 12 *  14 15 *  17 18 *  20\n",
            "21 22 *  24 25 *  27 28 *  *\n",
            "*  *  *  *  *  *  *  *  *  40\n",
            "41 42 *  44 45 *  47 48 *  50\n",
            "51 52 *  54 55 *  57 58 *  *\n",
            "*  *  *  *  *  *  *  *  *  70\n",
            "71 72 *  74 75 *  77 78 *  80\n",
            "81 82 *  84 85 *  87 88 *  *\n",
            "*  *  *  *  *  *  *  *  *  100\n"
          ]
        }
      ]
    },
    {
      "cell_type": "code",
      "source": [
        "# 옆 자리 분 수정\n",
        "for x in range(1,101):\n",
        "    if x % 10 == 3 or x % 10 == 6 or x % 10 == 9:\n",
        "        print('*',end =' ')\n",
        "    elif x >10 and x % 30 <= 9:\n",
        "        if x % 30 == 0:\n",
        "            print('*', end='\\n')\n",
        "        else:\n",
        "            print('* ', end =' ')\n",
        "    elif x % 10 == 0:\n",
        "        print(x)\n",
        "    else:\n",
        "        print(x,end=' ')"
      ],
      "metadata": {
        "colab": {
          "base_uri": "https://localhost:8080/"
        },
        "id": "A2S-zwkn-NUN",
        "outputId": "c4caf364-540a-40d9-837e-a98c2577a208"
      },
      "execution_count": null,
      "outputs": [
        {
          "output_type": "stream",
          "name": "stdout",
          "text": [
            "1 2 * 4 5 * 7 8 * 10\n",
            "11 12 * 14 15 * 17 18 * 20\n",
            "21 22 * 24 25 * 27 28 * *\n",
            "*  *  * *  *  * *  *  * 40\n",
            "41 42 * 44 45 * 47 48 * 50\n",
            "51 52 * 54 55 * 57 58 * *\n",
            "*  *  * *  *  * *  *  * 70\n",
            "71 72 * 74 75 * 77 78 * 80\n",
            "81 82 * 84 85 * 87 88 * *\n",
            "*  *  * *  *  * *  *  * 100\n"
          ]
        }
      ]
    },
    {
      "cell_type": "code",
      "source": [
        "# 강사님 code\n",
        "\n",
        "for n in range (1, 101):\n",
        "    n_1 = n % 10 # 숫자 n을 10으로 나눈 나머지 -> 일의 자릿수\n",
        "    n_10 = n // 10 # 숫자 n을 10으로 나눈 몫 -> 십의 자릿수\n",
        "    condition1 = n_1 == 3 or n_1 == 6 or n_1 == 9\n",
        "    condition2 = n_10 == 3 or n_10 == 6 or n_10 == 9\n",
        "    if condition1 or condition2:\n",
        "        print('*', end='\\t')\n",
        "    else:\n",
        "        print(n, end='\\t')\n",
        "    if n % 10 == 0:\n",
        "        print() # 줄바꿈"
      ],
      "metadata": {
        "colab": {
          "base_uri": "https://localhost:8080/"
        },
        "id": "RzRkNt7PBuC9",
        "outputId": "041a9664-730c-4169-8c6f-b5fb0453bcbf"
      },
      "execution_count": null,
      "outputs": [
        {
          "output_type": "stream",
          "name": "stdout",
          "text": [
            "1\t2\t*\t4\t5\t*\t7\t8\t*\t10\t\n",
            "11\t12\t*\t14\t15\t*\t17\t18\t*\t20\t\n",
            "21\t22\t*\t24\t25\t*\t27\t28\t*\t*\t\n",
            "*\t*\t*\t*\t*\t*\t*\t*\t*\t40\t\n",
            "41\t42\t*\t44\t45\t*\t47\t48\t*\t50\t\n",
            "51\t52\t*\t54\t55\t*\t57\t58\t*\t*\t\n",
            "*\t*\t*\t*\t*\t*\t*\t*\t*\t70\t\n",
            "71\t72\t*\t74\t75\t*\t77\t78\t*\t80\t\n",
            "81\t82\t*\t84\t85\t*\t87\t88\t*\t*\t\n",
            "*\t*\t*\t*\t*\t*\t*\t*\t*\t100\t\n"
          ]
        }
      ]
    },
    {
      "cell_type": "code",
      "source": [
        "# 강사님 code 2\n",
        "\n",
        "for  n in range(1, 101):\n",
        "    n_1 = n % 10 # 일의 자릿수\n",
        "    n_10 = n // 10 # 십의 자릿수\n",
        "    if n_1 != 0 and n_1 % 3 == 0 or (n_10 != 0 and n_10 % 3 == 0):\n",
        "        print('*', end= '\\t')\n",
        "    else:\n",
        "        print(n, end = '\\t')\n",
        "    if n % 10 == 0:\n",
        "        print()"
      ],
      "metadata": {
        "colab": {
          "base_uri": "https://localhost:8080/"
        },
        "id": "L0huynGjGbCf",
        "outputId": "ca0055bc-61fc-418c-b857-61b086e2e329"
      },
      "execution_count": null,
      "outputs": [
        {
          "output_type": "stream",
          "name": "stdout",
          "text": [
            "1\t2\t*\t4\t5\t*\t7\t8\t*\t10\t\n",
            "11\t12\t*\t14\t15\t*\t17\t18\t*\t20\t\n",
            "21\t22\t*\t24\t25\t*\t27\t28\t*\t*\t\n",
            "*\t*\t*\t*\t*\t*\t*\t*\t*\t40\t\n",
            "41\t42\t*\t44\t45\t*\t47\t48\t*\t50\t\n",
            "51\t52\t*\t54\t55\t*\t57\t58\t*\t*\t\n",
            "*\t*\t*\t*\t*\t*\t*\t*\t*\t70\t\n",
            "71\t72\t*\t74\t75\t*\t77\t78\t*\t80\t\n",
            "81\t82\t*\t84\t85\t*\t87\t88\t*\t*\t\n",
            "*\t*\t*\t*\t*\t*\t*\t*\t*\t100\t\n"
          ]
        }
      ]
    },
    {
      "cell_type": "markdown",
      "source": [
        "`in` 연산자 : 배열과 유사한 객채에 원소로 포함되는 지 여부를 알려주는 연산자."
      ],
      "metadata": {
        "id": "VVGTeHAtJDCh"
      }
    },
    {
      "cell_type": "code",
      "source": [
        "5 in range(1, 11)"
      ],
      "metadata": {
        "colab": {
          "base_uri": "https://localhost:8080/"
        },
        "id": "kP1cMeICJvEB",
        "outputId": "a94eaa16-9ff6-44d1-cb96-accbc8479d36"
      },
      "execution_count": null,
      "outputs": [
        {
          "output_type": "execute_result",
          "data": {
            "text/plain": [
              "True"
            ]
          },
          "metadata": {},
          "execution_count": 91
        }
      ]
    },
    {
      "cell_type": "code",
      "source": [
        "11 in range(1, 11)"
      ],
      "metadata": {
        "colab": {
          "base_uri": "https://localhost:8080/"
        },
        "id": "GZKUV9HdJ0FQ",
        "outputId": "e091c815-ffec-4265-e313-82d0d77c37ad"
      },
      "execution_count": null,
      "outputs": [
        {
          "output_type": "execute_result",
          "data": {
            "text/plain": [
              "False"
            ]
          },
          "metadata": {},
          "execution_count": 92
        }
      ]
    },
    {
      "cell_type": "code",
      "source": [
        "'h' in 'hello'"
      ],
      "metadata": {
        "colab": {
          "base_uri": "https://localhost:8080/"
        },
        "id": "GTgkWgfaJ2t4",
        "outputId": "9332414d-49b8-4a69-a7d0-02a095851a03"
      },
      "execution_count": null,
      "outputs": [
        {
          "output_type": "execute_result",
          "data": {
            "text/plain": [
              "True"
            ]
          },
          "metadata": {},
          "execution_count": 93
        }
      ]
    },
    {
      "cell_type": "code",
      "source": [
        "'H' in 'hello'"
      ],
      "metadata": {
        "colab": {
          "base_uri": "https://localhost:8080/"
        },
        "id": "_pghu_vJJ6LQ",
        "outputId": "c3795ade-481e-4ef2-84e4-018203a918b4"
      },
      "execution_count": null,
      "outputs": [
        {
          "output_type": "execute_result",
          "data": {
            "text/plain": [
              "False"
            ]
          },
          "metadata": {},
          "execution_count": 94
        }
      ]
    },
    {
      "cell_type": "code",
      "source": [
        "3 in (3, 6, 9)"
      ],
      "metadata": {
        "colab": {
          "base_uri": "https://localhost:8080/"
        },
        "id": "ORvATa5cKNNp",
        "outputId": "f8db7c76-a13d-49b9-b10f-69e61571817b"
      },
      "execution_count": null,
      "outputs": [
        {
          "output_type": "execute_result",
          "data": {
            "text/plain": [
              "True"
            ]
          },
          "metadata": {},
          "execution_count": 95
        }
      ]
    },
    {
      "cell_type": "code",
      "source": [
        "5 in (3, 6, 9)"
      ],
      "metadata": {
        "colab": {
          "base_uri": "https://localhost:8080/"
        },
        "id": "eezcBBtZKjxA",
        "outputId": "9be4a5bc-1e7d-4c90-8c52-a039b7b34b2d"
      },
      "execution_count": null,
      "outputs": [
        {
          "output_type": "execute_result",
          "data": {
            "text/plain": [
              "False"
            ]
          },
          "metadata": {},
          "execution_count": 96
        }
      ]
    },
    {
      "cell_type": "code",
      "source": [
        "for n in range(1, 101):\n",
        "    n_1 = n % 10\n",
        "    n_10 = n // 10\n",
        "    if n_1 in (3, 6, 9) or n_10 in (3, 6, 9):\n",
        "        print('*', end = '\\t')\n",
        "    else:\n",
        "        print(n, end = '\\t')\n",
        "    if n_1 == 0:\n",
        "        print()"
      ],
      "metadata": {
        "colab": {
          "base_uri": "https://localhost:8080/"
        },
        "id": "1dCplheWKm8Z",
        "outputId": "7aebf50e-647d-447c-ac76-da4e94000bce"
      },
      "execution_count": null,
      "outputs": [
        {
          "output_type": "stream",
          "name": "stdout",
          "text": [
            "1\t2\t*\t4\t5\t*\t7\t8\t*\t10\t\n",
            "11\t12\t*\t14\t15\t*\t17\t18\t*\t20\t\n",
            "21\t22\t*\t24\t25\t*\t27\t28\t*\t*\t\n",
            "*\t*\t*\t*\t*\t*\t*\t*\t*\t40\t\n",
            "41\t42\t*\t44\t45\t*\t47\t48\t*\t50\t\n",
            "51\t52\t*\t54\t55\t*\t57\t58\t*\t*\t\n",
            "*\t*\t*\t*\t*\t*\t*\t*\t*\t70\t\n",
            "71\t72\t*\t74\t75\t*\t77\t78\t*\t80\t\n",
            "81\t82\t*\t84\t85\t*\t87\t88\t*\t*\t\n",
            "*\t*\t*\t*\t*\t*\t*\t*\t*\t100\t\n"
          ]
        }
      ]
    },
    {
      "cell_type": "code",
      "source": [
        "for n in range(1, 101):\n",
        "    n_str = str(n)\n",
        "    if ('3' in n_str) or ('6' in n_str) or ('9' in n_str):\n",
        "        print('*', end = '\\t')\n",
        "    else:\n",
        "        print(n, end ='\\t')\n",
        "    if n % 10 == 0:\n",
        "        print()"
      ],
      "metadata": {
        "id": "4_iwVZB-Lp7p"
      },
      "execution_count": null,
      "outputs": []
    }
  ]
}