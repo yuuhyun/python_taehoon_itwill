{
  "nbformat": 4,
  "nbformat_minor": 0,
  "metadata": {
    "colab": {
      "provenance": [],
      "authorship_tag": "ABX9TyOxkHYYIm/prRQwls6B04dB",
      "include_colab_link": true
    },
    "kernelspec": {
      "name": "python3",
      "display_name": "Python 3"
    },
    "language_info": {
      "name": "python"
    }
  },
  "cells": [
    {
      "cell_type": "markdown",
      "metadata": {
        "id": "view-in-github",
        "colab_type": "text"
      },
      "source": [
        "<a href=\"https://colab.research.google.com/github/yuuhyun/python_taehoon_itwill/blob/main/20250428_python13.ipynb\" target=\"_parent\"><img src=\"https://colab.research.google.com/assets/colab-badge.svg\" alt=\"Open In Colab\"/></a>"
      ]
    },
    {
      "cell_type": "markdown",
      "source": [
        "# 객체지향 프로그래밍 배경"
      ],
      "metadata": {
        "id": "KP0cI6Ejv8Sd"
      }
    },
    {
      "cell_type": "code",
      "execution_count": null,
      "metadata": {
        "id": "oIGfYMs6vRH5"
      },
      "outputs": [],
      "source": [
        "students = [\n",
        "    {'name' : '홍길동' , 'korean' : 90, 'english' : 80, 'math' : 70},\n",
        "    {'name' : '오쌤' , 'korean' : 77, 'english' : 66, 'math' : 80},\n",
        "    {'name' : 'Scott' , 'korean' : 50, 'english' : 100, 'math' : 95}\n",
        "]"
      ]
    },
    {
      "cell_type": "code",
      "source": [
        "from os import name\n",
        "# 이름, 총점, 평균을 출력.\n",
        "for k in students:\n",
        "    name = [k.get('name')]\n",
        "    korean = k.get('korean')\n",
        "    english = k.get('english')\n",
        "    math = k.get('math')\n",
        "    total = [korean + english + math]\n",
        "    avg = [total / 3]\n",
        "print(name)\n",
        "\n",
        "print(total)\n",
        "\n",
        "print(avg)"
      ],
      "metadata": {
        "colab": {
          "base_uri": "https://localhost:8080/",
          "height": 221
        },
        "id": "_V4DQfLkxSKG",
        "outputId": "ad080286-6cc3-4c06-9516-7d2afe0d3a9d"
      },
      "execution_count": null,
      "outputs": [
        {
          "output_type": "error",
          "ename": "TypeError",
          "evalue": "unsupported operand type(s) for /: 'list' and 'int'",
          "traceback": [
            "\u001b[0;31m---------------------------------------------------------------------------\u001b[0m",
            "\u001b[0;31mTypeError\u001b[0m                                 Traceback (most recent call last)",
            "\u001b[0;32m<ipython-input-6-07b3e849c6a3>\u001b[0m in \u001b[0;36m<cell line: 0>\u001b[0;34m()\u001b[0m\n\u001b[1;32m      7\u001b[0m     \u001b[0mmath\u001b[0m \u001b[0;34m=\u001b[0m \u001b[0mk\u001b[0m\u001b[0;34m.\u001b[0m\u001b[0mget\u001b[0m\u001b[0;34m(\u001b[0m\u001b[0;34m'math'\u001b[0m\u001b[0;34m)\u001b[0m\u001b[0;34m\u001b[0m\u001b[0;34m\u001b[0m\u001b[0m\n\u001b[1;32m      8\u001b[0m     \u001b[0mtotal\u001b[0m \u001b[0;34m=\u001b[0m \u001b[0;34m[\u001b[0m\u001b[0mkorean\u001b[0m \u001b[0;34m+\u001b[0m \u001b[0menglish\u001b[0m \u001b[0;34m+\u001b[0m \u001b[0mmath\u001b[0m\u001b[0;34m]\u001b[0m\u001b[0;34m\u001b[0m\u001b[0;34m\u001b[0m\u001b[0m\n\u001b[0;32m----> 9\u001b[0;31m     \u001b[0mavg\u001b[0m \u001b[0;34m=\u001b[0m \u001b[0;34m[\u001b[0m\u001b[0mtotal\u001b[0m \u001b[0;34m/\u001b[0m \u001b[0;36m3\u001b[0m\u001b[0;34m]\u001b[0m\u001b[0;34m\u001b[0m\u001b[0;34m\u001b[0m\u001b[0m\n\u001b[0m\u001b[1;32m     10\u001b[0m \u001b[0mprint\u001b[0m\u001b[0;34m(\u001b[0m\u001b[0mname\u001b[0m\u001b[0;34m)\u001b[0m\u001b[0;34m\u001b[0m\u001b[0;34m\u001b[0m\u001b[0m\n\u001b[1;32m     11\u001b[0m \u001b[0;34m\u001b[0m\u001b[0m\n",
            "\u001b[0;31mTypeError\u001b[0m: unsupported operand type(s) for /: 'list' and 'int'"
          ]
        }
      ]
    },
    {
      "cell_type": "code",
      "source": [
        "# 이름, 총점, 평균을 출력.\n",
        "\n",
        "for s in students:\n",
        "    total = s['korean'] + s['english'] + s['math']\n",
        "    mean = total / 3\n",
        "    print(f'이름 : {s[\"name\"]}, 총점 : {total}, 평균 : {mean}')"
      ],
      "metadata": {
        "colab": {
          "base_uri": "https://localhost:8080/"
        },
        "id": "b6cETBgwzUoe",
        "outputId": "c3bd143e-7ec0-45ee-d165-b19286d8c6d9"
      },
      "execution_count": null,
      "outputs": [
        {
          "output_type": "stream",
          "name": "stdout",
          "text": [
            "이름 : 홍길동, 총점 : 240, 평균 : 80.0\n",
            "이름 : 오쌤, 총점 : 223, 평균 : 74.33333333333333\n",
            "이름 : Scott, 총점 : 245, 평균 : 81.66666666666667\n"
          ]
        }
      ]
    },
    {
      "cell_type": "markdown",
      "source": [
        "위의 프로그래밍 방식의 문제점은 dict의 키는 중복되지만 않게 만들면 되기 때문에, 반복문에서 총점과 평균을 계산하는 기능이 동작하지 않을 수도 있다."
      ],
      "metadata": {
        "id": "Yxul1Fbq0tJm"
      }
    },
    {
      "cell_type": "markdown",
      "source": [
        "## 함수형 프로그래밍(Functional Programming)"
      ],
      "metadata": {
        "id": "N4SfX2LJ1Qpm"
      }
    },
    {
      "cell_type": "code",
      "source": [
        "def create_student(name, korean, english, math):\n",
        "    student = {'name' : name,\n",
        "               'korean': korean,\n",
        "               'english' : english,\n",
        "               'math' : math}\n",
        "\n",
        "    return student"
      ],
      "metadata": {
        "id": "y5WmG5Uu0squ"
      },
      "execution_count": null,
      "outputs": []
    },
    {
      "cell_type": "code",
      "source": [
        "students = [\n",
        "    create_student('홍길동', 90, 100, 80),\n",
        "    create_student('오쌤', 50, 55, 65),\n",
        "    create_student('Scott', 70, 100, 90)\n",
        "]\n",
        "\n",
        "print(students)"
      ],
      "metadata": {
        "colab": {
          "base_uri": "https://localhost:8080/"
        },
        "id": "MIC25Sf_2MR_",
        "outputId": "0ba39d10-855d-4149-8f37-3da37dcf0beb"
      },
      "execution_count": null,
      "outputs": [
        {
          "output_type": "stream",
          "name": "stdout",
          "text": [
            "[{'name': '홍길동', 'korean': 90, 'english': 100, 'math': 80}, {'name': '오쌤', 'korean': 50, 'english': 55, 'math': 65}, {'name': 'Scott', 'korean': 70, 'english': 100, 'math': 90}]\n"
          ]
        }
      ]
    },
    {
      "cell_type": "code",
      "source": [
        "def get_total(student):\n",
        "    return student['korean'] + student['english'] + student['math']"
      ],
      "metadata": {
        "id": "wVI8-0pt2gtX"
      },
      "execution_count": null,
      "outputs": []
    },
    {
      "cell_type": "code",
      "source": [
        "def get_mean(student):\n",
        "    return get_total(student) / 3"
      ],
      "metadata": {
        "id": "fFz1w63B2zZv"
      },
      "execution_count": null,
      "outputs": []
    },
    {
      "cell_type": "code",
      "source": [
        "for s in students:\n",
        "    total = get_total(s)\n",
        "    mean = get_mean(s)\n",
        "    print(f'이름 : {s[\"name\"]}, 총점 : {total}, 평균 : {mean}')"
      ],
      "metadata": {
        "colab": {
          "base_uri": "https://localhost:8080/"
        },
        "id": "n3RbstpL25Te",
        "outputId": "eaf06416-098d-4700-a7c3-e4fa9b3bf603"
      },
      "execution_count": null,
      "outputs": [
        {
          "output_type": "stream",
          "name": "stdout",
          "text": [
            "이름 : 홍길동, 총점 : 270, 평균 : 90.0\n",
            "이름 : 오쌤, 총점 : 170, 평균 : 56.666666666666664\n",
            "이름 : Scott, 총점 : 260, 평균 : 86.66666666666667\n"
          ]
        }
      ]
    },
    {
      "cell_type": "markdown",
      "source": [
        "총점을 계산하는 함수 get_total()과 평균을 계산하는 함수 get_mean()은 학생 dict와 매우 밀접한 관계를 가지고 있음.\n",
        "\n",
        "데이터(국어, 영어, 수학)와 기능(총점, 평균 계산)이 밀접한 관계를 가지고 있음.\n",
        "\n",
        "데이터와 기능을 하나로 묶을 수 있을까?"
      ],
      "metadata": {
        "id": "gQpRyrrh3tHn"
      }
    },
    {
      "cell_type": "markdown",
      "source": [
        "## 객체 지향 프로그래밍(Object-Oriented Programming)"
      ],
      "metadata": {
        "id": "ud6Cv8Bh4ToX"
      }
    },
    {
      "cell_type": "markdown",
      "source": [
        "* 객체(object): 프로그램에서 구현할 대상. 자료 구조.\n",
        "* 클래스(class): 객체를 만들기 위한 설계도(코드).\n",
        "    * 속성(attribute, property): 객체가 가져야할 데이터.\n",
        "    * 메서드(method): 객체가 가져야할 기능. 클래스 내부에서 선언하는 함수.\n",
        "* 인스턴스(instance): 메모리에 생성된 객체. 클래스 타입으로 생성된 객체.\n",
        "* 생성자(constructor): 클래스 이름과 동일한 함수. 객체를 생성해 주는 함수.\n",
        "    * 생성자를 호출하면 클래스에서 `__init__()` 메서드가 호출됨."
      ],
      "metadata": {
        "id": "e18BTVeX9LPy"
      }
    },
    {
      "cell_type": "code",
      "source": [
        "# 클래스 선언\n",
        "class Student:\n",
        "    # __init__() 메서드 : 생성자를 호출했을 때 실행할 코드. 객체가 가져야 하는 속성의 값들을 초기화.\n",
        "    def __init__(self, name, korean, english, math):\n",
        "        self.name = name\n",
        "        self.korean = korean\n",
        "        self.english = english\n",
        "        self.math = math\n",
        "\n",
        "    # 메서드 : 클래스에서 선언하는 메서드.\n",
        "    def get_total(self):\n",
        "        return self.korean + self.english + self.math\n",
        "\n",
        "    def get_mean(self):\n",
        "        return self.get_total() / 3"
      ],
      "metadata": {
        "id": "ypPn6z6b3sSA"
      },
      "execution_count": null,
      "outputs": []
    },
    {
      "cell_type": "code",
      "source": [
        "student1 = Student('홍길동', 100, 80, 95) # 생성자를 호출. 객체 생성. 인스턴스 생성.\n",
        "print(student1)\n",
        "print('이름:', student1.name)\n",
        "print('국어 점수:', student1.korean)\n",
        "print('영어 점수:', student1.english)\n",
        "print('수학 점수:', student1.math)\n",
        "print('총점:', student1.get_total())\n",
        "print('평균:', student1.get_mean())"
      ],
      "metadata": {
        "colab": {
          "base_uri": "https://localhost:8080/"
        },
        "id": "C_JgWrSNAcij",
        "outputId": "1c892d69-c619-4fc4-a2a6-730027dc57d2"
      },
      "execution_count": null,
      "outputs": [
        {
          "output_type": "stream",
          "name": "stdout",
          "text": [
            "<__main__.Student object at 0x7e9d949449d0>\n",
            "이름: 홍길동\n",
            "국어 점수: 100\n",
            "영어 점수: 80\n",
            "수학 점수: 95\n",
            "총점: 275\n",
            "평균: 91.66666666666667\n"
          ]
        }
      ]
    },
    {
      "cell_type": "code",
      "source": [
        "student2 = Student('오쌤', 50, 45, 33) # 생성자를 호출. 객체 생성. 인스턴스 생성.\n",
        "print(student2)\n",
        "print('이름:', student2.name)\n",
        "print('국어 점수:', student2.korean)\n",
        "print('영어 점수:', student2.english)\n",
        "print('수학 점수:', student2.math)\n",
        "print('총점:', student2.get_total())\n",
        "print('평균:', student2.get_mean())"
      ],
      "metadata": {
        "colab": {
          "base_uri": "https://localhost:8080/"
        },
        "id": "64fApPUmEVMN",
        "outputId": "ff818de0-758f-4e2a-b105-2e84f84e4c9e"
      },
      "execution_count": null,
      "outputs": [
        {
          "output_type": "stream",
          "name": "stdout",
          "text": [
            "<__main__.Student object at 0x7e9d94a949d0>\n",
            "이름: 오쌤\n",
            "국어 점수: 50\n",
            "영어 점수: 45\n",
            "수학 점수: 33\n",
            "총점: 128\n",
            "평균: 42.666666666666664\n"
          ]
        }
      ]
    },
    {
      "cell_type": "markdown",
      "source": [
        "# 클래스 선언"
      ],
      "metadata": {
        "id": "zA9VAS-8NJg5"
      }
    },
    {
      "cell_type": "markdown",
      "source": [
        "## Ex 1"
      ],
      "metadata": {
        "id": "BotMAM7FNQFq"
      }
    },
    {
      "cell_type": "code",
      "source": [
        "class Circle:\n",
        "    def __init__(self, radius):\n",
        "        self.radius = radius\n",
        "\n",
        "    def area(self):\n",
        "        return 3.14 * self.radius ** 2\n",
        "\n",
        "    def perimeter(self):\n",
        "        return 2 * 3.14 * self.radius"
      ],
      "metadata": {
        "id": "13nHzQv7NRkx"
      },
      "execution_count": null,
      "outputs": []
    },
    {
      "cell_type": "code",
      "source": [
        "circle1 = Circle(5)\n",
        "\n",
        "print(circle1.area())\n",
        "print('넓이:', circle1.area())\n",
        "print('둘레:', circle1.perimeter())"
      ],
      "metadata": {
        "colab": {
          "base_uri": "https://localhost:8080/"
        },
        "id": "PuKtUHmKPB17",
        "outputId": "da82b89b-0130-498e-b146-2a902b3d19d5"
      },
      "execution_count": null,
      "outputs": [
        {
          "output_type": "stream",
          "name": "stdout",
          "text": [
            "78.5\n",
            "넓이: 78.5\n",
            "둘레: 31.400000000000002\n"
          ]
        }
      ]
    },
    {
      "cell_type": "code",
      "source": [
        "circle2 = Circle(10)\n",
        "\n",
        "print('반지름:', circle2.radius)\n",
        "print('넓이:', circle2.area())\n",
        "print('둘레:', circle2.perimeter())"
      ],
      "metadata": {
        "colab": {
          "base_uri": "https://localhost:8080/"
        },
        "id": "NUUGwmwhQgXb",
        "outputId": "5b80b8c4-0e4f-4d83-ef16-92b2d1fe470e"
      },
      "execution_count": null,
      "outputs": [
        {
          "output_type": "stream",
          "name": "stdout",
          "text": [
            "반지름: 10\n",
            "넓이: 314.0\n",
            "둘레: 62.800000000000004\n"
          ]
        }
      ]
    },
    {
      "cell_type": "markdown",
      "source": [
        "## Ex 2."
      ],
      "metadata": {
        "id": "AI3euquYWF3d"
      }
    },
    {
      "cell_type": "code",
      "source": [
        "class Rectangle:\n",
        "\n",
        "    def __init__(self, width, height):\n",
        "        self.width = width\n",
        "        self.height = height\n",
        "\n",
        "    def area(self):\n",
        "        return self.width * self.height\n",
        "\n",
        "    def perimeter(self):\n",
        "        return 2 * (self.width + self.height)\n",
        "\n",
        "rectangle1 = Rectangle(8,10)\n",
        "\n",
        "print(\"가로 길이:\", rectangle1.width)\n",
        "print(\"세로 길이:\", rectangle1.height)\n",
        "print(\"넓이:\", rectangle1.area())\n",
        "print(\"둘레:\", rectangle1.perimeter())"
      ],
      "metadata": {
        "colab": {
          "base_uri": "https://localhost:8080/"
        },
        "id": "0bjvpHcSWRY2",
        "outputId": "ef8ed2ef-b481-4bab-85e1-d2c177c39864"
      },
      "execution_count": null,
      "outputs": [
        {
          "output_type": "stream",
          "name": "stdout",
          "text": [
            "가로 길이: 8\n",
            "세로 길이: 10\n",
            "넓이: 80\n",
            "둘레: 36\n"
          ]
        }
      ]
    },
    {
      "cell_type": "markdown",
      "source": [
        "## Ex 3."
      ],
      "metadata": {
        "id": "hQt9CpMxbGDv"
      }
    },
    {
      "cell_type": "code",
      "source": [
        "import math"
      ],
      "metadata": {
        "id": "YQDXkgkRdckR"
      },
      "execution_count": null,
      "outputs": []
    },
    {
      "cell_type": "code",
      "source": [
        "class Point:\n",
        "    \"\"\"2차원 평면에서 점의 좌표(x, y)를 표현하는 클래스.\"\"\"\n",
        "\n",
        "\n",
        "    # __init__(): 생성자 함수를 호출하면 자동으로 호출하는 메서드\n",
        "    def __init__(self, x=0, y=0):\n",
        "        \"\"\"2차원 평면의 점의 좌표를 초기화\"\"\"\n",
        "        self.x = x\n",
        "        self.y = y\n",
        "\n",
        "    def if_move(self, dx, dy):\n",
        "        \"\"\" 점의 위치를 원래 위치에서 x축 방향으로 dx만큼, y축 방향으로 dy만큼 이동. \"\"\"\n",
        "        move_x = self.x + dx\n",
        "        move_y = self.y + dy\n",
        "\n",
        "        return move_x, move_y\n",
        "\n",
        "    def move(self, dx, dy):\n",
        "        \"\"\" 점의 위치를 원래 위치에서 x축 방향으로 dx만큼, y축 방향으로 dy만큼 이동. \"\"\"\n",
        "        self.x += dx\n",
        "        self.y += dy\n",
        "\n",
        "    # __str__(): print() 함수가 객체를 출력하기 위해서 호출하는 메서드\n",
        "    # __str__() 함수를 선언하지 않으면 print() 함수 'ClassName object 0x12345678' 형식으로 객체를 출력.\n",
        "    # __str__() 함수를 선언하면, print() 함수는 __str() 함수가 리턴하는 문자열을 출력.\n",
        "\n",
        "    def __str__(self):\n",
        "        \"\"\" Point 객체를 문자열로 표현 \"\"\"\n",
        "        return f'Point({self.x}, {self.y})'\n",
        "\n",
        "    def distance(self, other):\n",
        "        \"\"\" 현재 점의 위치와 다른 점 사이의 거리를 리턴 \"\"\"\n",
        "        return ((self.x - other.x) ** 2 + (self.y - other.y) ** 2) ** 0.5\n",
        "\n",
        "point1 = Point(5,5)\n",
        "point2 = Point(7,7)\n",
        "\n",
        "# 5,5 를 좌표평면에 생성\n",
        "print((point1.x, point1.y))\n",
        "\n",
        "# 1,1씩 움직였다면(결과값만 출력)\n",
        "print(point1.if_move(1,1))\n",
        "\n",
        "# 움직이지 않은 상태로 거리 비교\n",
        "print(point1.distance(point2))\n",
        "\n",
        "#1,1씩 움직였다면(point1의 실제 값을 변경)\n",
        "point1.move(1,1)\n",
        "\n",
        "#움직인 상태로 거리 비교\n",
        "print(point1.distance(point2))"
      ],
      "metadata": {
        "colab": {
          "base_uri": "https://localhost:8080/"
        },
        "id": "SvBPhOJHYgY_",
        "outputId": "b5328561-c2a1-480f-ec06-f30bf79a23ef"
      },
      "execution_count": null,
      "outputs": [
        {
          "output_type": "stream",
          "name": "stdout",
          "text": [
            "(5, 5)\n",
            "(6, 6)\n",
            "2.8284271247461903\n",
            "1.4142135623730951\n"
          ]
        }
      ]
    },
    {
      "cell_type": "code",
      "source": [
        "pt1 = Point() # 생성자 함수에 아규먼트를 전달하지 않으면 default argument가 사용됨.\n",
        "print(pt1)\n",
        "print(f'Point({pt1.x}, {pt1.y})')"
      ],
      "metadata": {
        "colab": {
          "base_uri": "https://localhost:8080/"
        },
        "id": "XIQlavlUjduc",
        "outputId": "d685474a-2933-4a20-b106-2596797f200f"
      },
      "execution_count": null,
      "outputs": [
        {
          "output_type": "stream",
          "name": "stdout",
          "text": [
            "<__main__.Point object at 0x7e9d949b5d10>\n",
            "Point(0, 0)\n"
          ]
        }
      ]
    },
    {
      "cell_type": "code",
      "source": [
        "pt2 = Point(x=1, y=2) # Point(1,2)\n",
        "print(pt2)\n",
        "print(f'Point({pt2.x}, {pt2.y})')"
      ],
      "metadata": {
        "colab": {
          "base_uri": "https://localhost:8080/"
        },
        "id": "EsOW5m3Pk9tk",
        "outputId": "111354f4-d52c-40d3-b62a-d32e00d362da"
      },
      "execution_count": null,
      "outputs": [
        {
          "output_type": "stream",
          "name": "stdout",
          "text": [
            "Point(1, 2)\n",
            "Point(1, 2)\n"
          ]
        }
      ]
    },
    {
      "cell_type": "code",
      "source": [
        "pt1.move(1, 1)\n",
        "print(f'Point({pt1.x}, {pt1.y})')"
      ],
      "metadata": {
        "colab": {
          "base_uri": "https://localhost:8080/"
        },
        "id": "exZ3Bbv6l_Qc",
        "outputId": "8e5adb90-3650-4109-e29b-1b6652f9c745"
      },
      "execution_count": null,
      "outputs": [
        {
          "output_type": "stream",
          "name": "stdout",
          "text": [
            "Point(1, 1)\n"
          ]
        }
      ]
    },
    {
      "cell_type": "code",
      "source": [
        "pt2.move(2, 1)\n",
        "print(f'Point({pt2.x}, {pt2.y})')"
      ],
      "metadata": {
        "colab": {
          "base_uri": "https://localhost:8080/"
        },
        "id": "GL_00fUGmkP0",
        "outputId": "f1b073d3-ddf6-4908-ac2f-e9ffc55bf53a"
      },
      "execution_count": null,
      "outputs": [
        {
          "output_type": "stream",
          "name": "stdout",
          "text": [
            "Point(3, 3)\n"
          ]
        }
      ]
    },
    {
      "cell_type": "code",
      "source": [
        "d = pt1.distance(pt2)\n",
        "print('거리= ', d)"
      ],
      "metadata": {
        "colab": {
          "base_uri": "https://localhost:8080/"
        },
        "id": "8cn93Uh8m5SV",
        "outputId": "f5433171-e2c9-45e2-f013-eb0f5a9f3d06"
      },
      "execution_count": null,
      "outputs": [
        {
          "output_type": "stream",
          "name": "stdout",
          "text": [
            "거리=  2.8284271247461903\n"
          ]
        }
      ]
    },
    {
      "cell_type": "markdown",
      "source": [],
      "metadata": {
        "id": "CtGospD4n-42"
      }
    }
  ]
}