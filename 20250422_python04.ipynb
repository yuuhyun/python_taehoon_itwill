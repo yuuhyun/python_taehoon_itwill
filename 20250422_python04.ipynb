{
  "nbformat": 4,
  "nbformat_minor": 0,
  "metadata": {
    "colab": {
      "provenance": [],
      "authorship_tag": "ABX9TyNt9u8kwI5O+vSV4RVOWXsg",
      "include_colab_link": true
    },
    "kernelspec": {
      "name": "python3",
      "display_name": "Python 3"
    },
    "language_info": {
      "name": "python"
    }
  },
  "cells": [
    {
      "cell_type": "markdown",
      "metadata": {
        "id": "view-in-github",
        "colab_type": "text"
      },
      "source": [
        "<a href=\"https://colab.research.google.com/github/yuuhyun/python_taehoon_itwill/blob/main/20250422_python04.ipynb\" target=\"_parent\"><img src=\"https://colab.research.google.com/assets/colab-badge.svg\" alt=\"Open In Colab\"/></a>"
      ]
    },
    {
      "cell_type": "markdown",
      "source": [
        "# while 반복문"
      ],
      "metadata": {
        "id": "416R_vFeI5Kk"
      }
    },
    {
      "cell_type": "markdown",
      "source": [
        "## 문법"
      ],
      "metadata": {
        "id": "CGBa0Ys3I6l0"
      }
    },
    {
      "cell_type": "markdown",
      "source": [
        "```\n",
        "[초기화 문장]\n",
        "while 조건식:\n",
        "    조건식을 만족하는 동안에 반복할 코드 블록\n",
        "    [조건식의 결과를 바꿀 수 있는 문장]\n",
        "```\n",
        "\n",
        "* `while 조건식` 다음에는 반드시 콜론(:)을 써야 함.\n",
        "* 조건식을 만족하는 동안 블록 내부를 실행.\n",
        "* 조건식의 결과가 False가 되면 반복을 멈춤."
      ],
      "metadata": {
        "id": "W2eT5AUNI_Cc"
      }
    },
    {
      "cell_type": "code",
      "source": [
        "print(1)\n",
        "print(2)\n",
        "print(3)\n",
        "print(4)\n",
        "print(5)"
      ],
      "metadata": {
        "colab": {
          "base_uri": "https://localhost:8080/"
        },
        "id": "IYeORDfqI118",
        "outputId": "ffa548ee-1a14-45ac-ca2c-53e0175f2d42"
      },
      "execution_count": null,
      "outputs": [
        {
          "output_type": "stream",
          "name": "stdout",
          "text": [
            "1\n",
            "2\n",
            "3\n",
            "4\n",
            "5\n"
          ]
        }
      ]
    },
    {
      "cell_type": "code",
      "source": [
        "n = 1 # 초기화 문장\n",
        "while n < 6:\n",
        "    print(n) # 변수 n의 값을 출력\n",
        "    n += 1 # n = n + 1"
      ],
      "metadata": {
        "colab": {
          "base_uri": "https://localhost:8080/"
        },
        "id": "8-uaS7n_K0mU",
        "outputId": "fe851d92-cf18-4d8d-d71e-47b163022a37"
      },
      "execution_count": null,
      "outputs": [
        {
          "output_type": "stream",
          "name": "stdout",
          "text": [
            "1\n",
            "2\n",
            "3\n",
            "4\n",
            "5\n"
          ]
        }
      ]
    },
    {
      "cell_type": "markdown",
      "source": [
        "5부터 1씩 감소시키면서 1까지 한줄씩 출력"
      ],
      "metadata": {
        "id": "BoN7-_OBMpEj"
      }
    },
    {
      "cell_type": "code",
      "source": [
        "n = 5 # 초기화 문장\n",
        "while n > 0:\n",
        "    print(n) # 변수 n의 값을 출력\n",
        "    n -= 1 # n = n - 1"
      ],
      "metadata": {
        "colab": {
          "base_uri": "https://localhost:8080/"
        },
        "id": "Xj0dO5MAMinz",
        "outputId": "f2fd00da-5d49-44a6-b6d8-cd62d4ab9ffa"
      },
      "execution_count": null,
      "outputs": [
        {
          "output_type": "stream",
          "name": "stdout",
          "text": [
            "5\n",
            "4\n",
            "3\n",
            "2\n",
            "1\n"
          ]
        }
      ]
    },
    {
      "cell_type": "markdown",
      "source": [
        "2 4 6 8 10을 한 줄씩 출력"
      ],
      "metadata": {
        "id": "7-EfEwnzNZRT"
      }
    },
    {
      "cell_type": "code",
      "source": [
        "n = 2 # 초기화 문장\n",
        "while n <= 10:\n",
        "    print(n) # 변수 n의 값을 출력\n",
        "    n += 2 # n = n + 2"
      ],
      "metadata": {
        "colab": {
          "base_uri": "https://localhost:8080/"
        },
        "id": "JEYtlv_rNWcs",
        "outputId": "265dd6af-34b5-4fe0-f647-2785f456b949"
      },
      "execution_count": null,
      "outputs": [
        {
          "output_type": "stream",
          "name": "stdout",
          "text": [
            "2\n",
            "4\n",
            "6\n",
            "8\n",
            "10\n"
          ]
        }
      ]
    },
    {
      "cell_type": "code",
      "source": [
        "n = 2 # 초기화 문장\n",
        "while n <= 10:     # n의 값이 10 이하인 동안에\n",
        "    if n % 2 == 0: # n이 짝수이면\n",
        "        print(n)   # n을 출력\n",
        "    n += 1         # n의 값을 1 증가"
      ],
      "metadata": {
        "colab": {
          "base_uri": "https://localhost:8080/"
        },
        "id": "DmDMmCXOPEFL",
        "outputId": "dbc289c8-45b6-4a07-afa3-2b6c2b4846e7"
      },
      "execution_count": null,
      "outputs": [
        {
          "output_type": "stream",
          "name": "stdout",
          "text": [
            "2\n",
            "4\n",
            "6\n",
            "8\n",
            "10\n"
          ]
        }
      ]
    },
    {
      "cell_type": "markdown",
      "source": [
        "구구단 9단을 출력\n",
        "\n",
        "```\n",
        "9 x 1 = 9\n",
        "9 x 2 = 18\n",
        "\n",
        "...\n",
        "\n",
        "9 x 9 = 81\n",
        "```\n"
      ],
      "metadata": {
        "id": "GBfzWXyVT__q"
      }
    },
    {
      "cell_type": "code",
      "source": [
        "n = 1\n",
        "while n <10:\n",
        "    print(f'9 x {n} = {9*n}')\n",
        "    n += 1"
      ],
      "metadata": {
        "colab": {
          "base_uri": "https://localhost:8080/"
        },
        "id": "cYm4lDh9USEC",
        "outputId": "131e454f-36b9-4b42-88f0-8a7865b1946a"
      },
      "execution_count": null,
      "outputs": [
        {
          "output_type": "stream",
          "name": "stdout",
          "text": [
            "9 x 1 = 9\n",
            "9 x 2 = 18\n",
            "9 x 3 = 27\n",
            "9 x 4 = 36\n",
            "9 x 5 = 45\n",
            "9 x 6 = 54\n",
            "9 x 7 = 63\n",
            "9 x 8 = 72\n",
            "9 x 9 = 81\n"
          ]
        }
      ]
    },
    {
      "cell_type": "markdown",
      "source": [
        "## 중첩 반복문"
      ],
      "metadata": {
        "id": "t6v0jo-tVj0K"
      }
    },
    {
      "cell_type": "code",
      "source": [
        "x = 1\n",
        "while x < 10:\n",
        "    print(f'----- {x}단 -----')\n",
        "\n",
        "    y = 1\n",
        "    while y < 10:\n",
        "        print(f'{x} x {y} = {x*y}')\n",
        "        y += 1\n",
        "    # TODO\n",
        "    x += 1"
      ],
      "metadata": {
        "colab": {
          "base_uri": "https://localhost:8080/"
        },
        "collapsed": true,
        "id": "y3xzKbRMVltB",
        "outputId": "8ebab924-2850-4471-922f-9014644c765b"
      },
      "execution_count": null,
      "outputs": [
        {
          "output_type": "stream",
          "name": "stdout",
          "text": [
            "----- 1단 -----\n",
            "1 x 1 = 1\n",
            "1 x 2 = 2\n",
            "1 x 3 = 3\n",
            "1 x 4 = 4\n",
            "1 x 5 = 5\n",
            "1 x 6 = 6\n",
            "1 x 7 = 7\n",
            "1 x 8 = 8\n",
            "1 x 9 = 9\n",
            "----- 2단 -----\n",
            "2 x 1 = 2\n",
            "2 x 2 = 4\n",
            "2 x 3 = 6\n",
            "2 x 4 = 8\n",
            "2 x 5 = 10\n",
            "2 x 6 = 12\n",
            "2 x 7 = 14\n",
            "2 x 8 = 16\n",
            "2 x 9 = 18\n",
            "----- 3단 -----\n",
            "3 x 1 = 3\n",
            "3 x 2 = 6\n",
            "3 x 3 = 9\n",
            "3 x 4 = 12\n",
            "3 x 5 = 15\n",
            "3 x 6 = 18\n",
            "3 x 7 = 21\n",
            "3 x 8 = 24\n",
            "3 x 9 = 27\n",
            "----- 4단 -----\n",
            "4 x 1 = 4\n",
            "4 x 2 = 8\n",
            "4 x 3 = 12\n",
            "4 x 4 = 16\n",
            "4 x 5 = 20\n",
            "4 x 6 = 24\n",
            "4 x 7 = 28\n",
            "4 x 8 = 32\n",
            "4 x 9 = 36\n",
            "----- 5단 -----\n",
            "5 x 1 = 5\n",
            "5 x 2 = 10\n",
            "5 x 3 = 15\n",
            "5 x 4 = 20\n",
            "5 x 5 = 25\n",
            "5 x 6 = 30\n",
            "5 x 7 = 35\n",
            "5 x 8 = 40\n",
            "5 x 9 = 45\n",
            "----- 6단 -----\n",
            "6 x 1 = 6\n",
            "6 x 2 = 12\n",
            "6 x 3 = 18\n",
            "6 x 4 = 24\n",
            "6 x 5 = 30\n",
            "6 x 6 = 36\n",
            "6 x 7 = 42\n",
            "6 x 8 = 48\n",
            "6 x 9 = 54\n",
            "----- 7단 -----\n",
            "7 x 1 = 7\n",
            "7 x 2 = 14\n",
            "7 x 3 = 21\n",
            "7 x 4 = 28\n",
            "7 x 5 = 35\n",
            "7 x 6 = 42\n",
            "7 x 7 = 49\n",
            "7 x 8 = 56\n",
            "7 x 9 = 63\n",
            "----- 8단 -----\n",
            "8 x 1 = 8\n",
            "8 x 2 = 16\n",
            "8 x 3 = 24\n",
            "8 x 4 = 32\n",
            "8 x 5 = 40\n",
            "8 x 6 = 48\n",
            "8 x 7 = 56\n",
            "8 x 8 = 64\n",
            "8 x 9 = 72\n",
            "----- 9단 -----\n",
            "9 x 1 = 9\n",
            "9 x 2 = 18\n",
            "9 x 3 = 27\n",
            "9 x 4 = 36\n",
            "9 x 5 = 45\n",
            "9 x 6 = 54\n",
            "9 x 7 = 63\n",
            "9 x 8 = 72\n",
            "9 x 9 = 81\n"
          ]
        }
      ]
    },
    {
      "cell_type": "markdown",
      "source": [
        "## break, continue"
      ],
      "metadata": {
        "id": "dTesid9PX6ea"
      }
    },
    {
      "cell_type": "markdown",
      "source": [
        "* `break` : 반복(iteration)을 종료. break가 포함된 가장 가까운 반복문만 종료.\n",
        "* `continue` : 다음 반복(iteration)을 수행. **continue 아래쪽의 문장들은 건너뛰고** 다음 반복을 수행."
      ],
      "metadata": {
        "id": "rPM2QC_eYJLK"
      }
    },
    {
      "cell_type": "code",
      "source": [
        "n = 1\n",
        "while n <= 5:\n",
        "    if n == 3:\n",
        "        break;\n",
        "    print(n)\n",
        "    n += 1"
      ],
      "metadata": {
        "colab": {
          "base_uri": "https://localhost:8080/"
        },
        "id": "wMKfpNZjX6Fq",
        "outputId": "d433cf3b-3b36-4519-ca58-87d1d7ed5d89"
      },
      "execution_count": null,
      "outputs": [
        {
          "output_type": "stream",
          "name": "stdout",
          "text": [
            "1\n",
            "2\n",
            "3\n",
            "4\n",
            "5\n"
          ]
        }
      ]
    },
    {
      "cell_type": "code",
      "source": [
        "n = 0\n",
        "while n < 5:\n",
        "    n += 1\n",
        "    if n == 3:\n",
        "        continue;\n",
        "    print(n)"
      ],
      "metadata": {
        "colab": {
          "base_uri": "https://localhost:8080/"
        },
        "id": "jtXdaX4NaObK",
        "outputId": "49025966-67a2-487d-a943-3eef53a59589"
      },
      "execution_count": null,
      "outputs": [
        {
          "output_type": "stream",
          "name": "stdout",
          "text": [
            "1\n",
            "2\n",
            "4\n",
            "5\n"
          ]
        }
      ]
    },
    {
      "cell_type": "markdown",
      "source": [
        "# 연습문제"
      ],
      "metadata": {
        "id": "809N3nluf11h"
      }
    },
    {
      "cell_type": "markdown",
      "source": [
        "1.\n",
        "아래와 같이 출력하는 코드를 작성하세요.\n",
        "```\n",
        "*\n",
        "**\n",
        "***\n",
        "****\n",
        "*****\n",
        "```"
      ],
      "metadata": {
        "id": "AGqCQcCTfj4B"
      }
    },
    {
      "cell_type": "code",
      "source": [
        "n = 1\n",
        "while n < 6:\n",
        "    print('*' * n)\n",
        "    n += 1"
      ],
      "metadata": {
        "colab": {
          "base_uri": "https://localhost:8080/"
        },
        "id": "gM7w4aKUfnI5",
        "outputId": "6e5e1959-8140-4586-a09d-24aae5dd05b3"
      },
      "execution_count": null,
      "outputs": [
        {
          "output_type": "stream",
          "name": "stdout",
          "text": [
            "*\n",
            "**\n",
            "***\n",
            "****\n",
            "*****\n"
          ]
        }
      ]
    },
    {
      "cell_type": "markdown",
      "source": [
        "2.\n",
        "아래와 같이 출력하는 코드를 작성하세요.\n",
        "```\n",
        "*****\n",
        "****\n",
        "***\n",
        "**\n",
        "*\n",
        "```"
      ],
      "metadata": {
        "id": "7WMeZInogRQx"
      }
    },
    {
      "cell_type": "code",
      "source": [
        "n = 5\n",
        "while n > 0:\n",
        "    print('*' * n)\n",
        "    n -= 1"
      ],
      "metadata": {
        "colab": {
          "base_uri": "https://localhost:8080/"
        },
        "id": "KT53TMqSgSGR",
        "outputId": "58c6bfb5-c159-43e4-93d1-ac439585764e"
      },
      "execution_count": null,
      "outputs": [
        {
          "output_type": "stream",
          "name": "stdout",
          "text": [
            "*****\n",
            "****\n",
            "***\n",
            "**\n",
            "*\n"
          ]
        }
      ]
    },
    {
      "cell_type": "markdown",
      "source": [
        "3.\n",
        "아래와 같이 출력하는 코드를 작성하세요.\n",
        "```\n",
        "*\n",
        "**\n",
        "***\n",
        "****\n",
        "*****\n",
        "****\n",
        "***\n",
        "**\n",
        "*\n",
        "```"
      ],
      "metadata": {
        "id": "YxfxgVfCgU0I"
      }
    },
    {
      "cell_type": "code",
      "source": [
        "n = 1\n",
        "while n < 10:\n",
        "    if n > 5:\n",
        "        print('*' * (10 - n))\n",
        "        n += 1\n",
        "        continue;\n",
        "    print('*'* n)\n",
        "    n += 1"
      ],
      "metadata": {
        "colab": {
          "base_uri": "https://localhost:8080/"
        },
        "id": "eC7tqTc9gVlP",
        "outputId": "82282032-4c4c-4046-9aeb-647da79e7497"
      },
      "execution_count": null,
      "outputs": [
        {
          "output_type": "stream",
          "name": "stdout",
          "text": [
            "*\n",
            "**\n",
            "***\n",
            "****\n",
            "*****\n",
            "****\n",
            "***\n",
            "**\n",
            "*\n"
          ]
        }
      ]
    },
    {
      "cell_type": "code",
      "source": [
        "# 다른 방식의 code\n",
        "\n",
        "n = 1\n",
        "while n < 6: # while n <= 5:\n",
        "    print('*' * n)\n",
        "    n += 1\n",
        "\n",
        "n = 4\n",
        "while n > 0: # while n >= 1:\n",
        "    print('*' * n)\n",
        "    n -= 1"
      ],
      "metadata": {
        "colab": {
          "base_uri": "https://localhost:8080/"
        },
        "id": "2ste1c4jAV1w",
        "outputId": "c85fb72f-be42-43b3-c75c-3feb9e6ed714"
      },
      "execution_count": null,
      "outputs": [
        {
          "output_type": "stream",
          "name": "stdout",
          "text": [
            "*\n",
            "**\n",
            "***\n",
            "****\n",
            "*****\n",
            "****\n",
            "***\n",
            "**\n",
            "*\n"
          ]
        }
      ]
    },
    {
      "cell_type": "markdown",
      "source": [
        "4.\n",
        "아래와 같이 구구단을 출력하는 코드를 작성하세요.\n",
        "```\n",
        "2 x 1 = 2\n",
        "2 x 2 = 4\n",
        "--------------------\n",
        "3 x 1 = 3\n",
        "3 x 2 = 6\n",
        "3 x 3 = 9\n",
        "--------------------\n",
        "4 x 1 = 4\n",
        "4 x 2 = 8\n",
        "4 x 3 = 12\n",
        "4 x 4 = 16\n",
        "--------------------\n",
        "...\n",
        "--------------------\n",
        "9 x 1 = 9\n",
        "...\n",
        "9 x 9 = 81\n",
        "--------------------\n",
        "```"
      ],
      "metadata": {
        "id": "4u5ESQ87gVJp"
      }
    },
    {
      "cell_type": "code",
      "source": [
        "m = 2\n",
        "n = 1\n",
        "while m < 10:\n",
        "    if n < m:\n",
        "        print(f'{m} x {n} = {m*n}')\n",
        "        n += 1\n",
        "        continue;\n",
        "    if n == m:\n",
        "        print(f'{m} x {n} = {m*n}')\n",
        "        print('-------------')\n",
        "        m += 1\n",
        "        n = 1"
      ],
      "metadata": {
        "colab": {
          "base_uri": "https://localhost:8080/"
        },
        "id": "B-XgNm7sjikJ",
        "outputId": "e7b2e975-c6c5-4e41-97af-022213184d94"
      },
      "execution_count": null,
      "outputs": [
        {
          "output_type": "stream",
          "name": "stdout",
          "text": [
            "2 x 1 = 2\n",
            "2 x 2 = 4\n",
            "-------------\n",
            "3 x 1 = 3\n",
            "3 x 2 = 6\n",
            "3 x 3 = 9\n",
            "-------------\n",
            "4 x 1 = 4\n",
            "4 x 2 = 8\n",
            "4 x 3 = 12\n",
            "4 x 4 = 16\n",
            "-------------\n",
            "5 x 1 = 5\n",
            "5 x 2 = 10\n",
            "5 x 3 = 15\n",
            "5 x 4 = 20\n",
            "5 x 5 = 25\n",
            "-------------\n",
            "6 x 1 = 6\n",
            "6 x 2 = 12\n",
            "6 x 3 = 18\n",
            "6 x 4 = 24\n",
            "6 x 5 = 30\n",
            "6 x 6 = 36\n",
            "-------------\n",
            "7 x 1 = 7\n",
            "7 x 2 = 14\n",
            "7 x 3 = 21\n",
            "7 x 4 = 28\n",
            "7 x 5 = 35\n",
            "7 x 6 = 42\n",
            "7 x 7 = 49\n",
            "-------------\n",
            "8 x 1 = 8\n",
            "8 x 2 = 16\n",
            "8 x 3 = 24\n",
            "8 x 4 = 32\n",
            "8 x 5 = 40\n",
            "8 x 6 = 48\n",
            "8 x 7 = 56\n",
            "8 x 8 = 64\n",
            "-------------\n",
            "9 x 1 = 9\n",
            "9 x 2 = 18\n",
            "9 x 3 = 27\n",
            "9 x 4 = 36\n",
            "9 x 5 = 45\n",
            "9 x 6 = 54\n",
            "9 x 7 = 63\n",
            "9 x 8 = 72\n",
            "9 x 9 = 81\n",
            "-------------\n"
          ]
        }
      ]
    },
    {
      "cell_type": "code",
      "source": [
        "# 같은 결과의 다른 code\n",
        "\n",
        "x = 2\n",
        "while x < 10:\n",
        "    y = 1\n",
        "    while y <= x:\n",
        "        print(f'{x} * {y} = {x*y}')\n",
        "        y += 1\n",
        "    print('-' * 10)\n",
        "    x += 1"
      ],
      "metadata": {
        "colab": {
          "base_uri": "https://localhost:8080/"
        },
        "id": "YQBIm5niEwR5",
        "outputId": "d5cea912-d644-4d96-b355-b98104eb8d69"
      },
      "execution_count": null,
      "outputs": [
        {
          "output_type": "stream",
          "name": "stdout",
          "text": [
            "2 * 1 = 2\n",
            "2 * 2 = 4\n",
            "----------\n",
            "3 * 1 = 3\n",
            "3 * 2 = 6\n",
            "3 * 3 = 9\n",
            "----------\n",
            "4 * 1 = 4\n",
            "4 * 2 = 8\n",
            "4 * 3 = 12\n",
            "4 * 4 = 16\n",
            "----------\n",
            "5 * 1 = 5\n",
            "5 * 2 = 10\n",
            "5 * 3 = 15\n",
            "5 * 4 = 20\n",
            "5 * 5 = 25\n",
            "----------\n",
            "6 * 1 = 6\n",
            "6 * 2 = 12\n",
            "6 * 3 = 18\n",
            "6 * 4 = 24\n",
            "6 * 5 = 30\n",
            "6 * 6 = 36\n",
            "----------\n",
            "7 * 1 = 7\n",
            "7 * 2 = 14\n",
            "7 * 3 = 21\n",
            "7 * 4 = 28\n",
            "7 * 5 = 35\n",
            "7 * 6 = 42\n",
            "7 * 7 = 49\n",
            "----------\n",
            "8 * 1 = 8\n",
            "8 * 2 = 16\n",
            "8 * 3 = 24\n",
            "8 * 4 = 32\n",
            "8 * 5 = 40\n",
            "8 * 6 = 48\n",
            "8 * 7 = 56\n",
            "8 * 8 = 64\n",
            "----------\n",
            "9 * 1 = 9\n",
            "9 * 2 = 18\n",
            "9 * 3 = 27\n",
            "9 * 4 = 36\n",
            "9 * 5 = 45\n",
            "9 * 6 = 54\n",
            "9 * 7 = 63\n",
            "9 * 8 = 72\n",
            "9 * 9 = 81\n",
            "----------\n"
          ]
        }
      ]
    }
  ]
}