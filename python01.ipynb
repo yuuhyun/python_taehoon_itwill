{
  "nbformat": 4,
  "nbformat_minor": 0,
  "metadata": {
    "colab": {
      "provenance": [],
      "toc_visible": true,
      "authorship_tag": "ABX9TyP4L8SC6QCKMjfklnIxdQQS",
      "include_colab_link": true
    },
    "kernelspec": {
      "name": "python3",
      "display_name": "Python 3"
    },
    "language_info": {
      "name": "python"
    }
  },
  "cells": [
    {
      "cell_type": "markdown",
      "metadata": {
        "id": "view-in-github",
        "colab_type": "text"
      },
      "source": [
        "<a href=\"https://colab.research.google.com/github/yuuhyun/python_taehoon_itwill/blob/main/python01.ipynb\" target=\"_parent\"><img src=\"https://colab.research.google.com/assets/colab-badge.svg\" alt=\"Open In Colab\"/></a>"
      ]
    },
    {
      "cell_type": "markdown",
      "source": [
        "# 파이썬 소개"
      ],
      "metadata": {
        "id": "qtDM88TSqrk1"
      }
    },
    {
      "cell_type": "code",
      "execution_count": null,
      "metadata": {
        "colab": {
          "base_uri": "https://localhost:8080/"
        },
        "id": "cHXDrhZ_ocTr",
        "outputId": "141ea366-1586-4197-cde7-d0d8fcbe6d76"
      },
      "outputs": [
        {
          "output_type": "stream",
          "name": "stdout",
          "text": [
            "안녕하세요!\n"
          ]
        }
      ],
      "source": [
        "print('안녕하세요!')"
      ]
    },
    {
      "cell_type": "markdown",
      "source": [
        "## 파이썬 버전 확인"
      ],
      "metadata": {
        "id": "fsdFDnLhrh_k"
      }
    },
    {
      "cell_type": "code",
      "source": [
        "import sys # sys 모듈을 사용.\n",
        "print(sys.version)"
      ],
      "metadata": {
        "colab": {
          "base_uri": "https://localhost:8080/"
        },
        "id": "MJkAaMOhsIG0",
        "outputId": "a310a449-636b-4b42-99c3-2f89823c7842"
      },
      "execution_count": null,
      "outputs": [
        {
          "output_type": "stream",
          "name": "stdout",
          "text": [
            "3.11.12 (main, Apr  9 2025, 08:55:54) [GCC 11.4.0]\n"
          ]
        }
      ]
    },
    {
      "cell_type": "markdown",
      "source": [
        "## 여러가지 print 방법"
      ],
      "metadata": {
        "id": "-8zEeZ99y0M7"
      }
    },
    {
      "cell_type": "code",
      "source": [
        "print(\"Hello, 파이썬!\")\n",
        "#  파이썬은 문자열을 작은따옴표('') 또는 큰따옴표(\"\")를 사용."
      ],
      "metadata": {
        "colab": {
          "base_uri": "https://localhost:8080/"
        },
        "id": "VMvsEKeOy45z",
        "outputId": "49e75473-4149-45de-9a8f-a4516739d2fc"
      },
      "execution_count": null,
      "outputs": [
        {
          "output_type": "stream",
          "name": "stdout",
          "text": [
            "Hello, 파이썬!\n"
          ]
        }
      ]
    },
    {
      "cell_type": "code",
      "source": [
        "print(\"I'm a boy.\")"
      ],
      "metadata": {
        "colab": {
          "base_uri": "https://localhost:8080/"
        },
        "id": "fLBgbaRa0I6D",
        "outputId": "7f058a1d-4a31-4795-fda2-b4952a506da2"
      },
      "execution_count": null,
      "outputs": [
        {
          "output_type": "stream",
          "name": "stdout",
          "text": [
            "I'm a boy.\n"
          ]
        }
      ]
    },
    {
      "cell_type": "code",
      "source": [
        "print('I\\'m a girl')"
      ],
      "metadata": {
        "colab": {
          "base_uri": "https://localhost:8080/"
        },
        "id": "w0As1ImD06IL",
        "outputId": "df70a384-d053-4be9-b9af-05dfdc7082fe"
      },
      "execution_count": null,
      "outputs": [
        {
          "output_type": "stream",
          "name": "stdout",
          "text": [
            "I'm a girl\n"
          ]
        }
      ]
    },
    {
      "cell_type": "code",
      "source": [
        "print('Hello', '안녕', 'Bon jour')"
      ],
      "metadata": {
        "colab": {
          "base_uri": "https://localhost:8080/"
        },
        "id": "ql98Tu2i1l-i",
        "outputId": "749aad96-a230-4cdc-c9f9-bfb5033a237b"
      },
      "execution_count": null,
      "outputs": [
        {
          "output_type": "stream",
          "name": "stdout",
          "text": [
            "Hello 안녕 Bon jour\n"
          ]
        }
      ]
    },
    {
      "cell_type": "markdown",
      "source": [
        "`print()` 함수는 아규먼트(argument)로 전달된 문자열을 화면(콘솔)에 출력.\n",
        "\n",
        "`print()` 함수에 아규먼트 여러개를 전달하면, 각각의 값들을 공백으로 연결해서 출력."
      ],
      "metadata": {
        "id": "ZW21l5J91-br"
      }
    },
    {
      "cell_type": "code",
      "source": [
        "print(1, 2, 3)"
      ],
      "metadata": {
        "colab": {
          "base_uri": "https://localhost:8080/"
        },
        "id": "19WLtN4V3e4L",
        "outputId": "ac7d1e14-8d73-4ef4-e560-e5d3e4d77897"
      },
      "execution_count": null,
      "outputs": [
        {
          "output_type": "stream",
          "name": "stdout",
          "text": [
            "1 2 3\n"
          ]
        }
      ]
    },
    {
      "cell_type": "code",
      "source": [
        "print(1 + 2)"
      ],
      "metadata": {
        "colab": {
          "base_uri": "https://localhost:8080/"
        },
        "id": "3nuuzWle3rsc",
        "outputId": "43cc12c9-b250-488b-b6ee-74b6bbcd4938"
      },
      "execution_count": null,
      "outputs": [
        {
          "output_type": "stream",
          "name": "stdout",
          "text": [
            "3\n"
          ]
        }
      ]
    },
    {
      "cell_type": "code",
      "source": [
        "print(1, '+', 2, '=', 1 + 2)"
      ],
      "metadata": {
        "colab": {
          "base_uri": "https://localhost:8080/"
        },
        "id": "RKZKCc1w4eET",
        "outputId": "befeb970-cf9f-406a-8065-34d9d26fcf06"
      },
      "execution_count": null,
      "outputs": [
        {
          "output_type": "stream",
          "name": "stdout",
          "text": [
            "1 + 2 = 3\n"
          ]
        }
      ]
    },
    {
      "cell_type": "markdown",
      "source": [
        "placeholder 문자열과 `format()`함수를 사용한 print"
      ],
      "metadata": {
        "id": "BgH1tD_d5Lx7"
      }
    },
    {
      "cell_type": "code",
      "source": [
        "print('{} + {} = {}'.format(1, 2, 1 + 2))"
      ],
      "metadata": {
        "colab": {
          "base_uri": "https://localhost:8080/"
        },
        "id": "8dd7y43P4nfj",
        "outputId": "cf903394-7c01-496a-f3f6-52b8a431f809"
      },
      "execution_count": null,
      "outputs": [
        {
          "output_type": "stream",
          "name": "stdout",
          "text": [
            "1 + 2 = 3\n"
          ]
        }
      ]
    },
    {
      "cell_type": "code",
      "source": [
        "print('{x} + {y} = {z}'.format(x=123, y=456, z=123+456))"
      ],
      "metadata": {
        "colab": {
          "base_uri": "https://localhost:8080/"
        },
        "id": "9Ry5lC015btU",
        "outputId": "e35fbb18-ceec-482d-88af-7528a7d1d595"
      },
      "execution_count": null,
      "outputs": [
        {
          "output_type": "stream",
          "name": "stdout",
          "text": [
            "123 + 456 = 579\n"
          ]
        }
      ]
    },
    {
      "cell_type": "markdown",
      "source": [
        " ## 변수 선언, 초기화\n",
        "\n",
        "\n",
        "\n",
        "*   변수(variable) : 값을 저장하는 메모리 공간.\n",
        "*   문법\n",
        "```\n",
        "변수이름 = 값\n",
        "```\n",
        "\n"
      ],
      "metadata": {
        "id": "-bt7w3ivMeuw"
      }
    },
    {
      "cell_type": "code",
      "source": [
        "a = 10 # 변수 a에 값 10을 할당(저장)\n",
        "b = 20 # 변수 b에 값 20을 할당\n",
        "print('a =', a)\n",
        "print('b =', b)"
      ],
      "metadata": {
        "colab": {
          "base_uri": "https://localhost:8080/"
        },
        "id": "5iwAeFqoNDoo",
        "outputId": "92a5d475-eb0d-49ce-e543-1a7db95af2c7"
      },
      "execution_count": null,
      "outputs": [
        {
          "output_type": "stream",
          "name": "stdout",
          "text": [
            "a = 10\n",
            "b = 20\n"
          ]
        }
      ]
    },
    {
      "cell_type": "code",
      "source": [
        "print('{} + {} = {}'.format(a, b, a + b))"
      ],
      "metadata": {
        "colab": {
          "base_uri": "https://localhost:8080/"
        },
        "id": "F_WFX0wMOQDo",
        "outputId": "eaa0152b-e99e-4389-ac76-d595b3d4545d"
      },
      "execution_count": null,
      "outputs": [
        {
          "output_type": "stream",
          "name": "stdout",
          "text": [
            "10 + 20 = 30\n"
          ]
        }
      ]
    },
    {
      "cell_type": "markdown",
      "source": [
        "formatted string(문자열)\n",
        "\n",
        "* 파이썬 3.6 버전부터 제공되는 문법\n",
        "* 문법\n",
        "```\n",
        "f'{변수이름} 문자열 작성 {변수이름}'\n",
        "```"
      ],
      "metadata": {
        "id": "X3RERDWYPeRX"
      }
    },
    {
      "cell_type": "code",
      "source": [
        "print(f'{a} + {b} = {a + b}')"
      ],
      "metadata": {
        "colab": {
          "base_uri": "https://localhost:8080/"
        },
        "id": "qxNdxNoTObAx",
        "outputId": "d225d52c-4b47-4508-f7be-181bb3c9a5e0"
      },
      "execution_count": null,
      "outputs": [
        {
          "output_type": "stream",
          "name": "stdout",
          "text": [
            "10 + 20 = 30\n"
          ]
        }
      ]
    },
    {
      "cell_type": "code",
      "source": [
        "print(f'{a} * {b} = {a * b}')"
      ],
      "metadata": {
        "colab": {
          "base_uri": "https://localhost:8080/"
        },
        "id": "WC7Zi3W6O85o",
        "outputId": "a9279634-fd75-4844-c9c1-8080d730f70d"
      },
      "execution_count": null,
      "outputs": [
        {
          "output_type": "stream",
          "name": "stdout",
          "text": [
            "10 * 20 = 200\n"
          ]
        }
      ]
    },
    {
      "cell_type": "markdown",
      "source": [
        "## `print()` 함수의 파라미터(parameter)\n",
        "\n",
        "* `sep` : separator. 아규먼트와 아규먼트를 구분하는 구분자. 기본값은 공백 1개(' ').\n",
        "* `end` : 아규먼트를 출력한 다음에 마지막에 첨부하는 문자열. 기본값은 줄바꿈('\\n')."
      ],
      "metadata": {
        "id": "Ax_fnV4_QyoY"
      }
    },
    {
      "cell_type": "code",
      "source": [
        "print(1, 2, 3, sep =',')"
      ],
      "metadata": {
        "colab": {
          "base_uri": "https://localhost:8080/"
        },
        "id": "z38jBn4eRjxv",
        "outputId": "7fc5427b-5d21-47bc-cc73-6174cbadbc02"
      },
      "execution_count": null,
      "outputs": [
        {
          "output_type": "stream",
          "name": "stdout",
          "text": [
            "1,2,3\n"
          ]
        }
      ]
    },
    {
      "cell_type": "code",
      "source": [
        "print('안녕하세요.')\n",
        "print('여러분.')"
      ],
      "metadata": {
        "colab": {
          "base_uri": "https://localhost:8080/"
        },
        "id": "gaZbOglSSnjI",
        "outputId": "7406bc7a-183c-47a2-982b-08b47dcf4ec8"
      },
      "execution_count": null,
      "outputs": [
        {
          "output_type": "stream",
          "name": "stdout",
          "text": [
            "안녕하세요.\n",
            "여러분\n"
          ]
        }
      ]
    },
    {
      "cell_type": "code",
      "source": [
        "print('안녕하세요.', end = '::')\n",
        "print('여러분.')"
      ],
      "metadata": {
        "colab": {
          "base_uri": "https://localhost:8080/"
        },
        "id": "uEQnAZ-HTYDg",
        "outputId": "a10da4af-0a44-4af3-ed9e-7bb1fa698f7e"
      },
      "execution_count": null,
      "outputs": [
        {
          "output_type": "stream",
          "name": "stdout",
          "text": [
            "안녕하세요.::여러분.\n"
          ]
        }
      ]
    },
    {
      "cell_type": "markdown",
      "source": [
        "## escape 문자열\n",
        "\n",
        "* `'\\n'` : 줄바꿈 ( new line )\n",
        "* `'\\t'` : 탭 ( tab )"
      ],
      "metadata": {
        "id": "anf82R15UHNQ"
      }
    },
    {
      "cell_type": "code",
      "source": [
        "print('안녕하세요\\n여러분')"
      ],
      "metadata": {
        "colab": {
          "base_uri": "https://localhost:8080/"
        },
        "id": "3k-UaGQIUxEn",
        "outputId": "5eab4359-63c7-475f-8b19-440e50431ca5"
      },
      "execution_count": null,
      "outputs": [
        {
          "output_type": "stream",
          "name": "stdout",
          "text": [
            "안녕하세요\n",
            "여러분\n"
          ]
        }
      ]
    },
    {
      "cell_type": "code",
      "source": [
        "print('안녕하세요\\t여러분')"
      ],
      "metadata": {
        "colab": {
          "base_uri": "https://localhost:8080/"
        },
        "id": "O-JPTD25VMz_",
        "outputId": "3bc18787-65b1-49a9-d3c0-406123b0ee67"
      },
      "execution_count": null,
      "outputs": [
        {
          "output_type": "stream",
          "name": "stdout",
          "text": [
            "안녕하세요\t여러분\n"
          ]
        }
      ]
    }
  ]
}