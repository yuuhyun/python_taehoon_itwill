{
  "nbformat": 4,
  "nbformat_minor": 0,
  "metadata": {
    "colab": {
      "provenance": [],
      "toc_visible": true,
      "authorship_tag": "ABX9TyMnEs+KUW0cVoHz2/cVTpGm",
      "include_colab_link": true
    },
    "kernelspec": {
      "name": "python3",
      "display_name": "Python 3"
    },
    "language_info": {
      "name": "python"
    }
  },
  "cells": [
    {
      "cell_type": "markdown",
      "metadata": {
        "id": "view-in-github",
        "colab_type": "text"
      },
      "source": [
        "<a href=\"https://colab.research.google.com/github/yuuhyun/python_taehoon_itwill/blob/main/20250421_python02.ipynb\" target=\"_parent\"><img src=\"https://colab.research.google.com/assets/colab-badge.svg\" alt=\"Open In Colab\"/></a>"
      ]
    },
    {
      "cell_type": "markdown",
      "source": [
        "# 파이썬 자료 형(Python Data Type)"
      ],
      "metadata": {
        "id": "Yau5NQJ5bYcm"
      }
    },
    {
      "cell_type": "markdown",
      "source": [
        "* 숫자 타입\n",
        "  * 정수 : int\n",
        "  * 실수 : float\n",
        "* 문자열 타입 : str\n",
        "  \n",
        "* 논리 타입 : bull"
      ],
      "metadata": {
        "id": "chhuH_1zbeP1"
      }
    },
    {
      "cell_type": "code",
      "source": [
        "# 변수 n에 정수 123을 저장\n",
        "n = 123\n",
        "#  변수 n을 출력\n",
        "print(n)\n",
        "# 변수 n의 타입을 출력\n",
        "print(type(n))"
      ],
      "metadata": {
        "colab": {
          "base_uri": "https://localhost:8080/"
        },
        "id": "OReBYkR8bdvs",
        "outputId": "5f19620e-1b10-43d5-e799-afe8ddd232e4"
      },
      "execution_count": null,
      "outputs": [
        {
          "output_type": "stream",
          "name": "stdout",
          "text": [
            "123\n",
            "<class 'int'>\n"
          ]
        }
      ]
    },
    {
      "cell_type": "code",
      "source": [
        "pi = 3.141592 # 변수 pi에 값 3.141592를 저장(할당)\n",
        "print(pi) # 변수 pi에 할당된 값을 출력\n",
        "print(type(pi)) # 변수 pi의 타입을 출력"
      ],
      "metadata": {
        "colab": {
          "base_uri": "https://localhost:8080/"
        },
        "id": "4Mch6GIXd1dV",
        "outputId": "e8c7692d-98b4-4048-858d-dfa7a618073f"
      },
      "execution_count": null,
      "outputs": [
        {
          "output_type": "stream",
          "name": "stdout",
          "text": [
            "3.141592\n",
            "<class 'float'>\n"
          ]
        }
      ]
    },
    {
      "cell_type": "code",
      "source": [
        "s = \"안녕하세요\"\n",
        "print(s)\n",
        "print(type(s))"
      ],
      "metadata": {
        "colab": {
          "base_uri": "https://localhost:8080/"
        },
        "id": "brQWpyxTebHk",
        "outputId": "516b8f45-2dfe-4bfb-e0c0-ae13ada58899"
      },
      "execution_count": null,
      "outputs": [
        {
          "output_type": "stream",
          "name": "stdout",
          "text": [
            "안녕하세요\n",
            "<class 'str'>\n"
          ]
        }
      ]
    },
    {
      "cell_type": "markdown",
      "source": [
        "논리 타입 : 참(True) 또는 거짓(False)을 저장하는 타입."
      ],
      "metadata": {
        "id": "-VxmzbT3e9X8"
      }
    },
    {
      "cell_type": "code",
      "source": [
        "b = True\n",
        "print(b)\n",
        "print(type(b))"
      ],
      "metadata": {
        "colab": {
          "base_uri": "https://localhost:8080/"
        },
        "id": "rcI_pw0ffQ1N",
        "outputId": "ce6c2472-4029-47d5-fc62-24c95ea8b6ca"
      },
      "execution_count": null,
      "outputs": [
        {
          "output_type": "stream",
          "name": "stdout",
          "text": [
            "True\n",
            "<class 'bool'>\n"
          ]
        }
      ]
    },
    {
      "cell_type": "code",
      "source": [
        "b = 10 < 5\n",
        "print(b)"
      ],
      "metadata": {
        "colab": {
          "base_uri": "https://localhost:8080/"
        },
        "id": "pEG5jVLjgH3U",
        "outputId": "bb0f753d-d2f5-4619-ffa8-219588a435b1"
      },
      "execution_count": null,
      "outputs": [
        {
          "output_type": "stream",
          "name": "stdout",
          "text": [
            "False\n"
          ]
        }
      ]
    },
    {
      "cell_type": "markdown",
      "source": [
        "# 명시적 타입 변환(explicit type conversion)"
      ],
      "metadata": {
        "id": "P3In6onvhFJE"
      }
    },
    {
      "cell_type": "markdown",
      "source": [
        "*`int(arg)` : 아규먼트로 전달된 값을 정수로 변환하는 함수.\n",
        " * 문자열 -> 정수\n",
        " * 실수 -> 정수\n",
        "\n",
        "*`float(arg)` : 아규먼트로 전달된 값을 실수로 변환하는 함수.\n",
        " * 문자열 -> 실수\n",
        " * 정수 -> 실수\n",
        "\n",
        "*`str(arg)` : 아규먼트로 전달된 값을 문자열로 변환하는 함수.\n",
        " * 정수, 실수, ... -> 문자열"
      ],
      "metadata": {
        "id": "Dbg4rGYUhaaD"
      }
    },
    {
      "cell_type": "code",
      "source": [
        "num_str='1004'\n",
        "print(type(num_str)) #> str\n",
        "num = int(num_str) # 문자열을 정수로 변환해서 변수 num에 저장(할당)\n",
        "print(type(num)) #> int\n",
        "print(num)"
      ],
      "metadata": {
        "colab": {
          "base_uri": "https://localhost:8080/"
        },
        "id": "BWawgncnijXM",
        "outputId": "7de6be3d-83c5-44ac-9edd-24d2a93f12e4"
      },
      "execution_count": null,
      "outputs": [
        {
          "output_type": "stream",
          "name": "stdout",
          "text": [
            "<class 'str'>\n",
            "<class 'int'>\n",
            "1004\n"
          ]
        }
      ]
    },
    {
      "cell_type": "code",
      "source": [
        "pi_int = int(pi)\n",
        "print(type(pi_int))\n",
        "print(pi_int)"
      ],
      "metadata": {
        "colab": {
          "base_uri": "https://localhost:8080/"
        },
        "id": "WerDQT7gjoDT",
        "outputId": "e8171a85-cc83-471f-8e40-f7e91219fe89"
      },
      "execution_count": null,
      "outputs": [
        {
          "output_type": "stream",
          "name": "stdout",
          "text": [
            "<class 'int'>\n",
            "3\n"
          ]
        }
      ]
    },
    {
      "cell_type": "markdown",
      "source": [
        "# 연산자 (Operator)"
      ],
      "metadata": {
        "id": "72_ey6wIpJ76"
      }
    },
    {
      "cell_type": "markdown",
      "source": [
        "## 할당 연산자(assignment operator)\n",
        "* `=` : 오른쪽의 값을 왼쪽의 변수에 할당(저장)"
      ],
      "metadata": {
        "id": "H3HREEFtpMor"
      }
    },
    {
      "cell_type": "markdown",
      "source": [
        "## 산술 연산자(arithmetic operator)\n",
        "* 종류: `+, -, *, /, **, //, %`\n",
        "* 산술 연산자는 일반적으로 숫자 타입(int, float)의 값에서 사용 가능.\n",
        "* 일부 산술 연산자는 문자열과 같은 타입에서도 사용 가능."
      ],
      "metadata": {
        "id": "FJSbgn6Ip3-T"
      }
    },
    {
      "cell_type": "code",
      "source": [
        "x, y = 10, 3\n",
        "print(f'{x} + {y} = {x + y}')\n",
        "print(f'{x} - {y} = {x - y}')\n",
        "print(f'{x} * {y} = {x * y}')\n",
        "print(f'{x} / {y} = {x / y}')\n",
        "print(f'{x}의 {y} 제곱 = {x ** y}') # 거듭제곱 연산자\n",
        "print(f'{x}를 {y}로 나눈 몫 = {x // y}') # 몫 연산자\n",
        "print(f'{x}를 {y}로 나눈 나머지 = {x % y}') # 나머지 연산자"
      ],
      "metadata": {
        "colab": {
          "base_uri": "https://localhost:8080/"
        },
        "id": "MfgVZCEopHTb",
        "outputId": "a43876e2-009e-44d0-8a2e-6ed41fee5361"
      },
      "execution_count": null,
      "outputs": [
        {
          "output_type": "stream",
          "name": "stdout",
          "text": [
            "10 + 3 = 13\n",
            "10 - 3 = 7\n",
            "10 * 3 = 30\n",
            "10 / 3 = 3.3333333333333335\n",
            "10의 3 제곱 = 1000\n",
            "10를 3로 나눈 몫 = 3\n",
            "10를 3로 나눈 나머지 = 1\n"
          ]
        }
      ]
    },
    {
      "cell_type": "markdown",
      "source": [
        "문자열(str)에서 사용할 수 있는 산술 연산자\n",
        "\n",
        "* `+` : concatenate. 문자열 이어붙이기.\n",
        "* `*` : replicate. 문자열 복제."
      ],
      "metadata": {
        "id": "xhA8GrF6tvpi"
      }
    },
    {
      "cell_type": "code",
      "source": [
        "'Hello' + ' Python' # 문자열 + 문자열"
      ],
      "metadata": {
        "colab": {
          "base_uri": "https://localhost:8080/",
          "height": 35
        },
        "id": "gC05OqkPuNay",
        "outputId": "f6d0f910-260b-4918-dc95-c1ffb63bcef5"
      },
      "execution_count": null,
      "outputs": [
        {
          "output_type": "execute_result",
          "data": {
            "text/plain": [
              "'Hello Python'"
            ],
            "application/vnd.google.colaboratory.intrinsic+json": {
              "type": "string"
            }
          },
          "metadata": {},
          "execution_count": 9
        }
      ]
    },
    {
      "cell_type": "code",
      "source": [
        "'Hello' * 5 # 문자열 * 정수"
      ],
      "metadata": {
        "colab": {
          "base_uri": "https://localhost:8080/",
          "height": 35
        },
        "id": "Lkpa7ojAu3m5",
        "outputId": "c12ce1cf-b03f-4f6e-e192-34ab2a8a77aa"
      },
      "execution_count": null,
      "outputs": [
        {
          "output_type": "execute_result",
          "data": {
            "text/plain": [
              "'HelloHelloHelloHelloHello'"
            ],
            "application/vnd.google.colaboratory.intrinsic+json": {
              "type": "string"
            }
          },
          "metadata": {},
          "execution_count": 10
        }
      ]
    },
    {
      "cell_type": "code",
      "source": [
        "'안녕' + str(1) # '안녕' + '1'"
      ],
      "metadata": {
        "colab": {
          "base_uri": "https://localhost:8080/",
          "height": 35
        },
        "id": "JP4D66VBvKn6",
        "outputId": "0008c937-e5c4-4411-b9a1-5a32b719c793"
      },
      "execution_count": null,
      "outputs": [
        {
          "output_type": "execute_result",
          "data": {
            "text/plain": [
              "'안녕1'"
            ],
            "application/vnd.google.colaboratory.intrinsic+json": {
              "type": "string"
            }
          },
          "metadata": {},
          "execution_count": 11
        }
      ]
    },
    {
      "cell_type": "markdown",
      "source": [
        "## 비교 연산자, 논리 연산자\n",
        "* 비교 연산자 : `==, !=, >, >= , <. <=`\n",
        "* 논리 연산자 : `and, or, not`"
      ],
      "metadata": {
        "id": "lGzGoEImv7tK"
      }
    },
    {
      "cell_type": "code",
      "source": [
        "x, y = 100, 200\n",
        "print(x == y) # equal to\n",
        "print(x != y) # not equal to\n",
        "print(x > y) # greater than\n",
        "print(x < y) # less than"
      ],
      "metadata": {
        "colab": {
          "base_uri": "https://localhost:8080/"
        },
        "id": "domlJy7xv3qS",
        "outputId": "862e7b6c-0e29-4a7e-eb52-ac8857642e65"
      },
      "execution_count": null,
      "outputs": [
        {
          "output_type": "stream",
          "name": "stdout",
          "text": [
            "False\n",
            "True\n",
            "False\n",
            "True\n"
          ]
        }
      ]
    },
    {
      "cell_type": "code",
      "source": [
        "print((x > 50) and (x < 150))\n",
        "print((x > 100) and (x < 200))\n",
        "print((x > 100) or (x < 200))"
      ],
      "metadata": {
        "colab": {
          "base_uri": "https://localhost:8080/"
        },
        "id": "NFe9vlqrxolq",
        "outputId": "a4a2812c-bc88-470d-9fae-454ed104e9cf"
      },
      "execution_count": null,
      "outputs": [
        {
          "output_type": "stream",
          "name": "stdout",
          "text": [
            "True\n",
            "False\n",
            "True\n"
          ]
        }
      ]
    },
    {
      "cell_type": "markdown",
      "source": [
        "## 복합 할당 연산자\n",
        "\n",
        "* 종류 : `+=, -=, *=, /=, **=, //=, %=, ...`\n",
        "* 산술 연산자와 할당 연산자를 합쳐서 만들어진 연산자."
      ],
      "metadata": {
        "id": "_SktCVm93bIp"
      }
    },
    {
      "cell_type": "code",
      "source": [
        "x = 10\n",
        "print(x)\n",
        "x = x + 1\n",
        "print(x)"
      ],
      "metadata": {
        "colab": {
          "base_uri": "https://localhost:8080/"
        },
        "id": "LTfGR3D93a0h",
        "outputId": "c7f9e4ef-118e-4ecd-eaa1-83a961cbc846"
      },
      "execution_count": null,
      "outputs": [
        {
          "output_type": "stream",
          "name": "stdout",
          "text": [
            "10\n",
            "11\n"
          ]
        }
      ]
    },
    {
      "cell_type": "code",
      "source": [
        "x = 10\n",
        "print(x)\n",
        "x += 1 # (1). x + 1 계산, (2). (1)의 결과를 변수 x에 저장.\n",
        "print(x)"
      ],
      "metadata": {
        "colab": {
          "base_uri": "https://localhost:8080/"
        },
        "id": "SBgIJhqW5WqR",
        "outputId": "cd503ef7-5d23-43e7-e91a-1dba95c0faef"
      },
      "execution_count": null,
      "outputs": [
        {
          "output_type": "stream",
          "name": "stdout",
          "text": [
            "10\n",
            "11\n"
          ]
        }
      ]
    },
    {
      "cell_type": "markdown",
      "source": [
        "# 콘솔 입력"
      ],
      "metadata": {
        "id": "DSLQPbbK6Ihw"
      }
    },
    {
      "cell_type": "code",
      "source": [
        "name = input('이름을 입력>>> ')\n",
        "print(type(name))\n",
        "print(f'안녕하세요, {name}!')"
      ],
      "metadata": {
        "id": "mkXXCY2A6Evp"
      },
      "execution_count": null,
      "outputs": []
    },
    {
      "cell_type": "markdown",
      "source": [
        "연습문제:\n",
        "* 섭씨 온도를 입력받아서, 화씨 온도로 변환 후 출력하는 코드를 작성\n",
        "* `화씨 = 섭씨 * 1.8 + 32`"
      ],
      "metadata": {
        "id": "Zoh7pyXJ8WIY"
      }
    },
    {
      "cell_type": "code",
      "source": [
        "temp = input('변환하고 싶은 섭씨 온도를 입력해주세요!(숫자만 입력) >>> ')\n",
        "floattemp = float(temp)\n",
        "ftemp = floattemp * 1.8 + 32\n",
        "print(f'입력하신 온도는 화씨 온도로 {ftemp}도 입니다.')"
      ],
      "metadata": {
        "id": "0P7TOSJX8Vow"
      },
      "execution_count": null,
      "outputs": []
    },
    {
      "cell_type": "code",
      "source": [
        "celcius = float(input('섭씨 온도 입력 >>> '))\n",
        "print(f'섭씨 :   {celcius}')\n",
        "fahernheit = celcius * 1.8 + 32\n",
        "print(f'화씨 : {fahernheit}')"
      ],
      "metadata": {
        "id": "kc54IzKx_3-4"
      },
      "execution_count": null,
      "outputs": []
    }
  ]
}